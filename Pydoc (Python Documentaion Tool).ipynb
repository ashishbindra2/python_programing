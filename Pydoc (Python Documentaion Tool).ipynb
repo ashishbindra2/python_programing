{
 "cells": [
  {
   "cell_type": "markdown",
   "id": "7af17fd4",
   "metadata": {},
   "source": [
    "* Single line Comment in python!\n",
    "    - '#' This is single line comment\n",
    "    - `'#' This is`<br>\n",
    "      `'#' multiple line`<br>\n",
    "      `'#' comment`<br>\n",
    "\n",
    "`\"\"\"\n",
    "doc string\n",
    "\"\"\"`\n",
    "\n",
    "`dir()` function just provide list of all names<br>\n",
    "`__author__ = \"Ashish\"`<br>\n",
    "`__copyright__ = 2024 ashish`<br>\n",
    "\n"
   ]
  },
  {
   "cell_type": "markdown",
   "id": "8b9bfb15",
   "metadata": {},
   "source": [
    "### Pydoc => Python Documentation Tool\n",
    "------------------------------------------------\n",
    "\n",
    "+ python -m pydoc math => Not required to import\n",
    "+ `py -m pydoc`\n",
    "+ `py -m pydoc -k url` (k=> keyword)"
   ]
  },
  {
   "cell_type": "markdown",
   "id": "674a9932",
   "metadata": {},
   "source": [
    "### pydoc <name> ...\n",
    "    Show text documentation on something.  <name> may be the name of a\n",
    "    Python keyword, topic, function, module, or package, or a dotted\n",
    "    reference to a class or function within a module or module in a\n",
    "    package."
   ]
  },
  {
   "cell_type": "markdown",
   "id": "49a81eef",
   "metadata": {},
   "source": [
    "### pydoc -k <keyword>\n",
    "    Search for a keyword in the synopsis lines of all available modules.\n",
    "\n",
    "pydoc -n <hostname>\n",
    "    Start an HTTP server with the given hostname (default: localhost).\n"
   ]
  },
  {
   "cell_type": "markdown",
   "id": "c39f5f84",
   "metadata": {},
   "source": [
    "###  If you want see documentation in browser\n",
    "to show reponse to browser complsory HTTP  secure request and port number\n",
    "`HTTp server => port\n",
    "O=> unsed port will considered"
   ]
  },
  {
   "cell_type": "markdown",
   "id": "e2cf5926",
   "metadata": {},
   "source": [
    "### pydoc -p<port> or -b\n",
    "----------------------------\n",
    "    - Start an HTTP server on given port on the local machine\n",
    "    - Port 0 numbrt can be used to get an arbitrary unsed port\n",
    "    "
   ]
  },
  {
   "cell_type": "markdown",
   "id": "abfb2cca",
   "metadata": {},
   "source": [
    "### pydoc -w <name> ...\n",
    "    Write out the HTML documentation for a module to a file in the current\n",
    "    directory."
   ]
  }
 ],
 "metadata": {
  "kernelspec": {
   "display_name": "Python 3 (ipykernel)",
   "language": "python",
   "name": "python3"
  },
  "language_info": {
   "codemirror_mode": {
    "name": "ipython",
    "version": 3
   },
   "file_extension": ".py",
   "mimetype": "text/x-python",
   "name": "python",
   "nbconvert_exporter": "python",
   "pygments_lexer": "ipython3",
   "version": "3.11.5"
  }
 },
 "nbformat": 4,
 "nbformat_minor": 5
}
