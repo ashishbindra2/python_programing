{
 "cells": [
  {
   "cell_type": "markdown",
   "id": "6c2a95da",
   "metadata": {},
   "source": [
    "### Important Interview Question\n",
    "- - -"
   ]
  },
  {
   "cell_type": "markdown",
   "id": "2f29ca34",
   "metadata": {},
   "source": [
    "***Q1. What is the difference between is operator & == operator in Python***\n",
    "\n",
    "    Ans. In general 'is' operator meant for reference comparsion or address compression i.e if two reference are pointing to same object then only is operator returns True.\n",
    "    == operator meants for cntent comparision i.e even though objects are different, if the content is the same then == operator return True"
   ]
  },
  {
   "cell_type": "code",
   "execution_count": 6,
   "id": "95354be5",
   "metadata": {},
   "outputs": [
    {
     "name": "stdout",
     "output_type": "stream",
     "text": [
      "False\n",
      "True\n",
      "True\n"
     ]
    }
   ],
   "source": [
    "l1 = [10,20,30,40]\n",
    "l2 = [10,20,30,40]\n",
    "\n",
    "print(l1 is l2) # False\n",
    "\n",
    "id(l1)\n",
    "id(l2) # id are different\n",
    "\n",
    "print(l1 ==l2) # True\n",
    "\n",
    "l3 = l1\n",
    "\n",
    "print(l1 is l3) # True"
   ]
  },
  {
   "cell_type": "markdown",
   "id": "02b0f9bc",
   "metadata": {},
   "source": [
    "Q2. Explain about Ternary operator or conditional operator?\n",
    "    \n",
    "     x = first_value if condition else second_value\n",
    "       \n",
    "    If condition is True then first value will be considered otherewise second value will be considered.\n",
    "   \n",
    "    "
   ]
  },
  {
   "cell_type": "code",
   "execution_count": null,
   "id": "0723d2b9",
   "metadata": {},
   "outputs": [],
   "source": [
    "#  eg - 1  find Max of 2 given number\n",
    "max = a if a > b else b"
   ]
  },
  {
   "cell_type": "code",
   "execution_count": null,
   "id": "5f712823",
   "metadata": {},
   "outputs": [],
   "source": [
    "# Nesting of ternary operator is possible\n",
    "max a if a>b and a>c else b if b >c else c"
   ]
  },
  {
   "cell_type": "markdown",
   "id": "ee16d3b4",
   "metadata": {},
   "source": [
    "Q3 . What are various in built data types avaliable in python?\n",
    "\n",
    "    first 5 are fundamental data types\n",
    "\n",
    "    1. int\n",
    "    2. float\n",
    "    3. complex   \n",
    "    4. str\n",
    "    5. bool\n",
    "    \n",
    "    6. list\n",
    "    7. touple\n",
    "    8. set\n",
    "    9. dict \n",
    "    10. frozenset\n",
    "    11. bytes\n",
    "    12. bytearray\n",
    "    13. range\n",
    "    \n",
    "\n"
   ]
  },
  {
   "cell_type": "markdown",
   "id": "59f915cd",
   "metadata": {},
   "source": [
    "Q4. Explain mutability and immutability with an example?\n",
    "    \n",
    "- Mutable means changeable where as immutable means non changeable.\n",
    "- Onece we creates an object, if we are allowed to chances its content that object is said to be mutable object\n",
    "    - eg. list object is mutable \n",
    "    - l = [1,2,3,4]\n",
    "    - l[1] = 77\n",
    "- Once we create an object, if we are not allowed to chnage its content then that object is said to be immutable.\n",
    "    - eg \n",
    "      - t = (1,2,3,4)\n",
    "      - t[1] = 777 # typeError\n",
    "    \n",
    "    "
   ]
  },
  {
   "cell_type": "markdown",
   "id": "0fa5833d",
   "metadata": {},
   "source": [
    "Q5. In python which object are mutable and which are immutable\n",
    "ans. All fundamentaldata types are immutable\n",
    "\n",
    "- list -> mutable\n",
    "- touple -> immutable\n",
    "- set -> mutable\n",
    "- Dict -> mutable\n",
    "- frozenset -> immutable\n",
    "- bytes -> immutable\n",
    "- bytearrray ->mutable\n",
    "- range -> immutable\n"
   ]
  },
  {
   "cell_type": "code",
   "execution_count": null,
   "id": "e99d9419",
   "metadata": {},
   "outputs": [],
   "source": [
    "Q.6 Explain the difference b/w list and touple?\n",
    "ans. \n",
    "1. - List is group of comma seperated values with square brackets and sequare braketa are mandatory\n",
    "       ` l= [10,20,30,40]`\n",
    "   - Tuple is a group of comma seprated value within parenthesis and paranthis are optional\n",
    "       - `t = (10,20,30,40)`\n",
    "       - `t = 10,20,30,40`\n",
    "2. - List objects are mutable i.e once we creates list object, we can changes its content\n",
    "        `l[0] = 777`\n",
    "   - Touple objects are immutable i.e once we create touple object,we are not allowed to change its content\n",
    "    `t[0] = 777 # typeError`\n",
    "3. - List object require more memory\n",
    "   - Touple objects require less memory\n",
    "4. - List object won't be reusable\n",
    "   - Touple object are reusable\n",
    "5. - Performance of list is low i.e operation of list object require more time\n",
    "   - Performance of touple is high i.e operations on touple object required less time\n",
    "6. - Comprehension concept is applicable for list\n",
    "    - Comprehension concept is not applicable for touple\n",
    "7. - **list objects are unhashable types and hece we cannot store in set, in dict as key**\n",
    "    - Touple object are hashable type and hence we can store in set and in dict as key\n",
    "8. - If the content is not fixed and keep on changing then it is recommended to go fore list object\n",
    "        - eg to store youtube comments\n",
    "     - if the content is fixed and nerver changes then we should go for touple object\n",
    "         - eg Allowed input value for vender machine\n",
    "9. - Unpacking is possible in list but packing is not possible\n",
    "       - `l = a,b,c,d,e` -> it is not list\n",
    "       - `a,b,c,d,e = l` -> valid\n",
    "    - Both packing and unpacking are possible in touple"
   ]
  },
  {
   "cell_type": "markdown",
   "id": "42630c27",
   "metadata": {},
   "source": [
    "Q7. Q What is the difference between set and frozenset?\n",
    "  * All proerty of set and frozenset are same except the following difference.\n",
    "  * Set is mutable where as frozenset is immutable\n",
    "  * We can add new elements to the set as it is mutable\n",
    "  * As frozenset is mutable, add, remove such type of terminology is nit applicablee."
   ]
  },
  {
   "cell_type": "code",
   "execution_count": 1,
   "id": "168879c5",
   "metadata": {},
   "outputs": [
    {
     "name": "stdout",
     "output_type": "stream",
     "text": [
      "{40, 10, 50, 20, 30}\n"
     ]
    }
   ],
   "source": [
    "# set\n",
    "s = {10, 20, 30, 40}\n",
    "s.add(50)\n",
    "print(s)"
   ]
  },
  {
   "cell_type": "code",
   "execution_count": 4,
   "id": "c985cb3e",
   "metadata": {
    "scrolled": true
   },
   "outputs": [
    {
     "ename": "AttributeError",
     "evalue": "'frozenset' object has no attribute 'add'",
     "output_type": "error",
     "traceback": [
      "\u001b[1;31m---------------------------------------------------------------------------\u001b[0m",
      "\u001b[1;31mAttributeError\u001b[0m                            Traceback (most recent call last)",
      "Cell \u001b[1;32mIn[4], line 4\u001b[0m\n\u001b[0;32m      1\u001b[0m s \u001b[38;5;241m=\u001b[39m {\u001b[38;5;241m10\u001b[39m, \u001b[38;5;241m20\u001b[39m, \u001b[38;5;241m30\u001b[39m, \u001b[38;5;241m40\u001b[39m}\n\u001b[0;32m      3\u001b[0m fs \u001b[38;5;241m=\u001b[39m \u001b[38;5;28mfrozenset\u001b[39m(s)\n\u001b[1;32m----> 4\u001b[0m fs\u001b[38;5;241m.\u001b[39madd(\u001b[38;5;241m50\u001b[39m)\n\u001b[0;32m      5\u001b[0m \u001b[38;5;28mprint\u001b[39m(fs)\n",
      "\u001b[1;31mAttributeError\u001b[0m: 'frozenset' object has no attribute 'add'"
     ]
    }
   ],
   "source": [
    "s = {10, 20, 30, 40}\n",
    "\n",
    "fs = frozenset(s)\n",
    "fs.add(50)\n",
    "print(fs) # Attribute error "
   ]
  },
  {
   "cell_type": "markdown",
   "id": "7b92bc87",
   "metadata": {},
   "source": [
    "#### Q8. What is different between List and Dist ?\n",
    "|  S.No |     List                                         |   Dict                                               |\n",
    "| ----- |:------------------------------------------------:| ----------------------------------------------------:|\n",
    "|1      | List is group of a comma sepaarated invidiual    | Dict is a group of comma separated key - value pair  |\n",
    "|       | objects within square brackets                   | courly bracy `d = {'A': 'APPLE;}`                    |  \n",
    "|       | eg `l = [10, 20, 30] `                           |                                                      |\n",
    "| 2     | Insertion order is preserved                     | In dict,all key -value pair will be stored based on  |\n",
    "|       |                                                  | hashcode of key & hence insertion order is not       |             |       |                                                  | preserved but from 3.7 version onwords the dict      |              |       |                                                  | functionality internally replaced with ordered dict  |\n",
    "|       |                                                  | functionality. 'Hence from 3.7 version onwords in the|\n",
    "|       |                                                  | case of normal dict also insertion order can be      |\n",
    "|       |                                                  | guranted.                                            |\n",
    "\n",
    "\n"
   ]
  },
  {
   "cell_type": "markdown",
   "id": "4a52387f",
   "metadata": {},
   "source": [
    "3. - In List,, DUplicate object are allowed\n",
    "   - In Dict, Duplicate keys are not allowed, but values can be dublicated. if we are trying to add an entry with\n",
    "   key-value with dublicate key then old value will be replaced with new value\n",
    "   \n",
    "4. - In list we can access objects by using index,which is zero based i.e index of dirst object is zero\n",
    "   - In dict we can access value by using keys\n",
    "\n",
    "5. - In list objects need not be hashable\n",
    "   - but IB DIct, key must be hashable\n"
   ]
  },
  {
   "cell_type": "markdown",
   "id": "67b1288b",
   "metadata": {},
   "source": [
    "#### Q9. What is the difference between List and Set?\n",
    "1. - List is a group of comma seprated individual objects with in square brackets eg `l = [10,20,30]`\n",
    "   - Set is a group of comma seprated individaul object with in curly brakets eg `l = {10,20,30}`\n",
    "2. - Duplicate objects are allowed.\n",
    "   - Duplicate objects are not allowed\n",
    "3. - Insertion order is presved\n",
    "   - Insertion order is not presved objects will be inserted based on hashcode.\n",
    "4. - Object need not hashable.\n",
    "   - Object should be hashable.\n",
    "5  - Indexing and slicing concepts are applicable for list.\n",
    "   - Indexing and slicing concept are not applicable for set"
   ]
  },
  {
   "cell_type": "markdown",
   "id": "30101934",
   "metadata": {},
   "source": [
    "#### Q10. Explain Slice Operator and its syntax?\n",
    "If we want to access part(piece or slice) of given sequence, then we should go for slice operator. The sequence can be string ot list or touplce etc.\n",
    "\n",
    "#### Syntax\n",
    "---------\n",
    "\n",
    "***s[begin: end: step]***\n",
    "- Step value can be either postive or negative (but not zero)\n",
    "- If step value is postive, then we have consider from begin index to end-1 index in forword direction\n",
    "- If step values is negative, then we have to consider from begin index to end +1 index backword direction.\n",
    "\n",
    "***NOTE:***\n",
    "* In forword direction if end value is 0, then the result is always empty.\n",
    "* In bakword direction if end value is -1, then the result is always empty.\n",
    "    eg s='abcdefghij'\n",
    "    s[1:6:2]--> 'bdf'\n",
    "    s[7:4:-1]--> 'hgf'"
   ]
  },
  {
   "cell_type": "code",
   "execution_count": 6,
   "id": "51266e24",
   "metadata": {},
   "outputs": [
    {
     "name": "stdout",
     "output_type": "stream",
     "text": [
      "bdf\n"
     ]
    },
    {
     "data": {
      "text/plain": [
       "'hgf'"
      ]
     },
     "execution_count": 6,
     "metadata": {},
     "output_type": "execute_result"
    }
   ],
   "source": [
    "s='abcdefghij'\n",
    "print(s[1:6:2])\n",
    "s[7:4:-1]"
   ]
  },
  {
   "cell_type": "markdown",
   "id": "9f1bc69c",
   "metadata": {},
   "source": [
    "#### Q11 Whar is the diffterent between *args and **kwargs\n",
    "\n",
    "* *args -> variable length arguments\n",
    "\n",
    "    `def f1(*args):`<br>\n",
    "    `    pass`<br>\n",
    "    `f1(*args)`<br>\n",
    "    \n",
    "* If a function with *args argument, then we can call that function by passing any number of values including zero number with all these values tuple will be created.\n",
    "\n",
    "    `def f1(*args):`<br>\n",
    "        `print(args)`<br>\n",
    "     `f1(),f1(10),f1(10,20).....`<br>\n",
    "\n",
    "* **kwargs -> Variable length keyword arguments\n",
    " ` f(**kwargs):\n",
    " - We can call this function by passing any number of keyword arguments including zero number and with all these keyword arguments a dictionary will be created.\n",
    "     `def f1(**kwargs)`<br>\n",
    "         `print(kwargs)`<br>\n",
    "     `f1('name'='d','roll'=101)`\n",
    "\n"
   ]
  },
  {
   "cell_type": "markdown",
   "id": "7cccf568",
   "metadata": {},
   "source": [
    "#### Q12 How to reverse string by using slice opertor?\n",
    "`s[::-1]`"
   ]
  },
  {
   "cell_type": "markdown",
   "id": "8ff70eda",
   "metadata": {},
   "source": [
    "#### Q What is different between `dir()` and `help()` function?\n",
    "- dir()\n",
    "    - dir() function just list out all members module But help() function provides documentation related to that module\n",
    "    \n",
    "        `import math`<br>\n",
    "        \n",
    "        `print(dir(math))`# return list of all member\n",
    "- help(math)<br>\n",
    "\n",
    "`print(dir())` # curent module information\n",
    "\n",
    "***Note:*** \n",
    "- ***dir()*** => Without argument, it will list out all members of specified module.\n",
    "- ***dir(module_name)*** => With argumetn, it will list out all members of specified module\n",
    "    "
   ]
  },
  {
   "cell_type": "code",
   "execution_count": 1,
   "id": "a90a9473",
   "metadata": {},
   "outputs": [
    {
     "name": "stdout",
     "output_type": "stream",
     "text": [
      "['__doc__', '__loader__', '__name__', '__package__', '__spec__', 'acos', 'acosh', 'asin', 'asinh', 'atan', 'atan2', 'atanh', 'cbrt', 'ceil', 'comb', 'copysign', 'cos', 'cosh', 'degrees', 'dist', 'e', 'erf', 'erfc', 'exp', 'exp2', 'expm1', 'fabs', 'factorial', 'floor', 'fmod', 'frexp', 'fsum', 'gamma', 'gcd', 'hypot', 'inf', 'isclose', 'isfinite', 'isinf', 'isnan', 'isqrt', 'lcm', 'ldexp', 'lgamma', 'log', 'log10', 'log1p', 'log2', 'modf', 'nan', 'nextafter', 'perm', 'pi', 'pow', 'prod', 'radians', 'remainder', 'sin', 'sinh', 'sqrt', 'tan', 'tanh', 'tau', 'trunc', 'ulp']\n"
     ]
    }
   ],
   "source": [
    "# eg1\n",
    "import math\n",
    "\n",
    "print(dir(math))"
   ]
  },
  {
   "cell_type": "code",
   "execution_count": 2,
   "id": "254156dc",
   "metadata": {},
   "outputs": [
    {
     "name": "stdout",
     "output_type": "stream",
     "text": [
      "['In', 'Out', '_', '__', '___', '__builtin__', '__builtins__', '__doc__', '__loader__', '__name__', '__package__', '__spec__', '_dh', '_i', '_i1', '_i2', '_ih', '_ii', '_iii', '_oh', 'exit', 'get_ipython', 'math', 'open', 'quit']\n"
     ]
    }
   ],
   "source": [
    "print(dir())"
   ]
  },
  {
   "cell_type": "markdown",
   "id": "49feb38c",
   "metadata": {},
   "source": [
    "#### Q What is lambda function or Anonymous function?\n",
    "* Sometines we can declare afunction without any name, such type of nameless functions are called anonymous functions or lambda functions.\n",
    "* The main objective of anonymous dunction is just for instant use\n",
    "\n",
    "#### ***Normal Function***\n",
    "---------------------\n",
    "We can define function by using def keyword.\n",
    "`def sqareit(n):`<br>\n",
    "    `return n*n`<br>\n",
    "\n",
    "#### ***Lamda Function***\n",
    "---------------------\n",
    "we can define anonymous function by using lamda keyword."
   ]
  },
  {
   "cell_type": "code",
   "execution_count": null,
   "id": "45d977a4",
   "metadata": {},
   "outputs": [],
   "source": []
  },
  {
   "cell_type": "markdown",
   "id": "07f8892a",
   "metadata": {},
   "source": [
    "https://github.com/learning-zone/python-basics"
   ]
  }
 ],
 "metadata": {
  "kernelspec": {
   "display_name": "Python 3 (ipykernel)",
   "language": "python",
   "name": "python3"
  },
  "language_info": {
   "codemirror_mode": {
    "name": "ipython",
    "version": 3
   },
   "file_extension": ".py",
   "mimetype": "text/x-python",
   "name": "python",
   "nbconvert_exporter": "python",
   "pygments_lexer": "ipython3",
   "version": "3.11.5"
  }
 },
 "nbformat": 4,
 "nbformat_minor": 5
}
