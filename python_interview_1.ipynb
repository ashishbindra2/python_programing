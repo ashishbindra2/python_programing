{
 "cells": [
  {
   "cell_type": "markdown",
   "id": "6c2a95da",
   "metadata": {},
   "source": [
    "### Important Interview Question\n",
    "- - -"
   ]
  },
  {
   "cell_type": "markdown",
   "id": "2f29ca34",
   "metadata": {},
   "source": [
    "***Q1. What is the difference between is operator & == operator in Python***\n",
    "\n",
    "    Ans. In general 'is' operator meant for reference comparsion or address compression i.e if two reference are pointing to same object then only is operator returns True.\n",
    "    == operator meants for cntent comparision i.e even though objects are different, if the content is the same then == operator return True"
   ]
  },
  {
   "cell_type": "code",
   "execution_count": 6,
   "id": "95354be5",
   "metadata": {},
   "outputs": [
    {
     "name": "stdout",
     "output_type": "stream",
     "text": [
      "False\n",
      "True\n",
      "True\n"
     ]
    }
   ],
   "source": [
    "l1 = [10,20,30,40]\n",
    "l2 = [10,20,30,40]\n",
    "\n",
    "print(l1 is l2) # False\n",
    "\n",
    "id(l1)\n",
    "id(l2) # id are different\n",
    "\n",
    "print(l1 ==l2) # True\n",
    "\n",
    "l3 = l1\n",
    "\n",
    "print(l1 is l3) # True"
   ]
  },
  {
   "cell_type": "markdown",
   "id": "02b0f9bc",
   "metadata": {},
   "source": [
    "Q2. Explain about Ternary operator or conditional operator?\n",
    "    \n",
    "     x = first_value if condition else second_value\n",
    "       \n",
    "    If condition is True then first value will be considered otherewise second value will be considered.\n",
    "   \n",
    "    "
   ]
  },
  {
   "cell_type": "code",
   "execution_count": null,
   "id": "0723d2b9",
   "metadata": {},
   "outputs": [],
   "source": [
    "#  eg - 1  find Max of 2 given number\n",
    "max = a if a > b else b"
   ]
  },
  {
   "cell_type": "code",
   "execution_count": null,
   "id": "5f712823",
   "metadata": {},
   "outputs": [],
   "source": [
    "# Nesting of ternary operator is possible\n",
    "max a if a>b and a>c else b if b >c else c"
   ]
  },
  {
   "cell_type": "markdown",
   "id": "ee16d3b4",
   "metadata": {},
   "source": [
    "Q3 . What are various in built data types avaliable in python?\n",
    "\n",
    "    first 5 are fundamental data types\n",
    "\n",
    "    1. int\n",
    "    2. float\n",
    "    3. complex   \n",
    "    4. str\n",
    "    5. bool\n",
    "    \n",
    "    6. list\n",
    "    7. touple\n",
    "    8. set\n",
    "    9. dict \n",
    "    10. frozenset\n",
    "    11. bytes\n",
    "    12. bytearray\n",
    "    13. range\n",
    "    \n",
    "\n"
   ]
  },
  {
   "cell_type": "markdown",
   "id": "59f915cd",
   "metadata": {},
   "source": [
    "Q4. Explain mutability and immutability with an example?\n",
    "    \n",
    "- Mutable means changeable where as immutable means non changeable.\n",
    "- Onece we creates an object, if we are allowed to chances its content that object is said to be mutable object\n",
    "    - eg. list object is mutable \n",
    "    - l = [1,2,3,4]\n",
    "    - l[1] = 77\n",
    "- Once we create an object, if we are not allowed to chnage its content then that object is said to be immutable.\n",
    "    - eg \n",
    "      - t = (1,2,3,4)\n",
    "      - t[1] = 777 # typeError\n",
    "    \n",
    "    "
   ]
  },
  {
   "cell_type": "markdown",
   "id": "0fa5833d",
   "metadata": {},
   "source": [
    "Q5. In python which object are mutable and which are immutable\n",
    "ans. All fundamentaldata types are immutable\n",
    "\n",
    "- list -> mutable\n",
    "- touple -> immutable\n",
    "- set -> mutable\n",
    "- Dict -> mutable\n",
    "- frozenset -> immutable\n",
    "- bytes -> immutable\n",
    "- bytearrray ->mutable\n",
    "- range -> immutable\n"
   ]
  },
  {
   "cell_type": "markdown",
   "id": "71d7c191",
   "metadata": {},
   "source": [
    "Q.6 Explain the difference b/w list and touple?\n",
    "ans. \n",
    "1. - List is group of comma seperated values with square brackets and sequare braketa are mandatory\n",
    "       ` l= [10,20,30,40]`\n",
    "   - Tuple is a group of comma seprated value within parenthesis and paranthis are optional\n",
    "       - `t = (10,20,30,40)`\n",
    "       - `t = 10,20,30,40`\n",
    "2. - List objects are mutable i.e once we creates list object, we can changes its content\n",
    "        `l[0] = 777`\n",
    "   - Touple objects are immutable i.e once we create touple object,we are not allowed to change its content\n",
    "    `t[0] = 777 # typeError`\n",
    "3. - List object require more memory\n",
    "   - Touple objects require less memory\n",
    "4. - List object won't be reusable\n",
    "   - Touple object are reusable\n",
    "5. - Performance of list is low i.e operation of list object require more time\n",
    "   - Performance of touple is high i.e operations on touple object required less time\n",
    "6. - Comprehension concept is applicable for list\n",
    "    - Comprehension concept is not applicable for touple\n",
    "7. - **list objects are unhashable types and hece we cannot store in set, in dict as key**\n",
    "    - Touple object are hashable type and hence we can store in set and in dict as key\n",
    "8. - If the content is not fixed and keep on changing then it is recommended to go fore list object\n",
    "        - eg to store youtube comments\n",
    "     - if the content is fixed and nerver changes then we should go for touple object\n",
    "         - eg Allowed input value for vender machine\n",
    "9. - Unpacking is possible in list but packing is not possible\n",
    "       - `l = a,b,c,d,e` -> it is not list\n",
    "       - `a,b,c,d,e = l` -> valid\n",
    "    - Both packing and unpacking are possible in touple"
   ]
  },
  {
   "cell_type": "code",
   "execution_count": null,
   "id": "c21174ce",
   "metadata": {},
   "outputs": [],
   "source": [
    "Q7. "
   ]
  },
  {
   "cell_type": "markdown",
   "id": "07f8892a",
   "metadata": {},
   "source": [
    "https://github.com/learning-zone/python-basics"
   ]
  }
 ],
 "metadata": {
  "kernelspec": {
   "display_name": "Python 3 (ipykernel)",
   "language": "python",
   "name": "python3"
  },
  "language_info": {
   "codemirror_mode": {
    "name": "ipython",
    "version": 3
   },
   "file_extension": ".py",
   "mimetype": "text/x-python",
   "name": "python",
   "nbconvert_exporter": "python",
   "pygments_lexer": "ipython3",
   "version": "3.11.5"
  }
 },
 "nbformat": 4,
 "nbformat_minor": 5
}
