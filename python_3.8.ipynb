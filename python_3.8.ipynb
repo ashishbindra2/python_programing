{
 "cells": [
  {
   "cell_type": "markdown",
   "id": "a7440f53",
   "metadata": {},
   "source": [
    "# python 3.8 version enhasment "
   ]
  },
  {
   "cell_type": "markdown",
   "id": "85dbb81b",
   "metadata": {},
   "source": [
    "### The 3.8 version new features:\n",
    "\n",
    "1. Warlous Operator\n",
    "2. Postional only Parameters\n",
    "3. Fstring Support\n",
    "4. iSqrt function\n",
    "5. continue with finally\n",
    "6. reversed dictionary\n",
    "7. syntax warning"
   ]
  },
  {
   "cell_type": "markdown",
   "id": "5b98edb2",
   "metadata": {},
   "source": [
    "#### python 3.8 version enhasment  related to f-string:\n",
    "* We can use = symbol f-string for self documentating expressions and it is useful for debugging purposes."
   ]
  },
  {
   "cell_type": "code",
   "execution_count": 10,
   "id": "ab0d925b",
   "metadata": {},
   "outputs": [
    {
     "name": "stdout",
     "output_type": "stream",
     "text": [
      "x = 10\n",
      "y = 10\n"
     ]
    }
   ],
   "source": [
    "x = 10\n",
    "y = 10\n",
    "print(f'{x = }')  # => print(f'x = {x}')\n",
    "print(f'{y = }')  # => print(f'y = {y}')"
   ]
  },
  {
   "cell_type": "markdown",
   "id": "50622c9a",
   "metadata": {},
   "source": [
    "* We can also use walrus operator (`:=`) inside f-string:"
   ]
  },
  {
   "cell_type": "code",
   "execution_count": 2,
   "id": "6b092832",
   "metadata": {},
   "outputs": [
    {
     "name": "stdout",
     "output_type": "stream",
     "text": [
      "The Area of circle with radius 20 is 175399135921.65387\n"
     ]
    }
   ],
   "source": [
    "import math\n",
    "\n",
    "half_radious = 10\n",
    "\n",
    "print(f'The Area of circle with radius {(r := 2 * half_radious)} is {math.pi ** r*r }')"
   ]
  },
  {
   "cell_type": "markdown",
   "id": "dbc3423f",
   "metadata": {},
   "source": [
    "***Note:*** `()` -> This is important in walrous operator in this example other wise we will get error."
   ]
  },
  {
   "cell_type": "code",
   "execution_count": 9,
   "id": "2c1a4abd",
   "metadata": {},
   "outputs": [
    {
     "ename": "NameError",
     "evalue": "name 'r' is not defined",
     "output_type": "error",
     "traceback": [
      "\u001b[1;31m---------------------------------------------------------------------------\u001b[0m",
      "\u001b[1;31mNameError\u001b[0m                                 Traceback (most recent call last)",
      "Cell \u001b[1;32mIn[9], line 1\u001b[0m\n\u001b[1;32m----> 1\u001b[0m \u001b[38;5;28mprint\u001b[39m(\u001b[38;5;124mf\u001b[39m\u001b[38;5;124m'\u001b[39m\u001b[38;5;124mThe Area of circle with radius \u001b[39m\u001b[38;5;132;01m{\u001b[39;00mr\u001b[38;5;250m \u001b[39m\u001b[38;5;132;01m:\u001b[39;00m\u001b[38;5;124m= 2 * half_radious\u001b[39m\u001b[38;5;132;01m}\u001b[39;00m\u001b[38;5;124m is \u001b[39m\u001b[38;5;132;01m{\u001b[39;00mmath\u001b[38;5;241m.\u001b[39mpi\u001b[38;5;250m \u001b[39m\u001b[38;5;241m*\u001b[39m\u001b[38;5;241m*\u001b[39m\u001b[38;5;250m \u001b[39mr\u001b[38;5;241m*\u001b[39mr\u001b[38;5;250m \u001b[39m\u001b[38;5;132;01m}\u001b[39;00m\u001b[38;5;124m'\u001b[39m)\n",
      "\u001b[1;31mNameError\u001b[0m: name 'r' is not defined"
     ]
    }
   ],
   "source": [
    "print(f'The Area of circle with radius {r := 2 * half_radious} is {math.pi ** r*r }')"
   ]
  },
  {
   "cell_type": "markdown",
   "id": "5a508dfd",
   "metadata": {},
   "source": [
    "* f - string can in python 3.6 version but `=` and `:=` operator are allowed inside f-string in python 3.8 version"
   ]
  },
  {
   "cell_type": "markdown",
   "id": "0aeecd4d",
   "metadata": {},
   "source": [
    "* `%` -> formating and `str.formate()` ***Not Recommanded***."
   ]
  },
  {
   "cell_type": "markdown",
   "id": "d2306d6c",
   "metadata": {},
   "source": [
    "f string \n",
    "-------\n",
    "- has performance\n",
    "- concise\n",
    "- less verbose\n",
    "- more readable"
   ]
  },
  {
   "cell_type": "code",
   "execution_count": 3,
   "id": "5a4126f9",
   "metadata": {},
   "outputs": [
    {
     "name": "stdout",
     "output_type": "stream",
     "text": [
      "Information-------> Name: ashish, RollNo: 101, Marks: 80\n",
      "Information-------> Name: ashish, RollNo: 101, Marks: 80\n",
      "Information-------> Student Name: ashish, Student RollNo: 101, Student Marks: 80\n"
     ]
    }
   ],
   "source": [
    "class Student:\n",
    "    def __init__(self, name, rollno, marks):\n",
    "        self.name = name\n",
    "        self.rollno = rollno\n",
    "        self.marks = marks\n",
    "    def __str__(self):\n",
    "        return f'Name: {self.name}, RollNo: {self.rollno}, Marks: {self.marks}'\n",
    "    \n",
    "    def __repr__(self):\n",
    "        return f'Student Name: {self.name}, Student RollNo: {self.rollno}, Student Marks: {self.marks}'\n",
    "\n",
    "s = Student('ashish',101,80)\n",
    "print('Information-------> {}'.format(s))\n",
    "print(f'Information-------> {s}')\n",
    "print(f'Information-------> {s!r}')"
   ]
  },
  {
   "cell_type": "markdown",
   "id": "6030cc43",
   "metadata": {},
   "source": [
    "#### Expression inside f-string :\n",
    "We can pass expression inside f-string and those expressions will be evaluated at runtime\n",
    "{8*8}"
   ]
  },
  {
   "cell_type": "code",
   "execution_count": 4,
   "id": "c1e0fd6a",
   "metadata": {},
   "outputs": [
    {
     "name": "stdout",
     "output_type": "stream",
     "text": [
      "{64}\n"
     ]
    }
   ],
   "source": [
    "print({8*8})"
   ]
  },
  {
   "cell_type": "markdown",
   "id": "8e3bd177",
   "metadata": {},
   "source": [
    "#### How to use curly braces inside f-string:\n",
    "- { => replacement operator\n",
    "- {{=> it is simple of '{'"
   ]
  },
  {
   "cell_type": "code",
   "execution_count": 6,
   "id": "ab933fd1",
   "metadata": {},
   "outputs": [
    {
     "name": "stdout",
     "output_type": "stream",
     "text": [
      "{ is special symbol \n"
     ]
    }
   ],
   "source": [
    "print(f'{{ is special symbol ')\n"
   ]
  },
  {
   "cell_type": "code",
   "execution_count": 8,
   "id": "ae2644b9",
   "metadata": {
    "scrolled": false
   },
   "outputs": [
    {
     "ename": "SyntaxError",
     "evalue": "f-string: expecting '}' (1540249583.py, line 1)",
     "output_type": "error",
     "traceback": [
      "\u001b[1;36m  Cell \u001b[1;32mIn[8], line 1\u001b[1;36m\u001b[0m\n\u001b[1;33m    print(f'{{{ is special symbol ')\u001b[0m\n\u001b[1;37m                                   ^\u001b[0m\n\u001b[1;31mSyntaxError\u001b[0m\u001b[1;31m:\u001b[0m f-string: expecting '}'\n"
     ]
    }
   ],
   "source": [
    "print(f'{{{ is special symbol ')"
   ]
  },
  {
   "cell_type": "markdown",
   "id": "f16339a1",
   "metadata": {},
   "source": [
    "#### same is applicable for } only"
   ]
  },
  {
   "cell_type": "markdown",
   "id": "7a0286b7",
   "metadata": {},
   "source": [
    "#### New Syntax Warning in python 3.8 version:\n",
    "- In python warning are Exception\n",
    "- Python has a syntaxWarning that can warn about doubtful syntax,that is typically not syntaxerror\n"
   ]
  },
  {
   "cell_type": "markdown",
   "id": "da76c9e9",
   "metadata": {},
   "source": [
    "  `BaseException`<br>\n",
    "  `    |-----Exception`<br>\n",
    "  `            |---warning`<br>\n",
    "  `                  |-----SynatxWarning`<br>\n",
    " \n",
    " 1. `is` and `is not` opertotd for numberd snf dtring\n",
    " 2. ehilr creating larger collections,we are miss,"
   ]
  },
  {
   "cell_type": "markdown",
   "id": "9e224a50",
   "metadata": {},
   "source": [
    "### is and is not operators for numbers and strings\n",
    "\n",
    "is operator vs == operator\n",
    "\n",
    "- is operator meant for reference comparsion\n",
    "- == operator meant for content comparsion\n",
    "<br>\n",
    " `l1 = [10,20,30,40]`<br>\n",
    " `l2 = [10,20,30,40]`<br> \n",
    " `print(l1 is l2)`<br> \n",
    " `print(l1 == l2)`<br> \n",
    " - A new SyntaxWarning added extraa in 3.8 version which will be raised if we use is and is not operator for number and string literals.\n",
    " - It is highly recommended to use == operator instead of is for literal comparsion.\n",
    " - While creating large collections, we may miss ',' to alert this, a new syntax warning was added to Python 3.8."
   ]
  },
  {
   "cell_type": "code",
   "execution_count": 12,
   "id": "7cf1d331",
   "metadata": {},
   "outputs": [
    {
     "name": "stdout",
     "output_type": "stream",
     "text": [
      "True\n"
     ]
    },
    {
     "name": "stderr",
     "output_type": "stream",
     "text": [
      "<>:1: SyntaxWarning: \"is\" with a literal. Did you mean \"==\"?\n",
      "<>:1: SyntaxWarning: \"is\" with a literal. Did you mean \"==\"?\n",
      "C:\\Users\\Bindra\\AppData\\Local\\Temp\\ipykernel_18796\\1741634543.py:1: SyntaxWarning: \"is\" with a literal. Did you mean \"==\"?\n",
      "  print(6 is 6)\n"
     ]
    }
   ],
   "source": [
    "print(6 is 6)"
   ]
  },
  {
   "cell_type": "code",
   "execution_count": 13,
   "id": "f4841c42",
   "metadata": {
    "scrolled": false
   },
   "outputs": [
    {
     "name": "stdout",
     "output_type": "stream",
     "text": [
      "False\n"
     ]
    },
    {
     "name": "stderr",
     "output_type": "stream",
     "text": [
      "<>:1: SyntaxWarning: \"is\" with a literal. Did you mean \"==\"?\n",
      "<>:1: SyntaxWarning: \"is\" with a literal. Did you mean \"==\"?\n",
      "C:\\Users\\Bindra\\AppData\\Local\\Temp\\ipykernel_18796\\4249432473.py:1: SyntaxWarning: \"is\" with a literal. Did you mean \"==\"?\n",
      "  print('a' is ' a')\n"
     ]
    }
   ],
   "source": [
    "print('a' is ' a')"
   ]
  },
  {
   "cell_type": "code",
   "execution_count": null,
   "id": "2dbc753c",
   "metadata": {},
   "outputs": [],
   "source": []
  },
  {
   "cell_type": "code",
   "execution_count": null,
   "id": "7fd35eb7",
   "metadata": {},
   "outputs": [],
   "source": []
  },
  {
   "cell_type": "markdown",
   "id": "6c6dda02",
   "metadata": {},
   "source": [
    "- python 3.8  = > oct 14 2019\n",
    "- python 3.9  = > oct 5 2020\n",
    "\n",
    "More flexibility to programmer with new features"
   ]
  },
  {
   "cell_type": "markdown",
   "id": "8bd47ba9",
   "metadata": {},
   "source": [
    "#### 1. The Warlus operator:(sea hourse)\n",
    "Syntax `:=`\n",
    "- This operator released as the part of PEP 577 \n",
    "- PEP => Python Enhancement Proposals\n",
    "\n",
    "- To assign values to the variable as the oasrt of expression itself"
   ]
  },
  {
   "cell_type": "code",
   "execution_count": 2,
   "id": "bd185e5e",
   "metadata": {},
   "outputs": [
    {
     "name": "stdout",
     "output_type": "stream",
     "text": [
      "List conatins more than 3 element\n",
      "The length of the list is 6\n"
     ]
    }
   ],
   "source": [
    "# Assignment Expression\n",
    "num = [10,20,30,40,50,60]\n",
    "length = len(num)\n",
    "\n",
    "if length > 3:\n",
    "    print('List conatins more than 3 element')\n",
    "    print('The length of the list is', length)"
   ]
  },
  {
   "cell_type": "code",
   "execution_count": 3,
   "id": "97292c8c",
   "metadata": {},
   "outputs": [
    {
     "name": "stdout",
     "output_type": "stream",
     "text": [
      "List conatins more than 3 element\n",
      "The length of the list is 6\n"
     ]
    }
   ],
   "source": [
    "num = [10,20,30,40,50,60]\n",
    "\n",
    "if (n:=len(num)) > 3:\n",
    "    print('List conatins more than 3 element')\n",
    "    print('The length of the list is', length)\n",
    "        "
   ]
  },
  {
   "cell_type": "code",
   "execution_count": 5,
   "id": "13402333",
   "metadata": {},
   "outputs": [
    {
     "name": "stdout",
     "output_type": "stream",
     "text": [
      "Enter your Favourit Herione ash\n",
      "Enter your Favourit Herione kapoor\n",
      "Enter your Favourit Herione sunny\n",
      "Enter your Favourit Herione done\n",
      "['ash', 'kapoor', 'sunny']\n"
     ]
    }
   ],
   "source": [
    "# Example 2\n",
    "heriones = []\n",
    "\n",
    "herion = input('Enter your Favourit Herione ')\n",
    "\n",
    "while herion != 'done':\n",
    "    heriones.append(herion)\n",
    "    herion = input('Enter your Favourit Herione ')\n",
    "\n",
    "print(heriones)"
   ]
  },
  {
   "cell_type": "code",
   "execution_count": 7,
   "id": "d421a1b5",
   "metadata": {
    "scrolled": true
   },
   "outputs": [
    {
     "name": "stdout",
     "output_type": "stream",
     "text": [
      "Enter your Favourit Herione ash\n",
      "Enter your Favourit Herione sunny\n",
      "Enter your Favourit Herione done\n",
      "['ash', 'sunny']\n"
     ]
    }
   ],
   "source": [
    "heriones = []\n",
    "\n",
    "while (herion := input('Enter your Favourit Herione '))!= 'done':\n",
    "    heriones.append(herion)\n",
    "\n",
    "print(heriones)"
   ]
  },
  {
   "cell_type": "code",
   "execution_count": 9,
   "id": "20cf7b3d",
   "metadata": {
    "scrolled": true
   },
   "outputs": [
    {
     "name": "stdout",
     "output_type": "stream",
     "text": [
      "The Walrus Operator is a new addition to Python 3.8 and higher. In this article, weâ€™re going to discuss the Walrus operator and explain it with an example.\n",
      "\n",
      "Introduction\n",
      "\n",
      "Walrus Operator allows you to assign a value to a variable within an expression. This can be useful when you need to use a value multiple times in a loop, but donâ€™t want to repeat the...\n",
      "\n",
      "numbers = [1, 2, 3, 4, 5]\n",
      "while (n := len(numbers)) > 0:\n",
      "    print(numbers.pop())"
     ]
    }
   ],
   "source": [
    "# Read data line by line from abc.txt file and print to the console.\n",
    "# FileNotFoundError\n",
    "\n",
    "f = open('abc.txt')\n",
    "line = f.readline()\n",
    "\n",
    "while line != '':\n",
    "    print(line, end='')\n",
    "    line = f.readline()\n",
    "\n",
    "f.close()\n"
   ]
  },
  {
   "cell_type": "code",
   "execution_count": 11,
   "id": "ad1e16b3",
   "metadata": {},
   "outputs": [
    {
     "name": "stdout",
     "output_type": "stream",
     "text": [
      "The Walrus Operator is a new addition to Python 3.8 and higher. In this article, weâ€™re going to discuss the Walrus operator and explain it with an example.\n",
      "\n",
      "Introduction\n",
      "\n",
      "Walrus Operator allows you to assign a value to a variable within an expression. This can be useful when you need to use a value multiple times in a loop, but donâ€™t want to repeat the...\n",
      "\n",
      "numbers = [1, 2, 3, 4, 5]\n",
      "while (n := len(numbers)) > 0:\n",
      "    print(numbers.pop())"
     ]
    }
   ],
   "source": [
    "\n",
    "f = open('abc.txt')\n",
    "\n",
    "while (line := f.readline()) != '':\n",
    "    print(line, end='')\n",
    "\n",
    "f.close()"
   ]
  },
  {
   "cell_type": "code",
   "execution_count": 12,
   "id": "8df1a15b",
   "metadata": {},
   "outputs": [
    {
     "name": "stdout",
     "output_type": "stream",
     "text": [
      "The Walrus Operator is a new addition to Python 3.8 and higher. In this article, weâ€™re going to discuss the Walrus operator and explain it with an example.\n",
      "\n",
      "Introduction\n",
      "\n",
      "Walrus Operator allows you to assign a value to a variable within an expression. This can be useful when you need to use a value multiple times in a loop, but donâ€™t want to repeat the...\n",
      "\n",
      "numbers = [1, 2, 3, 4, 5]\n",
      "while (n := len(numbers)) > 0:\n",
      "    print(numbers.pop())"
     ]
    }
   ],
   "source": [
    " with open('abc.txt') as f:\n",
    "    while (line := f.readline()) != '':\n",
    "        print(line, end='')\n",
    "        "
   ]
  },
  {
   "cell_type": "markdown",
   "id": "a53d83c8",
   "metadata": {},
   "source": [
    "#### The main advantage of warlous Operator:\n",
    "\n",
    "- It won't do any new thing\n",
    "- It just reduce length of code and readablity will be imporoved"
   ]
  },
  {
   "cell_type": "markdown",
   "id": "01e55b72",
   "metadata": {},
   "source": [
    "#### 2. ostional-only parameter\n",
    "python 3.8 version\n",
    "PEP 570\n",
    "\n",
    "1. Postional argument\n",
    "    - order and number both are implemented\n",
    "2. keyword argument\n",
    "    - By keyword (parameter name) (a=10, b=20), (b=20, a=10)\n",
    "    - The number of argument must be match order is notimportant\n",
    "3. default arguments:\n",
    "    - `def sum(a=0,b=0)` argument with default value\n",
    "    - `def sum(a=0,b) -- x after a arument, we cannot take non-default argument\n",
    "4. varable length argument and all value will be converted into touple\n",
    "    - def f(*args)\n",
    "        -print(args)\n",
    "    - *args and **kwargs"
   ]
  },
  {
   "cell_type": "code",
   "execution_count": 13,
   "id": "144a4c5d",
   "metadata": {},
   "outputs": [
    {
     "name": "stdout",
     "output_type": "stream",
     "text": [
      "30\n",
      "-10\n",
      "200\n"
     ]
    }
   ],
   "source": [
    "def calc(a,b): # a,b parameter\n",
    "    print(a+b)\n",
    "    print(a-b)\n",
    "    print(a*b)\n",
    " \n",
    "calc(10,20) # arguments\n",
    "# Interchangable we can use"
   ]
  },
  {
   "cell_type": "markdown",
   "id": "c799ce20",
   "metadata": {},
   "source": [
    "#### Function types\n",
    "\n",
    "1. Postional arguments\n",
    "2. Keyword arguments\n",
    "3. default arguments\n",
    "4. varable legth argument"
   ]
  },
  {
   "cell_type": "code",
   "execution_count": 14,
   "id": "3a2f7762",
   "metadata": {},
   "outputs": [
    {
     "name": "stdout",
     "output_type": "stream",
     "text": [
      "50\n",
      "-10\n",
      "600\n"
     ]
    }
   ],
   "source": [
    "calc(20,30) # Postional argument"
   ]
  },
  {
   "cell_type": "markdown",
   "id": "d8fa12dd",
   "metadata": {},
   "source": [
    "#### \n",
    "1. The number of argument must be match and order"
   ]
  },
  {
   "cell_type": "markdown",
   "id": "af783da6",
   "metadata": {},
   "source": [
    "### Keyword only parameters (3.0 -Version)\n",
    "- After *, all parameter will become keyword only paramter\n",
    "- At the time of calling we should pass values by keyword only"
   ]
  },
  {
   "cell_type": "code",
   "execution_count": 15,
   "id": "d61c7e86",
   "metadata": {},
   "outputs": [],
   "source": [
    "def f1(*,a,b):\n",
    "    print(a,b)"
   ]
  },
  {
   "cell_type": "code",
   "execution_count": 16,
   "id": "966504fd",
   "metadata": {},
   "outputs": [
    {
     "name": "stdout",
     "output_type": "stream",
     "text": [
      "10 20\n"
     ]
    }
   ],
   "source": [
    "f1(a=10, b=20) # valid"
   ]
  },
  {
   "cell_type": "code",
   "execution_count": 17,
   "id": "e08e1488",
   "metadata": {},
   "outputs": [
    {
     "ename": "TypeError",
     "evalue": "f1() takes 0 positional arguments but 2 were given",
     "output_type": "error",
     "traceback": [
      "\u001b[1;31m---------------------------------------------------------------------------\u001b[0m",
      "\u001b[1;31mTypeError\u001b[0m                                 Traceback (most recent call last)",
      "Cell \u001b[1;32mIn[17], line 1\u001b[0m\n\u001b[1;32m----> 1\u001b[0m f1(\u001b[38;5;241m10\u001b[39m, \u001b[38;5;241m20\u001b[39m)\n",
      "\u001b[1;31mTypeError\u001b[0m: f1() takes 0 positional arguments but 2 were given"
     ]
    }
   ],
   "source": [
    "f1(10, 20) # TypeError: f1() takes 0 postional arguments but 2 were given"
   ]
  },
  {
   "cell_type": "code",
   "execution_count": 18,
   "id": "e8ab4364",
   "metadata": {},
   "outputs": [
    {
     "ename": "TypeError",
     "evalue": "f1() takes 0 positional arguments but 1 positional argument (and 1 keyword-only argument) were given",
     "output_type": "error",
     "traceback": [
      "\u001b[1;31m---------------------------------------------------------------------------\u001b[0m",
      "\u001b[1;31mTypeError\u001b[0m                                 Traceback (most recent call last)",
      "Cell \u001b[1;32mIn[18], line 1\u001b[0m\n\u001b[1;32m----> 1\u001b[0m f1(\u001b[38;5;241m10\u001b[39m, b\u001b[38;5;241m=\u001b[39m\u001b[38;5;241m20\u001b[39m)\n",
      "\u001b[1;31mTypeError\u001b[0m: f1() takes 0 positional arguments but 1 positional argument (and 1 keyword-only argument) were given"
     ]
    }
   ],
   "source": [
    "f1(10, b=20)  # TypeError: f1() takes 0 positional arguments but 1 positional argument (and 1 keyword-only argument) were given\n"
   ]
  },
  {
   "cell_type": "code",
   "execution_count": 19,
   "id": "3401479f",
   "metadata": {},
   "outputs": [],
   "source": [
    "def f(a,*,b,c):\n",
    "    \"\"\"\n",
    "    # For a we can pass value either by postional or keyword But\n",
    "      for b,c compulosry we should use keyword\n",
    "    \"\"\"\n",
    "    print(a,b,c)"
   ]
  },
  {
   "cell_type": "code",
   "execution_count": 20,
   "id": "adcfed83",
   "metadata": {},
   "outputs": [],
   "source": [
    "def f2(*,a=10,b,c): # correct\n",
    "    ..."
   ]
  },
  {
   "cell_type": "code",
   "execution_count": 21,
   "id": "56f2f94a",
   "metadata": {},
   "outputs": [
    {
     "ename": "SyntaxError",
     "evalue": "non-default argument follows default argument (3259671104.py, line 1)",
     "output_type": "error",
     "traceback": [
      "\u001b[1;36m  Cell \u001b[1;32mIn[21], line 1\u001b[1;36m\u001b[0m\n\u001b[1;33m    def f3(a=10,b,c,*): # error\u001b[0m\n\u001b[1;37m                ^\u001b[0m\n\u001b[1;31mSyntaxError\u001b[0m\u001b[1;31m:\u001b[0m non-default argument follows default argument\n"
     ]
    }
   ],
   "source": [
    "def f3(a=10,b,c,*): # error SyntaxError: non-default argument follows default argument\n",
    "\n",
    "    ..."
   ]
  },
  {
   "cell_type": "markdown",
   "id": "4e96f963",
   "metadata": {},
   "source": [
    "#### Positional only arguments: (3.8)\n",
    "- We should pass values by postional only arguments\n",
    "- / => Forword slash\n",
    "- All paramters vefore /, will bwcome postional only paramters"
   ]
  },
  {
   "cell_type": "code",
   "execution_count": 22,
   "id": "9f5d57a4",
   "metadata": {},
   "outputs": [],
   "source": [
    "def f3(a,b,/):\n",
    "    print(a,b)"
   ]
  },
  {
   "cell_type": "code",
   "execution_count": 23,
   "id": "c4c088d3",
   "metadata": {},
   "outputs": [
    {
     "name": "stdout",
     "output_type": "stream",
     "text": [
      "10 20\n"
     ]
    }
   ],
   "source": [
    "f3(10,20)"
   ]
  },
  {
   "cell_type": "code",
   "execution_count": 24,
   "id": "f39bb5d3",
   "metadata": {},
   "outputs": [
    {
     "ename": "TypeError",
     "evalue": "f3() got some positional-only arguments passed as keyword arguments: 'a, b'",
     "output_type": "error",
     "traceback": [
      "\u001b[1;31m---------------------------------------------------------------------------\u001b[0m",
      "\u001b[1;31mTypeError\u001b[0m                                 Traceback (most recent call last)",
      "Cell \u001b[1;32mIn[24], line 1\u001b[0m\n\u001b[1;32m----> 1\u001b[0m f3(a\u001b[38;5;241m=\u001b[39m\u001b[38;5;241m10\u001b[39m,b\u001b[38;5;241m=\u001b[39m\u001b[38;5;241m20\u001b[39m)\n",
      "\u001b[1;31mTypeError\u001b[0m: f3() got some positional-only arguments passed as keyword arguments: 'a, b'"
     ]
    }
   ],
   "source": [
    "f3(a=10,b=20)"
   ]
  },
  {
   "cell_type": "markdown",
   "id": "db63cf6d",
   "metadata": {},
   "source": [
    "#### \n",
    "Python 3.8 version as the past PEP 570\n",
    "\n",
    "- a and b are postional only parameteers\n",
    "- c and d are postional or keyword paramters\n",
    "- e and f are keyword only paramters"
   ]
  },
  {
   "cell_type": "code",
   "execution_count": 25,
   "id": "e7c1c5dc",
   "metadata": {},
   "outputs": [],
   "source": [
    "def f4(a,b,/,c,d,*,e,f):\n",
    "    print(a,b,c,d,e,f)"
   ]
  },
  {
   "cell_type": "code",
   "execution_count": 26,
   "id": "8729a2d7",
   "metadata": {},
   "outputs": [
    {
     "name": "stdout",
     "output_type": "stream",
     "text": [
      "10 20 30 40 50 60\n"
     ]
    }
   ],
   "source": [
    "f4(10,20,30,d=40,e=50,f=60)"
   ]
  },
  {
   "cell_type": "code",
   "execution_count": 27,
   "id": "f60536b6",
   "metadata": {},
   "outputs": [
    {
     "ename": "TypeError",
     "evalue": "f4() got some positional-only arguments passed as keyword arguments: 'b'",
     "output_type": "error",
     "traceback": [
      "\u001b[1;31m---------------------------------------------------------------------------\u001b[0m",
      "\u001b[1;31mTypeError\u001b[0m                                 Traceback (most recent call last)",
      "Cell \u001b[1;32mIn[27], line 1\u001b[0m\n\u001b[1;32m----> 1\u001b[0m f4(\u001b[38;5;241m10\u001b[39m,b\u001b[38;5;241m=\u001b[39m\u001b[38;5;241m20\u001b[39m,c\u001b[38;5;241m=\u001b[39m\u001b[38;5;241m30\u001b[39m,d\u001b[38;5;241m=\u001b[39m\u001b[38;5;241m40\u001b[39m,e\u001b[38;5;241m=\u001b[39m\u001b[38;5;241m50\u001b[39m,f\u001b[38;5;241m=\u001b[39m\u001b[38;5;241m60\u001b[39m)\n",
      "\u001b[1;31mTypeError\u001b[0m: f4() got some positional-only arguments passed as keyword arguments: 'b'"
     ]
    }
   ],
   "source": [
    "f4(10,b=20,c=30,d=40,e=50,f=60)"
   ]
  },
  {
   "cell_type": "code",
   "execution_count": 28,
   "id": "03968abd",
   "metadata": {},
   "outputs": [
    {
     "ename": "TypeError",
     "evalue": "f4() takes 4 positional arguments but 5 positional arguments (and 1 keyword-only argument) were given",
     "output_type": "error",
     "traceback": [
      "\u001b[1;31m---------------------------------------------------------------------------\u001b[0m",
      "\u001b[1;31mTypeError\u001b[0m                                 Traceback (most recent call last)",
      "Cell \u001b[1;32mIn[28], line 1\u001b[0m\n\u001b[1;32m----> 1\u001b[0m f4(\u001b[38;5;241m10\u001b[39m,\u001b[38;5;241m20\u001b[39m,\u001b[38;5;241m30\u001b[39m,\u001b[38;5;241m40\u001b[39m,\u001b[38;5;241m50\u001b[39m,f\u001b[38;5;241m=\u001b[39m\u001b[38;5;241m60\u001b[39m)\n",
      "\u001b[1;31mTypeError\u001b[0m: f4() takes 4 positional arguments but 5 positional arguments (and 1 keyword-only argument) were given"
     ]
    }
   ],
   "source": [
    "f4(10,20,30,40,50,f=60)"
   ]
  },
  {
   "cell_type": "markdown",
   "id": "1fbebd92",
   "metadata": {},
   "source": [
    "#### f4(postional args,postional or keyword,keyword only args)"
   ]
  },
  {
   "cell_type": "markdown",
   "id": "977aa078",
   "metadata": {},
   "source": [
    "#### Problem without postional only argument :\n",
    "\n",
    "case - 1:\n",
    "- Without effecting client, we cannont change parameter name based on our requirment"
   ]
  },
  {
   "cell_type": "code",
   "execution_count": 29,
   "id": "26d529e0",
   "metadata": {},
   "outputs": [],
   "source": [
    "def display(name, arg, roll):\n",
    "    print(name, arg, roll)"
   ]
  },
  {
   "cell_type": "code",
   "execution_count": 30,
   "id": "3a304136",
   "metadata": {},
   "outputs": [
    {
     "name": "stdout",
     "output_type": "stream",
     "text": [
      "Ravi 14 101\n"
     ]
    }
   ],
   "source": [
    "display('Ravi',14,101)"
   ]
  },
  {
   "cell_type": "code",
   "execution_count": 31,
   "id": "39d1b953",
   "metadata": {},
   "outputs": [
    {
     "ename": "TypeError",
     "evalue": "display() got an unexpected keyword argument 'age'",
     "output_type": "error",
     "traceback": [
      "\u001b[1;31m---------------------------------------------------------------------------\u001b[0m",
      "\u001b[1;31mTypeError\u001b[0m                                 Traceback (most recent call last)",
      "Cell \u001b[1;32mIn[31], line 1\u001b[0m\n\u001b[1;32m----> 1\u001b[0m display(name \u001b[38;5;241m=\u001b[39m \u001b[38;5;124m'\u001b[39m\u001b[38;5;124mRavi\u001b[39m\u001b[38;5;124m'\u001b[39m, age \u001b[38;5;241m=\u001b[39m \u001b[38;5;241m14\u001b[39m, roll \u001b[38;5;241m=\u001b[39m \u001b[38;5;241m101\u001b[39m)\n",
      "\u001b[1;31mTypeError\u001b[0m: display() got an unexpected keyword argument 'age'"
     ]
    }
   ],
   "source": [
    "display(name = 'Ravi', age = 14, roll = 101)"
   ]
  },
  {
   "cell_type": "code",
   "execution_count": 32,
   "id": "7c101a09",
   "metadata": {
    "scrolled": true
   },
   "outputs": [
    {
     "name": "stdout",
     "output_type": "stream",
     "text": [
      "Ravi 14 101\n"
     ]
    }
   ],
   "source": [
    "display('Ravi', 14, roll = 101)"
   ]
  },
  {
   "cell_type": "markdown",
   "id": "dcfea175",
   "metadata": {},
   "source": [
    "#### If arguments are postional only, then we can change variable names"
   ]
  },
  {
   "cell_type": "code",
   "execution_count": null,
   "id": "5d6ab1d0",
   "metadata": {},
   "outputs": [],
   "source": [
    "def display(name, arg, roll,/):\n",
    "    print(name, arg, roll)"
   ]
  }
 ],
 "metadata": {
  "kernelspec": {
   "display_name": "Python 3 (ipykernel)",
   "language": "python",
   "name": "python3"
  },
  "language_info": {
   "codemirror_mode": {
    "name": "ipython",
    "version": 3
   },
   "file_extension": ".py",
   "mimetype": "text/x-python",
   "name": "python",
   "nbconvert_exporter": "python",
   "pygments_lexer": "ipython3",
   "version": "3.11.5"
  }
 },
 "nbformat": 4,
 "nbformat_minor": 5
}
