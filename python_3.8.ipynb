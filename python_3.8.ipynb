{
 "cells": [
  {
   "cell_type": "markdown",
   "id": "a7440f53",
   "metadata": {},
   "source": [
    "# python 3.8 version enhasment "
   ]
  },
  {
   "cell_type": "markdown",
   "id": "5b98edb2",
   "metadata": {},
   "source": [
    "#### python 3.8 version enhasment  related to f-string:\n",
    "* We can use = symbol f-string for self documentating expressions and it is useful for debugging purposes."
   ]
  },
  {
   "cell_type": "code",
   "execution_count": 10,
   "id": "ab0d925b",
   "metadata": {},
   "outputs": [
    {
     "name": "stdout",
     "output_type": "stream",
     "text": [
      "x = 10\n",
      "y = 10\n"
     ]
    }
   ],
   "source": [
    "x = 10\n",
    "y = 10\n",
    "print(f'{x = }')  # => print(f'x = {x}')\n",
    "print(f'{y = }')  # => print(f'y = {y}')"
   ]
  },
  {
   "cell_type": "markdown",
   "id": "50622c9a",
   "metadata": {},
   "source": [
    "* We can also use walrus operator (`:=`) inside f-string:"
   ]
  },
  {
   "cell_type": "code",
   "execution_count": 2,
   "id": "6b092832",
   "metadata": {},
   "outputs": [
    {
     "name": "stdout",
     "output_type": "stream",
     "text": [
      "The Area of circle with radius 20 is 175399135921.65387\n"
     ]
    }
   ],
   "source": [
    "import math\n",
    "\n",
    "half_radious = 10\n",
    "\n",
    "print(f'The Area of circle with radius {(r := 2 * half_radious)} is {math.pi ** r*r }')"
   ]
  },
  {
   "cell_type": "markdown",
   "id": "dbc3423f",
   "metadata": {},
   "source": [
    "***Note:*** `()` -> This is important in walrous operator in this example other wise we will get error."
   ]
  },
  {
   "cell_type": "code",
   "execution_count": 9,
   "id": "2c1a4abd",
   "metadata": {},
   "outputs": [
    {
     "ename": "NameError",
     "evalue": "name 'r' is not defined",
     "output_type": "error",
     "traceback": [
      "\u001b[1;31m---------------------------------------------------------------------------\u001b[0m",
      "\u001b[1;31mNameError\u001b[0m                                 Traceback (most recent call last)",
      "Cell \u001b[1;32mIn[9], line 1\u001b[0m\n\u001b[1;32m----> 1\u001b[0m \u001b[38;5;28mprint\u001b[39m(\u001b[38;5;124mf\u001b[39m\u001b[38;5;124m'\u001b[39m\u001b[38;5;124mThe Area of circle with radius \u001b[39m\u001b[38;5;132;01m{\u001b[39;00mr\u001b[38;5;250m \u001b[39m\u001b[38;5;132;01m:\u001b[39;00m\u001b[38;5;124m= 2 * half_radious\u001b[39m\u001b[38;5;132;01m}\u001b[39;00m\u001b[38;5;124m is \u001b[39m\u001b[38;5;132;01m{\u001b[39;00mmath\u001b[38;5;241m.\u001b[39mpi\u001b[38;5;250m \u001b[39m\u001b[38;5;241m*\u001b[39m\u001b[38;5;241m*\u001b[39m\u001b[38;5;250m \u001b[39mr\u001b[38;5;241m*\u001b[39mr\u001b[38;5;250m \u001b[39m\u001b[38;5;132;01m}\u001b[39;00m\u001b[38;5;124m'\u001b[39m)\n",
      "\u001b[1;31mNameError\u001b[0m: name 'r' is not defined"
     ]
    }
   ],
   "source": [
    "print(f'The Area of circle with radius {r := 2 * half_radious} is {math.pi ** r*r }')"
   ]
  },
  {
   "cell_type": "markdown",
   "id": "5a508dfd",
   "metadata": {},
   "source": [
    "* f - string can in python 3.6 version but `=` and `:=` operator are allowed inside f-string in python 3.8 version"
   ]
  },
  {
   "cell_type": "markdown",
   "id": "0aeecd4d",
   "metadata": {},
   "source": [
    "* `%` -> formating and `str.formate()` ***Not Recommanded***."
   ]
  },
  {
   "cell_type": "markdown",
   "id": "d2306d6c",
   "metadata": {},
   "source": [
    "f string \n",
    "-------\n",
    "- has performance\n",
    "- concise\n",
    "- less verbose\n",
    "- more readable"
   ]
  },
  {
   "cell_type": "code",
   "execution_count": 3,
   "id": "5a4126f9",
   "metadata": {},
   "outputs": [
    {
     "name": "stdout",
     "output_type": "stream",
     "text": [
      "Information-------> Name: ashish, RollNo: 101, Marks: 80\n",
      "Information-------> Name: ashish, RollNo: 101, Marks: 80\n",
      "Information-------> Student Name: ashish, Student RollNo: 101, Student Marks: 80\n"
     ]
    }
   ],
   "source": [
    "class Student:\n",
    "    def __init__(self, name, rollno, marks):\n",
    "        self.name = name\n",
    "        self.rollno = rollno\n",
    "        self.marks = marks\n",
    "    def __str__(self):\n",
    "        return f'Name: {self.name}, RollNo: {self.rollno}, Marks: {self.marks}'\n",
    "    \n",
    "    def __repr__(self):\n",
    "        return f'Student Name: {self.name}, Student RollNo: {self.rollno}, Student Marks: {self.marks}'\n",
    "\n",
    "s = Student('ashish',101,80)\n",
    "print('Information-------> {}'.format(s))\n",
    "print(f'Information-------> {s}')\n",
    "print(f'Information-------> {s!r}')"
   ]
  },
  {
   "cell_type": "markdown",
   "id": "6030cc43",
   "metadata": {},
   "source": [
    "#### Expression inside f-string :\n",
    "We can pass expression inside f-string and those expressions will be evaluated at runtime\n",
    "{8*8}"
   ]
  },
  {
   "cell_type": "code",
   "execution_count": 4,
   "id": "c1e0fd6a",
   "metadata": {},
   "outputs": [
    {
     "name": "stdout",
     "output_type": "stream",
     "text": [
      "{64}\n"
     ]
    }
   ],
   "source": [
    "print({8*8})"
   ]
  },
  {
   "cell_type": "markdown",
   "id": "8e3bd177",
   "metadata": {},
   "source": [
    "#### How to use curly braces inside f-string:\n",
    "- { => replacement operator\n",
    "- {{=> it is simple of '{'"
   ]
  },
  {
   "cell_type": "code",
   "execution_count": 6,
   "id": "ab933fd1",
   "metadata": {},
   "outputs": [
    {
     "name": "stdout",
     "output_type": "stream",
     "text": [
      "{ is special symbol \n"
     ]
    }
   ],
   "source": [
    "print(f'{{ is special symbol ')\n"
   ]
  },
  {
   "cell_type": "code",
   "execution_count": 8,
   "id": "ae2644b9",
   "metadata": {
    "scrolled": true
   },
   "outputs": [
    {
     "ename": "SyntaxError",
     "evalue": "f-string: expecting '}' (1540249583.py, line 1)",
     "output_type": "error",
     "traceback": [
      "\u001b[1;36m  Cell \u001b[1;32mIn[8], line 1\u001b[1;36m\u001b[0m\n\u001b[1;33m    print(f'{{{ is special symbol ')\u001b[0m\n\u001b[1;37m                                   ^\u001b[0m\n\u001b[1;31mSyntaxError\u001b[0m\u001b[1;31m:\u001b[0m f-string: expecting '}'\n"
     ]
    }
   ],
   "source": [
    "print(f'{{{ is special symbol ')"
   ]
  },
  {
   "cell_type": "markdown",
   "id": "8ef4ed00",
   "metadata": {},
   "source": [
    "#### same is applicable for } only"
   ]
  }
 ],
 "metadata": {
  "kernelspec": {
   "display_name": "Python 3 (ipykernel)",
   "language": "python",
   "name": "python3"
  },
  "language_info": {
   "codemirror_mode": {
    "name": "ipython",
    "version": 3
   },
   "file_extension": ".py",
   "mimetype": "text/x-python",
   "name": "python",
   "nbconvert_exporter": "python",
   "pygments_lexer": "ipython3",
   "version": "3.11.5"
  }
 },
 "nbformat": 4,
 "nbformat_minor": 5
}
