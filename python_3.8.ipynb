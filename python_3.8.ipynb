{
 "cells": [
  {
   "cell_type": "markdown",
   "id": "a7440f53",
   "metadata": {},
   "source": [
    "# python 3.8 version enhasment "
   ]
  },
  {
   "cell_type": "markdown",
   "id": "5b98edb2",
   "metadata": {},
   "source": [
    "#### python 3.8 version enhasment  related to f-string:\n",
    "* We can use = symbol f-string for self documentating expressions and it is useful for debugging purposes."
   ]
  },
  {
   "cell_type": "code",
   "execution_count": 1,
   "id": "ab0d925b",
   "metadata": {},
   "outputs": [
    {
     "name": "stdout",
     "output_type": "stream",
     "text": [
      "x = 10\n",
      "y = 10\n"
     ]
    }
   ],
   "source": [
    "x = 10\n",
    "y = 10\n",
    "print(f'{x = }')  # => print(f'x = {x}')\n",
    "print(f'{y = }')  # => print(f'y = {y}')"
   ]
  },
  {
   "cell_type": "markdown",
   "id": "50622c9a",
   "metadata": {},
   "source": [
    "* We can also use walrus operator (`:=`) inside f-string:"
   ]
  },
  {
   "cell_type": "code",
   "execution_count": 2,
   "id": "6b092832",
   "metadata": {},
   "outputs": [
    {
     "name": "stdout",
     "output_type": "stream",
     "text": [
      "The Area of circle with radius 20 is 175399135921.65387\n"
     ]
    }
   ],
   "source": [
    "import math\n",
    "\n",
    "half_radious = 10\n",
    "\n",
    "print(f'The Area of circle with radius {(r := 2 * half_radious)} is {math.pi ** r*r }')"
   ]
  },
  {
   "cell_type": "markdown",
   "id": "dbc3423f",
   "metadata": {},
   "source": [
    "***Note:*** `()` -> This is important in walrous operator in this example other wise we will get error."
   ]
  },
  {
   "cell_type": "code",
   "execution_count": 3,
   "id": "2c1a4abd",
   "metadata": {},
   "outputs": [
    {
     "ename": "ValueError",
     "evalue": "Invalid format specifier '= 2 * half_radious' for object of type 'int'",
     "output_type": "error",
     "traceback": [
      "\u001b[1;31m---------------------------------------------------------------------------\u001b[0m",
      "\u001b[1;31mValueError\u001b[0m                                Traceback (most recent call last)",
      "Cell \u001b[1;32mIn[3], line 1\u001b[0m\n\u001b[1;32m----> 1\u001b[0m \u001b[38;5;28mprint\u001b[39m(\u001b[38;5;124mf\u001b[39m\u001b[38;5;124m'\u001b[39m\u001b[38;5;124mThe Area of circle with radius \u001b[39m\u001b[38;5;132;01m{\u001b[39;00mr\u001b[38;5;250m \u001b[39m\u001b[38;5;132;01m:\u001b[39;00m\u001b[38;5;124m= 2 * half_radious\u001b[39m\u001b[38;5;132;01m}\u001b[39;00m\u001b[38;5;124m is \u001b[39m\u001b[38;5;132;01m{\u001b[39;00mmath\u001b[38;5;241m.\u001b[39mpi\u001b[38;5;250m \u001b[39m\u001b[38;5;241m*\u001b[39m\u001b[38;5;241m*\u001b[39m\u001b[38;5;250m \u001b[39mr\u001b[38;5;241m*\u001b[39mr\u001b[38;5;250m \u001b[39m\u001b[38;5;132;01m}\u001b[39;00m\u001b[38;5;124m'\u001b[39m)\n",
      "\u001b[1;31mValueError\u001b[0m: Invalid format specifier '= 2 * half_radious' for object of type 'int'"
     ]
    }
   ],
   "source": [
    "print(f'The Area of circle with radius {r := 2 * half_radious} is {math.pi ** r*r }')"
   ]
  },
  {
   "cell_type": "markdown",
   "id": "5a508dfd",
   "metadata": {},
   "source": [
    "* f - string can in python 3.6 version but `=` and `:=` operator are allowed inside f-string in python 3.8 version"
   ]
  },
  {
   "cell_type": "markdown",
   "id": "0aeecd4d",
   "metadata": {},
   "source": [
    "* `%` -> formating and `str.formate()` ***Not Recommanded***."
   ]
  },
  {
   "cell_type": "markdown",
   "id": "d2306d6c",
   "metadata": {},
   "source": [
    "f string \n",
    "-------\n",
    "- has performance\n",
    "- concise\n",
    "- less verbose\n",
    "- more readable"
   ]
  },
  {
   "cell_type": "code",
   "execution_count": null,
   "id": "5a4126f9",
   "metadata": {},
   "outputs": [],
   "source": []
  },
  {
   "cell_type": "code",
   "execution_count": null,
   "id": "44af5291",
   "metadata": {},
   "outputs": [],
   "source": []
  }
 ],
 "metadata": {
  "kernelspec": {
   "display_name": "Python 3 (ipykernel)",
   "language": "python",
   "name": "python3"
  },
  "language_info": {
   "codemirror_mode": {
    "name": "ipython",
    "version": 3
   },
   "file_extension": ".py",
   "mimetype": "text/x-python",
   "name": "python",
   "nbconvert_exporter": "python",
   "pygments_lexer": "ipython3",
   "version": "3.11.5"
  }
 },
 "nbformat": 4,
 "nbformat_minor": 5
}
