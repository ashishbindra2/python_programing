{
 "cells": [
  {
   "cell_type": "markdown",
   "id": "e77782b3",
   "metadata": {},
   "source": [
    "## Regular Expression\n",
    "- If you want to represent a group of string according to a particular format/pattern, then we should go for Regular Expression.\n",
    "- i.e Regular Expression is a declaration  mechanism to represent a group of strings according to a perticulat format / pattern.\n",
    "\n",
    "Q1. Write a regular expression to represent all mobile numbers.\n",
    "    - [6-9][0-9]{9}\n",
    "    \n",
    "Q2. Write a regular expression to represent all mail ids.\n"
   ]
  },
  {
   "cell_type": "markdown",
   "id": "42a03da2",
   "metadata": {},
   "source": [
    "Application areas of Regular Expression\n",
    "----------------------------------------\n",
    "1. Pattern Matching Applications\n",
    "    - Ctrl+f => In window\n",
    "    - grep => Linux\n",
    "2. To perform validations / To develop validation frameworks.\n",
    "3. To develop translators like complier, interpreter, assembler etc.\n",
    "    - compiler design\n",
    "        - lexical Analysis\n",
    "        - syntax Analysis\n",
    "        - sematic Analysis\n",
    "        - Intermediate code Generator\n",
    "        - code Optimiztion\n",
    "        - Target code Generator\n",
    "4. To develop digital circuts like incrementer\n",
    "5. To develop communicator protocol TCP/IP,UDP,HTTP etc.\n"
   ]
  },
  {
   "cell_type": "markdown",
   "id": "be991872",
   "metadata": {},
   "source": [
    "re => module ( several functions) (java.util.regex package)"
   ]
  },
  {
   "cell_type": "markdown",
   "id": "1e128886",
   "metadata": {},
   "source": [
    "### Patteren Matching Application\n",
    "Search pattern: ab\n",
    "target string: abaabababa\n",
    "0,3,5, =>ab\n",
    "total => 3 times"
   ]
  },
  {
   "cell_type": "code",
   "execution_count": 2,
   "id": "70d6f8b6",
   "metadata": {},
   "outputs": [],
   "source": [
    "import re"
   ]
  },
  {
   "cell_type": "markdown",
   "id": "a58cca33",
   "metadata": {},
   "source": [
    "- Compiler String into pattern object\n",
    "- Convert string into patteren object"
   ]
  },
  {
   "cell_type": "code",
   "execution_count": 3,
   "id": "1e702c77",
   "metadata": {},
   "outputs": [],
   "source": [
    "pattern = re.compile('ab')"
   ]
  },
  {
   "cell_type": "markdown",
   "id": "b81eaa58",
   "metadata": {},
   "source": [
    "Return iterator to find pattern in the target"
   ]
  },
  {
   "cell_type": "code",
   "execution_count": 15,
   "id": "0d4e2c39",
   "metadata": {},
   "outputs": [
    {
     "data": {
      "text/plain": [
       "<callable_iterator at 0x22920d76b60>"
      ]
     },
     "execution_count": 15,
     "metadata": {},
     "output_type": "execute_result"
    }
   ],
   "source": [
    "matcher = pattern.finditer('abaabababa') # one by one\n",
    "matcher"
   ]
  },
  {
   "cell_type": "markdown",
   "id": "b114d154",
   "metadata": {},
   "source": [
    "match.end(), match.group() match.start()=> start index of matches"
   ]
  },
  {
   "cell_type": "code",
   "execution_count": 16,
   "id": "0a61657c",
   "metadata": {},
   "outputs": [
    {
     "name": "stdout",
     "output_type": "stream",
     "text": [
      "<re.Match object; span=(0, 2), match='ab'>\n",
      "0\n",
      "<re.Match object; span=(3, 5), match='ab'>\n",
      "3\n",
      "<re.Match object; span=(5, 7), match='ab'>\n",
      "5\n",
      "<re.Match object; span=(7, 9), match='ab'>\n",
      "7\n"
     ]
    }
   ],
   "source": [
    "count = 0\n",
    "for match in matcher:\n",
    "    print(match)\n",
    "    print(match.start())\n",
    "    count+=1"
   ]
  },
  {
   "cell_type": "code",
   "execution_count": 14,
   "id": "801ef80f",
   "metadata": {},
   "outputs": [
    {
     "name": "stdout",
     "output_type": "stream",
     "text": [
      "The Number of occurence: 0\n"
     ]
    }
   ],
   "source": [
    "print(f'The Number of occurence: {count}')"
   ]
  },
  {
   "cell_type": "markdown",
   "id": "63075484",
   "metadata": {},
   "source": [
    "- Start() => returns start index of the match\n",
    "- end() => return end + 1 index of the match\n",
    "- group() => return matched string"
   ]
  },
  {
   "cell_type": "markdown",
   "id": "9ac8e6ab",
   "metadata": {},
   "source": [
    "### Character classes\n",
    "We can use character classes to search a group of charaters\n",
    "\n",
    "- [abc] => a or b or c\n",
    "- [^abc] => Expect a and b and c\n",
    "- [a-z] => any lower case alphabet symbol\n",
    "- [A-Z] => Any Uppercase alphabet symbol\n",
    "- [a-zA-Z] => Any alphabet symbol\n",
    "- [0-9] => Any digit\n",
    "- [0-9a-zA-Z] => Any alphanumeric character (Special character)\n",
    "- [^0-9a-zA-Z] = > Except alphanumeric character (Special character)"
   ]
  },
  {
   "cell_type": "markdown",
   "id": "4b0206b5",
   "metadata": {},
   "source": [
    "###\n",
    "- Any digit 0 to 9 \n",
    "- ('\\d) => short cut"
   ]
  },
  {
   "cell_type": "markdown",
   "id": "40dcfaf8",
   "metadata": {},
   "source": [
    "### Predifinded character classes:\n",
    "- \\d => Any digit 0 to 9 [0-9]\n",
    "- \\D => Any character except digit [^0-9]\n",
    "- \\w => Any Word character [0-9a-zA-Z]\n",
    "- \\W => Any character except alphanumeric character (special character)\n",
    "- \\s => Sppecial character\n",
    "- \\S => Except space character\n",
    "- . => Any character including special character also"
   ]
  },
  {
   "cell_type": "code",
   "execution_count": 20,
   "id": "2376d5ed",
   "metadata": {},
   "outputs": [
    {
     "name": "stdout",
     "output_type": "stream",
     "text": [
      "6........ \n",
      "8........ \n",
      "The number of occurences: 2\n"
     ]
    }
   ],
   "source": [
    "import re\n",
    "matcher = re.finditer(' ','abb7@k 9 yYz')\n",
    "\n",
    "count= 0\n",
    "for match in matcher:\n",
    "    print(f'{match.start()}........{match.group()}')\n",
    "    count= count+1\n",
    "\n",
    "print(f\"The number of occurences: {count}\")"
   ]
  },
  {
   "cell_type": "markdown",
   "id": "e0cbf691",
   "metadata": {},
   "source": [
    "We can't take predefine characters in [ ] it will treat as any other symbol"
   ]
  },
  {
   "cell_type": "markdown",
   "id": "5b3dc9d9",
   "metadata": {},
   "source": [
    "### Quantifiers\n",
    "\n",
    "We can use quantifiers to specifig the number of occurences to match\n",
    "\n",
    "- a => exactly one 'a'\n",
    "- a+ => AtlEAST One 'a'\n",
    "- a* => rv = r+ U {E} any number of a's including zero number\n",
    "- a? => Atmost one a\n",
    "- a{m} => Exactly m number of a\n",
    "- a{m,n} => minimum m number of a's and maximium n number of a's"
   ]
  },
  {
   "cell_type": "markdown",
   "id": "a081a1e5",
   "metadata": {},
   "source": [
    "### Important function of re module:\n",
    "1. match()\n",
    "2. fullmatch()\n",
    "3. search()\n",
    "4. findall()\n",
    "5. finditer()\n",
    "6. sub()\n",
    "7. subn()\n",
    "8. split()\n",
    "9. compile()"
   ]
  },
  {
   "cell_type": "markdown",
   "id": "3805370b",
   "metadata": {},
   "source": [
    "#### 1. match()\n",
    "- We can use match() function to check wheater the given pattern present at beginning of the target string or not?\n",
    "- If match is available then we will get match object, otherwise we will get None.\n"
   ]
  },
  {
   "cell_type": "code",
   "execution_count": 35,
   "id": "f32da298",
   "metadata": {},
   "outputs": [
    {
     "name": "stdout",
     "output_type": "stream",
     "text": [
      "Enter patter to check!!! b\n",
      "Target string not start with b\n"
     ]
    }
   ],
   "source": [
    "import re\n",
    "\n",
    "p = input(\"Enter patter to check!!! \")\n",
    "m = re.match(p,'abcdefgh')\n",
    "\n",
    "if m is not None:\n",
    "    print(f\"Target string with {m.group()}\")\n",
    "else:\n",
    "    print(f\"Target string not start with {p}\")"
   ]
  },
  {
   "cell_type": "code",
   "execution_count": 36,
   "id": "3c58c132",
   "metadata": {},
   "outputs": [
    {
     "name": "stdout",
     "output_type": "stream",
     "text": [
      "Enter patter to check!!! b\n",
      "Target string not start with b\n"
     ]
    }
   ],
   "source": [
    "import re\n",
    "\n",
    "p = input(\"Enter patter to check!!! \")\n",
    "m = re.match(p,'abcdefgh')\n",
    "\n",
    "if m:\n",
    "    print(f\"Target string with {m.group()}\")\n",
    "else:\n",
    "    print(f\"Target string not start with {p}\")"
   ]
  },
  {
   "cell_type": "markdown",
   "id": "899568ac",
   "metadata": {},
   "source": [
    "#### 2. Fullmatch()\n",
    "- We can use fullmatch() function to check wheather total target string matched with given patteren or not\n",
    "- If matched then we will gett match object otheruse we will get None.\n",
    "- `m = re.fullmatch(p,\"abcdefgh\")`"
   ]
  },
  {
   "cell_type": "code",
   "execution_count": 41,
   "id": "02788d54",
   "metadata": {
    "scrolled": true
   },
   "outputs": [
    {
     "name": "stdout",
     "output_type": "stream",
     "text": [
      "Enter Mobile Number to validate:!1234567890\n",
      "Invalid 10- digit mobile number\n"
     ]
    }
   ],
   "source": [
    "import re\n",
    "\n",
    "num = input(\"Enter Mobile Number to validate:!\")\n",
    "# patteren = \"[6-9][0-9][0-9][0-9][0-9][0-9][0-9][0-9][0-9][0-9]\"\n",
    "patteren = \"[6-9][0-9]{9}\"\n",
    "\n",
    "match = re.fullmatch(patteren,num)\n",
    "\n",
    "if match:\n",
    "    print(\"valid 10 - digit mobile numder\")\n",
    "else:\n",
    "    print(\"Invalid 10 - digit mobile number\")"
   ]
  },
  {
   "cell_type": "markdown",
   "id": "ccc96dd0",
   "metadata": {},
   "source": [
    "#### 4. findall()\n",
    "- To find all occurrences of the match\n",
    "- This function returns list object which contains all occurrences."
   ]
  },
  {
   "cell_type": "code",
   "execution_count": 42,
   "id": "4ab58d5f",
   "metadata": {},
   "outputs": [
    {
     "name": "stdout",
     "output_type": "stream",
     "text": [
      "['7', '9', '2', '5', '4']\n"
     ]
    }
   ],
   "source": [
    "import re\n",
    "\n",
    "l = re.findall('[0-9]', 'a7b9k2@5kmn4')\n",
    "print(l)"
   ]
  },
  {
   "cell_type": "markdown",
   "id": "b93e1f66",
   "metadata": {},
   "source": [
    "#### finditer():\n",
    "- Return iterator yielding a matching object for each match\n",
    "- On match object, we can call start(), end(), group() matches()\n"
   ]
  },
  {
   "cell_type": "code",
   "execution_count": 43,
   "id": "62573384",
   "metadata": {},
   "outputs": [
    {
     "name": "stdout",
     "output_type": "stream",
     "text": [
      "1.....7\n",
      "3.....9\n",
      "5.....2\n",
      "11.....4\n"
     ]
    }
   ],
   "source": [
    "import re\n",
    "\n",
    "matcher = re.finditer('[0-9]',\"a7b9k2@skmn4\")\n",
    "for match in matcher:\n",
    "    print(f\"{match.start()}.....{match.group()}\")"
   ]
  },
  {
   "cell_type": "markdown",
   "id": "d51ae574",
   "metadata": {},
   "source": [
    "#### 6. sub()\n",
    "- sub means substitution or replacement.\n",
    "- `re.sub('pattern, replacement_string,target_string')`"
   ]
  },
  {
   "cell_type": "code",
   "execution_count": 44,
   "id": "1667c7ad",
   "metadata": {},
   "outputs": [
    {
     "data": {
      "text/plain": [
       "'a#b#kz@#kmn#'"
      ]
     },
     "execution_count": 44,
     "metadata": {},
     "output_type": "execute_result"
    }
   ],
   "source": [
    "import re\n",
    "\n",
    "s = re.sub('[0-9]','#','a7b9kz@5kmn4')\n",
    "s"
   ]
  },
  {
   "cell_type": "markdown",
   "id": "dc0030a8",
   "metadata": {},
   "source": [
    "#### 7. subn():\n",
    "- It is exactly same as sub() except that it can also returns the number of replacements.\n",
    "- Return type is touple\n",
    "    - (result string, number of replacements)\n",
    "\n"
   ]
  },
  {
   "cell_type": "code",
   "execution_count": 45,
   "id": "284cfa9c",
   "metadata": {},
   "outputs": [
    {
     "name": "stdout",
     "output_type": "stream",
     "text": [
      "('a#b#kz@#kmn#', 4)\n",
      "The Result string a#b#kz@#kmn#\n",
      "The number of replacement 4\n"
     ]
    }
   ],
   "source": [
    "import re\n",
    "\n",
    "t = re.subn('[0-9]','#','a7b9kz@5kmn4')\n",
    "\n",
    "print(t)\n",
    "print('The Result string',t[0])\n",
    "print('The number of replacement',t[1])\n"
   ]
  },
  {
   "cell_type": "markdown",
   "id": "d0c72114",
   "metadata": {},
   "source": [
    "#### 8. split()\n",
    "We can use split() function to split target string acc to the pattern"
   ]
  },
  {
   "cell_type": "code",
   "execution_count": 46,
   "id": "ecc1e3a0",
   "metadata": {},
   "outputs": [
    {
     "name": "stdout",
     "output_type": "stream",
     "text": [
      "['27', '11', '2020']\n",
      "27\n",
      "11\n",
      "2020\n"
     ]
    }
   ],
   "source": [
    "import re\n",
    "\n",
    "l = re.split('-','27-11-2020')\n",
    "print(l)\n",
    "\n",
    "for s in l:\n",
    "    print(s)"
   ]
  },
  {
   "cell_type": "markdown",
   "id": "05b18852",
   "metadata": {},
   "source": [
    "1. match() = > To check wheather the given target string start with specificed pattern or not\n",
    "2. fullmatch() = > To check wheather total string matched patteren or not\n",
    "3. Search() = > To retuen first occurrence of the match\n",
    "4. findall() = > To return all matches\n",
    "5. finditer() = > To return iterator object which yields match object\n",
    "6. sub() = > To replace every occurence of the patteren with provided replacement string\n",
    "7. subn() = > Same as sub() but also returns the number of occurences\n",
    "8. split() = > To split the target string on given patteren\n"
   ]
  },
  {
   "cell_type": "markdown",
   "id": "d44ac1e7",
   "metadata": {},
   "source": [
    "#### * ^ symbol and $ symbol\n",
    "- ^ symbol = start with\n",
    "- `re.search('[^ab],target string')` ==> not\n",
    "- `re.search('^ab,target string')` ==> start with"
   ]
  },
  {
   "cell_type": "code",
   "execution_count": 52,
   "id": "8d858073",
   "metadata": {},
   "outputs": [
    {
     "name": "stdout",
     "output_type": "stream",
     "text": [
      "Target string start with our pattern\n"
     ]
    }
   ],
   "source": [
    "import re\n",
    "\n",
    "match = re.search('^learn','learn python is very easy!!')\n",
    "\n",
    "if match is not None:\n",
    "    print('Target string start with our pattern')\n",
    "else:\n",
    "    print(\"Taerget string not start with out patteren\")"
   ]
  },
  {
   "cell_type": "markdown",
   "id": "0f1ac0af",
   "metadata": {},
   "source": [
    "#### $ symbol:\n",
    "$ means end with"
   ]
  },
  {
   "cell_type": "code",
   "execution_count": 54,
   "id": "2f5f3b87",
   "metadata": {},
   "outputs": [
    {
     "name": "stdout",
     "output_type": "stream",
     "text": [
      "Target string end with our pattern\n"
     ]
    }
   ],
   "source": [
    "import re\n",
    "\n",
    "match = re.search('easy$',\"learn python is very easy\")\n",
    "\n",
    "if match:\n",
    "    print('Target string end with our pattern')\n",
    "else:\n",
    "    print(\"Taerget string not end with out patteren\")"
   ]
  },
  {
   "cell_type": "code",
   "execution_count": 55,
   "id": "7c586e33",
   "metadata": {},
   "outputs": [
    {
     "name": "stdout",
     "output_type": "stream",
     "text": [
      "Taerget string not end with out patteren\n"
     ]
    }
   ],
   "source": [
    "import re\n",
    "\n",
    "match = re.search('Easy$',\"learn python is very easy\")\n",
    "\n",
    "if match:\n",
    "    print('Target string end with our pattern')\n",
    "else:\n",
    "    print(\"Taerget string not end with out patteren\")"
   ]
  },
  {
   "cell_type": "code",
   "execution_count": 56,
   "id": "9338460c",
   "metadata": {},
   "outputs": [
    {
     "name": "stdout",
     "output_type": "stream",
     "text": [
      "Target string end with our pattern\n"
     ]
    }
   ],
   "source": [
    "import re\n",
    "\n",
    "match = re.search('EASY$',\"learn python is very easy\",re.IGNORECASE)\n",
    "\n",
    "if match:\n",
    "    print('Target string end with our pattern')\n",
    "else:\n",
    "    print(\"Taerget string not end with out patteren\")"
   ]
  },
  {
   "cell_type": "markdown",
   "id": "4fb41339",
   "metadata": {},
   "source": [
    "#### Write a Regular Expression to represent all YAVA lang identifier?\n",
    "***Rule:***\n",
    "1. The allowed charaters are a-z,A-Z,0-9,#\n",
    "2. The first character should be lowercase alphabet symbol from a to k\n",
    "3. the scond character shoild be a digit divisible by 3\n",
    "4. The length of identifier should be atkeast 2\n",
    "a9cd#3\n",
    "\n",
    "- [a-k][0369][a-zA-Z0-9#]*\n",
    "- [a-zA-Z0-9#]* = > We can take character any number of time including zero times also\n",
    "- += > We can take character alteast once\n",
    "- ? => atmost once (either onetime pr zerotimes)"
   ]
  },
  {
   "cell_type": "code",
   "execution_count": 60,
   "id": "5918d3b7",
   "metadata": {},
   "outputs": [
    {
     "name": "stdout",
     "output_type": "stream",
     "text": [
      "Enter any identifier to check a9cd#3\n",
      "valid identifier \n"
     ]
    }
   ],
   "source": [
    "import re\n",
    "\n",
    "target = input(\"Enter any identifier to check \")\n",
    "\n",
    "pattern = \"[a-k][0369][a-zA-Z0-9#]*\"\n",
    "match = re.fullmatch(pattern,target)\n",
    "\n",
    "if match:\n",
    "    print(\"valid identifier \")\n",
    "    \n",
    "else:\n",
    "    print(\"Invlid identifer \")"
   ]
  },
  {
   "cell_type": "markdown",
   "id": "cd4c1aa0",
   "metadata": {},
   "source": [
    "### 3 Write a regular expression to represent all 10 digit mobile numbers\n",
    "1. The number should contains exactly 10 digits\n",
    "2. The first should be from 6 to 9 only.\n",
    "- `[6-9][0-9][0-9][0-9][0-9][0-9][0-9][0-9][0-9][0-9]`\n",
    "- `[6-9][0-9]{9} | 0[6-9][0-9]{9} | 91[6-9][0-9]{9}`\n",
    "-  `(091)? [6-9][0-9]{9}`"
   ]
  },
  {
   "cell_type": "markdown",
   "id": "da8a23aa",
   "metadata": {},
   "source": [
    "### WAP to extract all mobile numbers present in input.txt where numbers are mixed with normal text data?\n"
   ]
  },
  {
   "cell_type": "code",
   "execution_count": 14,
   "id": "9314fc82",
   "metadata": {},
   "outputs": [
    {
     "name": "stdout",
     "output_type": "stream",
     "text": [
      "Extraction complete open file to see results\n"
     ]
    }
   ],
   "source": [
    "import re\n",
    "\n",
    "f1 = open('input.txt', 'r')\n",
    "f2 = open('mobile_number.txt','w')\n",
    "\n",
    "pattern = '(0 | 91)?[6-9][0-9]{9}'\n",
    "\n",
    "for line in f1:\n",
    "    matcher = re.finditer(pattern,line)\n",
    "    \n",
    "    for match in matcher:\n",
    "        f2.write(match.group() + '\\n')\n",
    "        \n",
    "        \n",
    "f1.close()\n",
    "f2.close()\n",
    "\n",
    "print(\"Extraction complete open file to see results\")"
   ]
  },
  {
   "cell_type": "code",
   "execution_count": 60,
   "id": "9ea864dc",
   "metadata": {},
   "outputs": [
    {
     "name": "stdout",
     "output_type": "stream",
     "text": [
      "9876543210\n",
      "987-654-3210\n",
      "9876543210\n",
      "Extraction complete. Open file to see results.\n"
     ]
    }
   ],
   "source": [
    "import re\n",
    "\n",
    "mobile_regex = r'\\b(?:\\+?91|0)?[-]?\\(?[6789]\\d{2}\\)?[-]?\\d{3}[-]?\\d{4}\\b'\n",
    "\n",
    "with open('input.txt', 'r') as file:\n",
    "    data = file.read()\n",
    "    # Find all matches of mobile numbers in the data\n",
    "    mobile_numbers = re.findall(mobile_regex, data)\n",
    "\n",
    "# Print the extracted mobile numbers\n",
    "for number in mobile_numbers:\n",
    "    print(number)\n",
    "\n",
    "print(\"Extraction complete. Open file to see results.\")\n"
   ]
  },
  {
   "cell_type": "markdown",
   "id": "9419c70c",
   "metadata": {},
   "source": [
    "#### WAP to check wheather given car registration number is valid Telangana state registration Number or Not?\n",
    "\n"
   ]
  },
  {
   "cell_type": "code",
   "execution_count": 63,
   "id": "ae1ca219",
   "metadata": {},
   "outputs": [
    {
     "name": "stdout",
     "output_type": "stream",
     "text": [
      "Enter vehicle Registration no to validate ts22as2222\n",
      "Valid Vehicale Registration Number\n"
     ]
    }
   ],
   "source": [
    "import re\n",
    "\n",
    "num = input(\"Enter vehicle Registration no to validate \").upper()\n",
    "\n",
    "patteren = \"TS[012][0-9][A-Z][A-Z][0-4]{4}\"\n",
    "\n",
    "matcher = re.fullmatch(patteren,num)\n",
    "\n",
    "if matcher:\n",
    "    print(\"Valid Vehicale Registration Number\")\n",
    "else:\n",
    "    print(\"Invalid Vehicale Registration Number\")\n"
   ]
  },
  {
   "cell_type": "markdown",
   "id": "b58f3bde",
   "metadata": {},
   "source": [
    "#### WAP to check wheater the given mail id is valid or not?\n"
   ]
  },
  {
   "cell_type": "code",
   "execution_count": 67,
   "id": "7227df3b",
   "metadata": {},
   "outputs": [
    {
     "name": "stdout",
     "output_type": "stream",
     "text": [
      "Enter mail ashish_bibdera@gmail.com\n",
      "valid mail \n"
     ]
    }
   ],
   "source": [
    "import re\n",
    "\n",
    "num = input(\"Enter mail \")\n",
    "\n",
    "patteren = \"[a-zA-Z0-9][a-zA-Z0-9._]*@gmail.com\"\n",
    "\n",
    "matcher = re.fullmatch(patteren,num)\n",
    "\n",
    "if matcher:\n",
    "    print(\"valid mail \")\n",
    "else:\n",
    "    print(\"Invalid mail\")"
   ]
  },
  {
   "cell_type": "markdown",
   "id": "b3468ad2",
   "metadata": {},
   "source": [
    "### Q sort the list using re\n",
    "file_paths = [\n",
    "    'static\\\\pdf\\\\01 Adsolut initiatie\\\\page_1.pdf', \n",
    "    'static\\\\pdf\\\\01 Adsolut initiatie\\\\page_10.pdf', \n",
    "    'static\\\\pdf\\\\01 Adsolut initiatie\\\\page_11.pdf', \n",
    "    'static\\\\pdf\\\\01 Adsolut initiatie\\\\page_12.pdf', \n",
    "    'static\\\\pdf\\\\01 Adsolut initiatie\\\\page_13.pdf', \n",
    "    'static\\\\pdf\\\\01 Adsolut initiatie\\\\page_14.pdf', \n",
    "    'static\\\\pdf\\\\01 Adsolut initiatie\\\\page_15.pdf', \n",
    "    'static\\\\pdf\\\\01 Adsolut initiatie\\\\page_16.pdf', \n",
    "    'static\\\\pdf\\\\01 Adsolut initiatie\\\\page_17.pdf', \n",
    "    'static\\\\pdf\\\\01 Adsolut initiatie\\\\page_18.pdf', \n",
    "    'static\\\\pdf\\\\01 Adsolut initiatie\\\\page_19.pdf', \n",
    "    'static\\\\pdf\\\\01 Adsolut initiatie\\\\page_2.pdf', \n",
    "    'static\\\\pdf\\\\01 Adsolut initiatie\\\\page_20.pdf', \n",
    "    'static\\\\pdf\\\\01 Adsolut initiatie\\\\page_21.pdf', \n",
    "    'static\\\\pdf\\\\01 Adsolut initiatie\\\\page_22.pdf', \n",
    "    'static\\\\pdf\\\\01 Adsolut initiatie\\\\page_23.pdf', \n",
    "    'static\\\\pdf\\\\01 Adsolut initiatie\\\\page_24.pdf', \n",
    "    'static\\\\pdf\\\\01 Adsolut initiatie\\\\page_25.pdf', \n",
    "    'static\\\\pdf\\\\01 Adsolut initiatie\\\\page_26.pdf', \n",
    "    'static\\\\pdf\\\\01 Adsolut initiatie\\\\page_27.pdf', \n",
    "    'static\\\\pdf\\\\01 Adsolut initiatie\\\\page_28.pdf', \n",
    "    'static\\\\pdf\\\\01 Adsolut initiatie\\\\page_29.pdf', \n",
    "    'static\\\\pdf\\\\01 Adsolut initiatie\\\\page_3.pdf', \n",
    "    'static\\\\pdf\\\\01 Adsolut initiatie\\\\page_30.pdf', \n",
    "    'static\\\\pdf\\\\01 Adsolut initiatie\\\\page_4.pdf', \n",
    "    'static\\\\pdf\\\\01 Adsolut initiatie\\\\page_5.pdf', \n",
    "    'static\\\\pdf\\\\01 Adsolut initiatie\\\\page_6.pdf', \n",
    "    'static\\\\pdf\\\\01 Adsolut initiatie\\\\page_7.pdf', \n",
    "    'static\\\\pdf\\\\01 Adsolut initiatie\\\\page_8.pdf', \n",
    "    'static\\\\pdf\\\\01 Adsolut initiatie\\\\page_9.pdf'\n",
    "]"
   ]
  }
 ],
 "metadata": {
  "kernelspec": {
   "display_name": "Python 3 (ipykernel)",
   "language": "python",
   "name": "python3"
  },
  "language_info": {
   "codemirror_mode": {
    "name": "ipython",
    "version": 3
   },
   "file_extension": ".py",
   "mimetype": "text/x-python",
   "name": "python",
   "nbconvert_exporter": "python",
   "pygments_lexer": "ipython3",
   "version": "3.11.5"
  }
 },
 "nbformat": 4,
 "nbformat_minor": 5
}
