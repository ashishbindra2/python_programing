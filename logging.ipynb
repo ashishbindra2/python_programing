{
 "cells": [
  {
   "cell_type": "markdown",
   "id": "f0aeb265",
   "metadata": {},
   "source": [
    "### What the need of logging\n",
    "- log file\n",
    "- log book\n",
    "- log table \n",
    "- log libray\n",
    "- log lab\n",
    "- log office\n",
    "\n",
    "computer lab log book:\n",
    "\n",
    "S.no, Date, Name, RollNo, login time, desk no/pc no, logout\n",
    "\n",
    "1. traking\n",
    "2. debugging\n",
    "\n",
    "debuffing => to identifying the bug and fix the bug\n",
    "\n",
    "***Note:*** It is higly recommended to sotre complete application flow and exception information to a file. This process is called logging \n",
    "\n",
    "The main advantages of logging are:\n",
    "1. We can use log files performing debugging.\n",
    "2. we can provide statistic like number of request per day etc.\n",
    "\n",
    "logging is language in dependent concept\n"
   ]
  },
  {
   "cell_type": "markdown",
   "id": "c8c0e692",
   "metadata": {},
   "source": [
    "Implement logging\n",
    "--------------\n",
    "\n",
    "module: logging\n",
    "\n",
    "### logging level\n",
    "\n",
    "depending on type of information, logging data is divided into the following levels in python.\n",
    "\n",
    "1. CRITICAL => 50 (in java we use fateral)\n",
    "    - Respresents a very serious problem that need high attention\n",
    "2. ERROR = > 40\n",
    "    - Represents a serious error\n",
    "3. WARNING => 30 (An alert to programmer)\n",
    "    - Represents a warning message, some cation needed.It is alert to the programmer\n",
    "4. INFO => 20\n",
    "    - Represents a message with some importasnt information\n",
    "5. DEBUG => 10\n",
    "    - Represent a message which can be used for dubugging\n",
    "6. NOTSET => 0\n",
    "    - Represents logging level not set\n",
    "\n",
    "Default logging level: WARNING\n"
   ]
  },
  {
   "cell_type": "markdown",
   "id": "d82ab799",
   "metadata": {},
   "source": [
    "#### How to implement logging:\n",
    "\n",
    "- Create log file to store our log messages, we have to specift level\n",
    "- basicConfig() funvtion of logging module\n",
    "- `logging.basicConfig(filename='log.txt', level = logging.warning)`\n",
    "- `logging.basicConfig(filename='log.txt', level = 30)`\n",
    "    - automatically file will be create 30 or higger  will be shown\n",
    "\n",
    "DEBUG(20) ==> INFO(20) ==> WARNING(30) => ERROR(40) ==> CRITICSL(50)\n",
    "\n",
    "Write Information\n",
    "------------------------\n",
    " `logging.debug(message)`<br>\n",
    " `logging.info(message)`<br>\n",
    " `logging.warning(message)`<br>\n",
    " `logging.error(message)`<br>\n",
    " `logging.critical(message)`<br>\n"
   ]
  },
  {
   "cell_type": "markdown",
   "id": "5267ac5b",
   "metadata": {},
   "source": [
    "####  Write a python program to create a log file and write WARNING and Higher level message?\n",
    "\n",
    "- If we are not specifing file name : console\n",
    "- By default in log file data will be appended\n",
    "- Instead of appending if we wan't overwrite\n",
    "    - filemode = 'w'\n",
    "    - filemode = 'a'\n",
    "    - default value for file mode: a means append\n",
    "\n"
   ]
  },
  {
   "cell_type": "code",
   "execution_count": 3,
   "id": "393b9040",
   "metadata": {
    "scrolled": true
   },
   "outputs": [
    {
     "name": "stderr",
     "output_type": "stream",
     "text": [
      "WARNING:root:Warning message\n",
      "ERROR:root:Error message\n",
      "CRITICAL:root:Critical message\n"
     ]
    }
   ],
   "source": [
    "import logging\n",
    "\n",
    "logging.basicConfig(filename='log.txt',level=logging.WARNING,filemode='w')\n",
    "\n",
    "logging.debug('Debug message')\n",
    "logging.info('Info message')\n",
    "logging.warning('Warning message')\n",
    "logging.error('Error message')\n",
    "logging.critical('Critical message')\n"
   ]
  },
  {
   "cell_type": "markdown",
   "id": "35130382",
   "metadata": {},
   "source": [
    "o/p  \n",
    "- WARNING:root:Warning message\n",
    "- ERROR:root:Error message\n",
    "- CRITICAL:root:Critical message"
   ]
  },
  {
   "cell_type": "markdown",
   "id": "6a8f57ee",
   "metadata": {},
   "source": [
    "#### How to format log messages?\n",
    "- default format of log message\n",
    "- level:name of loger:message\n",
    "- if we want to formate, we should go for :formate armument\n",
    "    - `logging.basicConfig(formate='%(level-name)s') %(message)s`"
   ]
  },
  {
   "cell_type": "markdown",
   "id": "883df102",
   "metadata": {},
   "source": [
    "#### Q How to add TimeStamp in log message?\n",
    "`logging.basicConfig(format = '%(asctime)S %(levelname)s')`"
   ]
  },
  {
   "cell_type": "markdown",
   "id": "b454a0ee",
   "metadata": {},
   "source": [
    "#### Q How to change data and time formate?\n",
    "`logging.basicConfig(format = '%(asctime)S %(levelname)s'),datefmt=(%d/%m/%Y %I: %M: %S %P)`\n",
    "- %P => P.M/A.M\n",
    "- %I => 12 Hour time scale\n",
    "- %H => 12 hour time scale\n",
    "- Y => capital"
   ]
  },
  {
   "cell_type": "markdown",
   "id": "eeff14cd",
   "metadata": {},
   "source": [
    "#### Q How to write python program exception to log file?\n",
    "Note : log may not work on jupyter"
   ]
  },
  {
   "cell_type": "code",
   "execution_count": 1,
   "id": "f5690694",
   "metadata": {
    "scrolled": true
   },
   "outputs": [
    {
     "name": "stdout",
     "output_type": "stream",
     "text": [
      "enter x 3\n",
      "enter y 0\n",
      "division by zero\n"
     ]
    }
   ],
   "source": [
    "import logging\n",
    "\n",
    "logging.basicConfig(filename=\"exception_zero.log\",format = '%(asctime)s %(levelname)s',filemode='w')\n",
    "\n",
    "logging.info('New Request Come')\n",
    "try:\n",
    "    x=int(input(\"enter x \"))\n",
    "    y=int(input(\"enter y \"))\n",
    "    print(x/y)\n",
    "except ZeroDivisionError as msg:\n",
    "    logging.exception(msg)\n",
    "    print(msg)\n",
    "    \n",
    "except TypeError as msg:\n",
    "    logging.exception(msg)\n",
    "    print(\"value id in string\")\n",
    "    \n",
    "except ValueError as msg:\n",
    "    logging.exception(msg)\n",
    "    print(\"please enter in interge or float\")\n",
    "    \n",
    "logging.info('Request Complete!!')"
   ]
  },
  {
   "cell_type": "code",
   "execution_count": 6,
   "id": "5f5b2f09",
   "metadata": {},
   "outputs": [],
   "source": [
    "import logging\n",
    "\n",
    "logging.basicConfig(\n",
    "    filename='mylog.txt',\n",
    "    level=logging.DEBUG, #Debug or high level recomended\n",
    "    format = '%(asctime)s %(levelname)s %(message)s', datefmt= ('%d/%m/%Y %I: %M: %S %P'),\n",
    "    filemode='a')\n",
    "\n",
    "logging.debug('Debug message')\n",
    "logging.info('Info message')\n",
    "logging.warning('Warning message')\n",
    "logging.error('Error message')\n",
    "logging.critical('Critical message')\n"
   ]
  },
  {
   "cell_type": "markdown",
   "id": "c17388e3",
   "metadata": {},
   "source": [
    "level.INFO:root:info message\n",
    "- root => logger name\n",
    "- info message =>  message\n",
    "- logging.debug('') => 10 => lower level\n",
    "\n",
    "***Note:*** \n",
    "- Defautl logger is root logger \n",
    "- If we not specifiy file name data will writen to console\n"
   ]
  },
  {
   "cell_type": "markdown",
   "id": "a528decf",
   "metadata": {},
   "source": [
    "### loggin Levels\n",
    "\n",
    "- CRITICAL => 50\n",
    "- ERROR    => 40\n",
    "- WARNING  => 30\n",
    "- INFO     => 20\n",
    "- DEBUG    => 10\n",
    "\n",
    "### default logging level : WARNING\n",
    "\n",
    "### The main advantages of logging are:\n",
    "     \n",
    "- We can use log file performing debugging\n",
    "- We can provide statiistic number of request per day etc\n",
    "\n",
    "### It is higly recommended to store compile application flow and Exception information to a file."
   ]
  },
  {
   "cell_type": "markdown",
   "id": "be633bbb",
   "metadata": {},
   "source": [
    "## Problems with root logger\n",
    "- Root logger can handle either console or file but not simantiously \n",
    "- Root logger is the default logger\n",
    "\n",
    "### Problems:\n",
    "\n",
    "1. Once we set basic configuration the that configuration is final and we cannot change.\n",
    "2. It will always work only one handler either file or console but not both simantiously.\n",
    "3. It is not possible to configure logger with different configuation at different level.\n",
    "4. We cannot specifiy multiple log files for multiple modules/classes/metods\n",
    "\n",
    "To overcome these problems we should go for our own customized logger"
   ]
  },
  {
   "attachments": {
    "logger.drawio.png": {
     "image/png": "[encoded data removed]"
    }
   },
   "cell_type": "markdown",
   "id": "07360d19",
   "metadata": {},
   "source": [
    "### Customized logger ceration and usage\n",
    "![logger.drawio.png](attachment:logger.drawio.png)"
   ]
  },
  {
   "cell_type": "markdown",
   "id": "c3e98e56",
   "metadata": {},
   "source": [
    "1) Creation of logger object and set log level"
   ]
  },
  {
   "cell_type": "code",
   "execution_count": 10,
   "id": "50912b7d",
   "metadata": {},
   "outputs": [],
   "source": [
    "import logging\n",
    "logger = logging.getLogger('demologger')\n",
    "logger.setLevel(logging.DEBUG)"
   ]
  },
  {
   "cell_type": "markdown",
   "id": "c588855d",
   "metadata": {},
   "source": [
    "2) Creation of Handler Object:\n",
    "\n",
    "- There are multiple types of handler like stramHandler, FileHandler etc\n",
    "- Stream Handler =Write massage to console"
   ]
  },
  {
   "cell_type": "code",
   "execution_count": 11,
   "id": "54366244",
   "metadata": {},
   "outputs": [],
   "source": [
    "\n",
    "consoleHandler = logging.StreamHandler()\n",
    "# By default logger level is Handler level\n",
    "consoleHandler.setLevel(logging.INFO)\n"
   ]
  },
  {
   "cell_type": "markdown",
   "id": "68b041dd",
   "metadata": {},
   "source": [
    "3) Creation of formatter Object"
   ]
  },
  {
   "cell_type": "code",
   "execution_count": 12,
   "id": "4633bd09",
   "metadata": {},
   "outputs": [],
   "source": [
    "formatter = logging.Formatter('%(asctime)s:%(name)s: %(levelname)s: %(message)s',datefmt = '%d-%m-%Y %I:%M:%S %p')\n",
    "# %(name)s => logger name\n"
   ]
  },
  {
   "cell_type": "markdown",
   "id": "76a47161",
   "metadata": {},
   "source": [
    "4) Add Formatter to Handler"
   ]
  },
  {
   "cell_type": "code",
   "execution_count": 14,
   "id": "37e4d327",
   "metadata": {},
   "outputs": [],
   "source": [
    "consoleHandler.setFormatter(formatter)\n"
   ]
  },
  {
   "cell_type": "markdown",
   "id": "6bc81a59",
   "metadata": {},
   "source": [
    "5) Add Handler to logger"
   ]
  },
  {
   "cell_type": "code",
   "execution_count": 15,
   "id": "a9f08258",
   "metadata": {},
   "outputs": [],
   "source": [
    "logger.addHandler(consoleHandler)\n"
   ]
  },
  {
   "cell_type": "markdown",
   "id": "eac41713",
   "metadata": {},
   "source": [
    "6) Write message by using logger object"
   ]
  },
  {
   "cell_type": "code",
   "execution_count": 16,
   "id": "3606c615",
   "metadata": {
    "scrolled": false
   },
   "outputs": [
    {
     "name": "stderr",
     "output_type": "stream",
     "text": [
      "16-04-2024 05:23:04 PM:demologger: INFO: info message\n",
      "16-04-2024 05:23:04 PM:demologger: WARNING: warn message\n",
      "16-04-2024 05:23:04 PM:demologger: ERROR: error message\n",
      "16-04-2024 05:23:04 PM:demologger: CRITICAL: critical message\n"
     ]
    }
   ],
   "source": [
    "logger.debug('debug message')\n",
    "logger.info('info message')\n",
    "logger.warning('warn message')\n",
    "logger.error('error message')\n",
    "logger.critical('critical message')"
   ]
  },
  {
   "cell_type": "markdown",
   "id": "51ef357e",
   "metadata": {},
   "source": [
    "***Note:***\n",
    "- By Default logger level will be available to handler. But we can define our own level at handler level which will be the final for that handler\n",
    "- Handler level should be supported by logger \n",
    "    - i.e logger log level should be lower than handler other wise only logger log level will be considered"
   ]
  },
  {
   "cell_type": "code",
   "execution_count": 26,
   "id": "b194b705",
   "metadata": {},
   "outputs": [
    {
     "name": "stderr",
     "output_type": "stream",
     "text": [
      "16-04-2024 05:46:10 PM:demologger: INFO: info message\n",
      "16-04-2024 05:46:10 PM:demologger: INFO: info message\n",
      "16-04-2024 05:46:10 PM:demologger: INFO: info message\n",
      "16-04-2024 05:46:10 PM:demologger: WARNING: warn message\n",
      "16-04-2024 05:46:10 PM:demologger: WARNING: warn message\n",
      "16-04-2024 05:46:10 PM:demologger: WARNING: warn message\n",
      "16-04-2024 05:46:10 PM:demologger: ERROR: error message\n",
      "16-04-2024 05:46:10 PM:demologger: ERROR: error message\n",
      "16-04-2024 05:46:10 PM:demologger: ERROR: error message\n",
      "16-04-2024 05:46:10 PM:demologger: CRITICAL: critical message\n",
      "16-04-2024 05:46:10 PM:demologger: CRITICAL: critical message\n",
      "16-04-2024 05:46:10 PM:demologger: CRITICAL: critical message\n"
     ]
    }
   ],
   "source": [
    "# fiile handler\n",
    "import logging\n",
    "logger = logging.getLogger('demologger')\n",
    "logger.setLevel(logging.DEBUG)\n",
    "\n",
    " \n",
    "fileHandler = logging.FileHandler('abc.log',mode='a')\n",
    "fileHandler.setLevel(logging.ERROR)\n",
    "\n",
    "\n",
    "formatter = logging.Formatter('%(asctime)s:%(name)s: %(levelname)s: %(message)s',datefmt = '%d-%m-%Y %I:%M:%S %p')\n",
    "\n",
    "fileHandler.setFormatter(formatter)\n",
    "\n",
    "logger.addHandler(fileHandler)\n",
    "\n",
    "logger.debug('debug message')\n",
    "logger.info('info message')\n",
    "logger.warning('warn message')\n",
    "logger.error('error message')\n",
    "logger.critical('critical message')"
   ]
  },
  {
   "cell_type": "code",
   "execution_count": 22,
   "id": "7eff0368",
   "metadata": {
    "scrolled": true
   },
   "outputs": [
    {
     "name": "stderr",
     "output_type": "stream",
     "text": [
      "16-04-2024 05:46:02 PM:demologger: INFO: info message\n",
      "16-04-2024 05:46:02 PM:demologger: INFO: info message\n",
      "16-04-2024 05:46:02 PM:demologger: INFO: info message\n",
      "16-04-2024 05:46:02 PM:demologger: WARNING: warn message\n",
      "16-04-2024 05:46:02 PM:demologger: WARNING: warn message\n",
      "16-04-2024 05:46:02 PM:demologger: WARNING: warn message\n",
      "16-04-2024 05:46:02 PM:demologger: ERROR: error message\n",
      "16-04-2024 05:46:02 PM:demologger: ERROR: error message\n",
      "16-04-2024 05:46:02 PM:demologger: ERROR: error message\n",
      "16-04-2024 05:46:02 PM:demologger: CRITICAL: critical message\n",
      "16-04-2024 05:46:02 PM:demologger: CRITICAL: critical message\n",
      "16-04-2024 05:46:02 PM:demologger: CRITICAL: critical message\n"
     ]
    }
   ],
   "source": [
    "# for both console & filr handler\n",
    "import logging\n",
    "logger = logging.getLogger('demologger')\n",
    "logger.setLevel(logging.INFO)\n",
    "\n",
    " \n",
    "fileHandler = logging.FileHandler('file1.log',mode='a')\n",
    "fileHandler.setLevel(logging.ERROR)\n",
    "\n",
    "consoleHandler = logging.StreamHandler()\n",
    "consoleHandler.setLevel(logging.INFO)\n",
    "\n",
    "formatter = logging.Formatter('%(asctime)s:%(name)s: %(levelname)s: %(message)s',datefmt = '%d-%m-%Y %I:%M:%S %p')\n",
    "\n",
    "fileHandler.setFormatter(formatter)\n",
    "consoleHandler.setFormatter(formatter)\n",
    "\n",
    "logger.addHandler(fileHandler)\n",
    "logger.addHandler(consoleHandler)\n",
    "\n",
    "logger.debug('debug message')\n",
    "logger.info('info message')\n",
    "logger.warning('warn message')\n",
    "logger.error('error message')\n",
    "logger.critical('critical message')"
   ]
  },
  {
   "cell_type": "markdown",
   "id": "da901735",
   "metadata": {},
   "source": [
    "### Use multiple log files for multiple module\n"
   ]
  },
  {
   "cell_type": "markdown",
   "id": "07618463",
   "metadata": {},
   "source": [
    "####  Use separate log file for every module"
   ]
  },
  {
   "attachments": {
    "seprate_log.drawio.png": {
     "image/png": "[encoded data removed]"
    }
   },
   "cell_type": "markdown",
   "id": "041a43d9",
   "metadata": {},
   "source": [
    "![seprate_log.drawio.png](attachment:seprate_log.drawio.png)\n"
   ]
  },
  {
   "cell_type": "markdown",
   "id": "48ab433c",
   "metadata": {},
   "source": [
    "#### Student.py"
   ]
  },
  {
   "cell_type": "code",
   "execution_count": 62,
   "id": "0576e8be",
   "metadata": {},
   "outputs": [],
   "source": [
    "import logging\n",
    "\n",
    "logger = logging.getLogger('studentLogger')\n",
    "logger.setLevel(logging.DEBUG)\n",
    "\n",
    "fileHandler = logging.FileHandler('student.log', mode='a')\n",
    "\n",
    "# fileHandler = logging.FileHandler('student.log',mode = 'a')\n",
    "fileHandler.setLevel(logging.ERROR)\n",
    "\n",
    "\n",
    "# formatter = logging.Formatter('%(asctime)s:%(name)s: %(levelname)s: %(message)s',datefmt = '%d-%m-%Y %I:%M:%S %p')\n",
    "\n",
    "# formatter = logging.Formatter('%(asctime)s - %(name)s - %(message)s',datefmt = '%d - %m - %Y %I:%M:%S %p')\n",
    "\n",
    "fileHandler.setFormatter(formatter)\n",
    "logger.addHandler(fileHandler)\n",
    "\n",
    "logger.debug('deug message from student')\n",
    "logger.info('Info message from student')\n",
    "logger.warning('Warning message from student')\n",
    "logger.error('Error message from student')\n",
    "logger.critical('Critical message from student')\n"
   ]
  },
  {
   "cell_type": "markdown",
   "id": "28da14e3",
   "metadata": {},
   "source": [
    "#### test.py"
   ]
  },
  {
   "cell_type": "code",
   "execution_count": 59,
   "id": "147d6729",
   "metadata": {},
   "outputs": [],
   "source": [
    "\n",
    "import logging\n",
    "import student\n",
    "\n",
    "logger = logging.getLogger('testlogger')\n",
    "logger.setLevel(logging.DEBUG)\n",
    "\n",
    "fileHandler = logging.FileHandler('test.log',mode = 'a')\n",
    "fileHandler.setLevel(logging.DEBUG)\n",
    "\n",
    "\n",
    "formatter = logging.Formatter('%(asctime)s-%(name)s-%(message)s',\n",
    "                              datefmt = '%d-%m-%y %I:%M:%S %p')\n",
    "\n",
    "fileHandler.setFormatter(formatter)\n",
    "logger.addHandler(fileHandler)\n",
    "\n",
    "logger.debug('deug message from test')\n",
    "logger.info('Info message from test')\n",
    "logger.warning('Warning message from test')\n",
    "logger.error('Error message from test')\n",
    "logger.critical('Critical message from test')\n"
   ]
  },
  {
   "cell_type": "markdown",
   "id": "f5970270",
   "metadata": {},
   "source": [
    "#### Generic Custom logger \n",
    "\n",
    "\n",
    "Importance of inspect module: (Required to define Generic custom logger, python inbuilt)\n",
    "- inspect => Inspection\n",
    "- from which module / function call is coming\n",
    "    - stack[0] => reciver info\n",
    "    - stack[1] => caller info"
   ]
  },
  {
   "cell_type": "code",
   "execution_count": 1,
   "id": "328c99b3",
   "metadata": {},
   "outputs": [
    {
     "name": "stdout",
     "output_type": "stream",
     "text": [
      "FrameInfo(frame=<frame at 0x00000256477F6FB0, file 'C:\\\\Users\\\\Bindra\\\\AppData\\\\Local\\\\Temp\\\\ipykernel_12064\\\\331804253.py', line 4, code get_info>, filename='C:\\\\Users\\\\Bindra\\\\AppData\\\\Local\\\\Temp\\\\ipykernel_12064\\\\331804253.py', lineno=4, function='get_info', code_context=['    print(inspect.stack()[0])\\n'], index=0, positions=Positions(lineno=4, end_lineno=4, col_offset=10, end_col_offset=25))\n",
      "FrameInfo(frame=<frame at 0x0000025647AAC9A0, file 'C:\\\\Users\\\\Bindra\\\\AppData\\\\Local\\\\Temp\\\\ipykernel_12064\\\\331804253.py', line 6, code <module>>, filename='C:\\\\Users\\\\Bindra\\\\AppData\\\\Local\\\\Temp\\\\ipykernel_12064\\\\331804253.py', lineno=6, function='<module>', code_context=['get_info()\\n'], index=0, positions=Positions(lineno=6, end_lineno=6, col_offset=0, end_col_offset=10))\n"
     ]
    }
   ],
   "source": [
    "# demo.py\n",
    "import inspect\n",
    "def get_info():\n",
    "    print(inspect.stack()[0])\n",
    "    print(inspect.stack()[1])\n",
    "get_info()"
   ]
  },
  {
   "cell_type": "code",
   "execution_count": 2,
   "id": "1fc3b719",
   "metadata": {},
   "outputs": [
    {
     "name": "stdout",
     "output_type": "stream",
     "text": [
      "caller Module Name C:\\Users\\Bindra\\AppData\\Local\\Temp\\ipykernel_12064\\111340845.py\n",
      "caller Function Name <module>\n"
     ]
    }
   ],
   "source": [
    "# demo.py\n",
    "import inspect\n",
    "def get_info():\n",
    "    # print(inspect.stack()[0])\n",
    "    # print(inspect.stack()[1])\n",
    "    print(\"caller Module Name\",inspect.stack()[1][1])    \n",
    "    print(\"caller Function Name\",inspect.stack()[1][3])    \n",
    "get_info()"
   ]
  },
  {
   "cell_type": "code",
   "execution_count": null,
   "id": "202bf7e5",
   "metadata": {},
   "outputs": [],
   "source": [
    "# student.py\n",
    "\n",
    "from demo import getInfo\n",
    "def student_f1():\n",
    "    get_info()\n",
    "student_f1()"
   ]
  },
  {
   "cell_type": "markdown",
   "id": "4e741b78",
   "metadata": {},
   "source": [
    "#### Creation of generic logger and usage:\n"
   ]
  },
  {
   "cell_type": "code",
   "execution_count": 3,
   "id": "06b28c0f",
   "metadata": {},
   "outputs": [],
   "source": [
    "# Generic logger template\n",
    "import logging\n",
    "import inspect\n",
    "\n",
    "def get_custom_logger(level):\n",
    "    function_name = inspect.stack()[1][3]\n",
    "    logger_name = function_name + '_logger'\n",
    "    \n",
    "    logger = logging.getLogger(logger_name)\n",
    "    \n",
    "    logger.setLevel(level)\n",
    "    \n",
    "    file_handler = logging.FileHandler(\"genric_log.log\", mode='a')\n",
    "    file_handler.setLevel(level)\n",
    "        \n",
    "    formatter = logging.Formatter('%(asctime)s:%(name)s: %(levelname)s: %(message)s',datefmt = '%d-%m-%Y %I:%M:%S %p')\n",
    "    file_handler.setFormatter(formatter)\n",
    "    \n",
    "    logger.addHandler(file_handler)\n",
    "    \n",
    "    return logger\n",
    "\n",
    "def log_student():\n",
    "    logger = get_custom_logger(logging.ERROR)\n",
    "    \n",
    "    logger.debug('debug message')\n",
    "    logger.info('info message')\n",
    "    logger.warning('warn message')\n",
    "    logger.error('error message')\n",
    "    logger.critical('critical message')\n",
    "\n",
    "log_student()"
   ]
  },
  {
   "cell_type": "markdown",
   "id": "03fe6031",
   "metadata": {},
   "source": [
    "Need of separating logger configurations into a file or json or yml\n",
    "----------------------------------------------------------------------\n",
    "1. We can perform changes very easily.\n",
    "2. Reusability of configurations.\n",
    "3. Length of the code will be reduced and readabilty will be impoved.\n"
   ]
  },
  {
   "cell_type": "code",
   "execution_count": null,
   "id": "37e18824",
   "metadata": {},
   "outputs": [],
   "source": [
    "# logging-config.init\n"
   ]
  }
 ],
 "metadata": {
  "kernelspec": {
   "display_name": "Python 3 (ipykernel)",
   "language": "python",
   "name": "python3"
  },
  "language_info": {
   "codemirror_mode": {
    "name": "ipython",
    "version": 3
   },
   "file_extension": ".py",
   "mimetype": "text/x-python",
   "name": "python",
   "nbconvert_exporter": "python",
   "pygments_lexer": "ipython3",
   "version": "3.11.5"
  }
 },
 "nbformat": 4,
 "nbformat_minor": 5
}
