{
 "cells": [
  {
   "cell_type": "code",
   "execution_count": 74,
   "id": "89ffa45c",
   "metadata": {},
   "outputs": [
    {
     "name": "stdout",
     "output_type": "stream",
     "text": [
      "File Name:  abc.txt\n",
      "File Mode:  w\n",
      "Is File Readable:  False\n",
      "Is File Writable:  True\n",
      "Is File Closed :  False\n",
      "Is File Closed :  True\n"
     ]
    }
   ],
   "source": [
    "f=open(\"abc.txt\",'w') \n",
    "print(\"File Name: \",f.name) \n",
    "print(\"File Mode: \",f.mode) \n",
    "print(\"Is File Readable: \",f.readable()) \n",
    "print(\"Is File Writable: \",f.writable()) \n",
    "print(\"Is File Closed : \",f.closed)\n",
    "f.close()\n",
    "print(\"Is File Closed : \",f.closed)"
   ]
  },
  {
   "cell_type": "code",
   "execution_count": 26,
   "id": "25ce7679",
   "metadata": {},
   "outputs": [
    {
     "name": "stdout",
     "output_type": "stream",
     "text": [
      "Data written to the file successfully\n"
     ]
    }
   ],
   "source": [
    "f=open(\"abcd.txt\",'w') \n",
    "\n",
    "f.write(\"Durga\\n\") \n",
    "f.write(\"Software\\n\") \n",
    "f.write(\"Solutions\\n\") \n",
    "\n",
    "print(\"Data written to the file successfully\") \n",
    "f.close()"
   ]
  },
  {
   "cell_type": "code",
   "execution_count": 27,
   "id": "9af3c0c5",
   "metadata": {},
   "outputs": [
    {
     "name": "stdout",
     "output_type": "stream",
     "text": [
      "List of lines written to the file successfully\n"
     ]
    }
   ],
   "source": [
    "f=open(\"abcd.txt\",'w') \n",
    "\n",
    "list=[\"sunny\\n\",\"bunny\\n\",\"vinny\\n\",\"chinny\"] \n",
    "\n",
    "f.writelines(list) \n",
    "\n",
    "print(\"List of lines written to the file successfully\") \n",
    "\n",
    "f.close()"
   ]
  },
  {
   "cell_type": "code",
   "execution_count": 83,
   "id": "5faf0543",
   "metadata": {},
   "outputs": [
    {
     "name": "stdout",
     "output_type": "stream",
     "text": [
      "sunny\n",
      "bunn\n"
     ]
    }
   ],
   "source": [
    "f=open(\"abcd.txt\",'r') \n",
    "\n",
    "data=f.read(10) \n",
    "print(data)\n",
    "f.close()"
   ]
  },
  {
   "cell_type": "code",
   "execution_count": 81,
   "id": "75339f52",
   "metadata": {},
   "outputs": [
    {
     "name": "stdout",
     "output_type": "stream",
     "text": [
      "sunny\n",
      "bunny\n",
      "vinny\n",
      "chinny\n"
     ]
    }
   ],
   "source": [
    "f=open(\"abcd.txt\",'r') \n",
    "\n",
    "data=f.read()\n",
    "print(data) \n",
    "f.close()"
   ]
  },
  {
   "cell_type": "code",
   "execution_count": 84,
   "id": "5253d874",
   "metadata": {
    "scrolled": true
   },
   "outputs": [
    {
     "name": "stdout",
     "output_type": "stream",
     "text": [
      "sunny\n",
      "bunny\n",
      "vinny\n"
     ]
    }
   ],
   "source": [
    "f=open(\"abcd.txt\",'r')\n",
    "\n",
    "line1=f.readline()\n",
    "print(line1,end='')\n",
    "\n",
    "line2=f.readline() \n",
    "print(line2,end='') \n",
    "\n",
    "line3=f.readline() \n",
    "print(line3,end='') \n",
    "\n",
    "f.close()"
   ]
  },
  {
   "cell_type": "code",
   "execution_count": 85,
   "id": "8cd4718f",
   "metadata": {},
   "outputs": [
    {
     "name": "stdout",
     "output_type": "stream",
     "text": [
      "['sunny\\n', 'bunny\\n', 'vinny\\n', 'chinny']"
     ]
    }
   ],
   "source": [
    "f=open(\"abcd.txt\",'r') \n",
    "\n",
    "lines=f.readlines()\n",
    "print(lines,end='')\n",
    "\n",
    "f.close()"
   ]
  },
  {
   "cell_type": "code",
   "execution_count": 86,
   "id": "f3e12346",
   "metadata": {
    "scrolled": true
   },
   "outputs": [
    {
     "name": "stdout",
     "output_type": "stream",
     "text": [
      "sun\n",
      "ny\n",
      "\n",
      "bunn\n",
      "Remaining data\n",
      "y\n",
      "vinny\n",
      "chinny\n"
     ]
    }
   ],
   "source": [
    "f=open(\"abcd.txt\",\"r\")\n",
    "\n",
    "print(f.read(3)) \n",
    "print(f.readline())\n",
    "print(f.read(4)) \n",
    "print(\"Remaining data\") \n",
    "print(f.read())"
   ]
  },
  {
   "cell_type": "code",
   "execution_count": 88,
   "id": "8d7353eb",
   "metadata": {
    "scrolled": true
   },
   "outputs": [
    {
     "name": "stdout",
     "output_type": "stream",
     "text": [
      "Is File Closed:  False\n",
      "Is File Closed:  True\n"
     ]
    }
   ],
   "source": [
    "with open(\"abc.txt\",\"w\") as f: \n",
    "    f.write(\"Durga\\n\")\n",
    "    f.write(\"Software\\n\") \n",
    "    f.write(\"Solutions\\n\") \n",
    "    print(\"Is File Closed: \",f.closed) \n",
    "\n",
    "print(\"Is File Closed: \",f.closed)"
   ]
  },
  {
   "cell_type": "code",
   "execution_count": null,
   "id": "faac7bbc",
   "metadata": {},
   "outputs": [],
   "source": []
  },
  {
   "cell_type": "code",
   "execution_count": 93,
   "id": "60ebe063",
   "metadata": {
    "scrolled": false
   },
   "outputs": [
    {
     "name": "stdout",
     "output_type": "stream",
     "text": [
      "Enter File Name: note.txt\n",
      "File exists: note.txt\n",
      "The number of Lines: 12\n",
      "The number of Words: 98\n",
      "The number of Characters: 538\n"
     ]
    }
   ],
   "source": [
    "import os\n",
    "import sys \n",
    "\n",
    "fname=input(\"Enter File Name: \") \n",
    "\n",
    "if os.path.isfile(fname): \n",
    "    print(\"File exists:\",fname)     \n",
    "    f=open(fname,\"r\") \n",
    "    \n",
    "else:\n",
    "    print(\"File does not exist:\",fname) \n",
    "    sys.exit(0) \n",
    "    \n",
    "lcount=wcount=ccount=0 \n",
    "\n",
    "for line in f: \n",
    "    lcount=lcount+1 \n",
    "    ccount=ccount+len(line) \n",
    "    words=line.split() \n",
    "    wcount=wcount+len(words) \n",
    "\n",
    "print(\"The number of Lines:\",lcount) \n",
    "print(\"The number of Words:\",wcount)\n",
    "print(\"The number of Characters:\",ccount)"
   ]
  },
  {
   "cell_type": "code",
   "execution_count": null,
   "id": "ebda4d2e",
   "metadata": {},
   "outputs": [],
   "source": [
    "total_chars_incl_spaces: 538\n",
    "total_characters_excl_space: 451\n",
    "total_spaces: 87\n",
    "total_words: 98"
   ]
  },
  {
   "cell_type": "code",
   "execution_count": 94,
   "id": "9cc5dde8",
   "metadata": {},
   "outputs": [
    {
     "name": "stdout",
     "output_type": "stream",
     "text": [
      "New Image is available with the name: newpic.jpg\n"
     ]
    }
   ],
   "source": [
    "f1=open(\"R.jpeg\",\"rb\") \n",
    "f2=open(\"newpic.jpg\",\"wb\") \n",
    "\n",
    "bytes=f1.read() \n",
    "f2.write(bytes) \n",
    "\n",
    "print(\"New Image is available with the name: newpic.jpg\")"
   ]
  },
  {
   "cell_type": "code",
   "execution_count": 102,
   "id": "83766f99",
   "metadata": {},
   "outputs": [
    {
     "name": "stdout",
     "output_type": "stream",
     "text": [
      "Enter Number of Employees:5\n",
      "Enter Employee No:101\n",
      "Enter Employee Name:ashish\n",
      "Enter Employee Salary:10000000\n",
      "Enter Employee Address:punjab\n",
      "Enter Employee No:102\n",
      "Enter Employee Name:sonu\n",
      "Enter Employee Salary:29999999\n",
      "Enter Employee Address:UP\n",
      "Enter Employee No:103\n",
      "Enter Employee Name:bindra\n",
      "Enter Employee Salary:900000000\n",
      "Enter Employee Address:shimla\n",
      "Enter Employee No:104\n",
      "Enter Employee Name:kumar\n",
      "Enter Employee Salary:20202020\n",
      "Enter Employee Address:Himachal\n",
      "Enter Employee No:105\n",
      "Enter Employee Name:sreshti\n",
      "Enter Employee Salary:1000000000000000\n",
      "Enter Employee Address:GOA\n",
      "Total Employees data written to csv file successfully\n"
     ]
    }
   ],
   "source": [
    "import csv \n",
    "\n",
    "with open(\"emp.csv\",\"w\",newline='') as f: \n",
    "    w=csv.writer(f) # returns csv writer object \n",
    "    w.writerow([\"ENO\",\"ENAME\",\"ESAL\",\"EADDR\"]) \n",
    "    \n",
    "    n=int(input(\"Enter Number of Employees:\")) \n",
    "\n",
    "    for i in range(n):\n",
    "        eno=input(\"Enter Employee No:\") \n",
    "        ename=input(\"Enter Employee Name:\")\n",
    "        esal=input(\"Enter Employee Salary:\") \n",
    "        eaddr=input(\"Enter Employee Address:\") \n",
    "        w.writerow([eno,ename,esal,eaddr]) \n",
    "    \n",
    "print(\"Total Employees data written to csv file successfully\")"
   ]
  },
  {
   "cell_type": "code",
   "execution_count": 171,
   "id": "383bc639",
   "metadata": {},
   "outputs": [
    {
     "name": "stdout",
     "output_type": "stream",
     "text": [
      "['ENO', 'ENAME', 'ESAL', 'EADDR']\n",
      "['101', 'ashish', '10000000', 'punjab']\n",
      "['102', 'sonu', '29999999', 'UP']\n",
      "['103', 'bindra', '900000000', 'shimla']\n",
      "['104', 'kumar', '20202020', 'Himachal']\n",
      "['105', 'sreshti', '1000000000000000', 'GOA']\n"
     ]
    }
   ],
   "source": [
    "import csv \n",
    "\n",
    "f=open(\"emp.csv\",'r') \n",
    "\n",
    "csv_reader=csv.reader(f) #returns csv reader object \n",
    "for row in csv_reader:\n",
    "    print(row)\n",
    "\n",
    "f.close()"
   ]
  },
  {
   "cell_type": "code",
   "execution_count": 176,
   "id": "a47b440a",
   "metadata": {},
   "outputs": [
    {
     "name": "stdout",
     "output_type": "stream",
     "text": [
      "{'ENO': '101', 'ENAME': 'ashish', 'ESAL': '10000000', 'EADDR': 'punjab'}\n",
      "{'ENO': '102', 'ENAME': 'sonu', 'ESAL': '29999999', 'EADDR': 'UP'}\n",
      "{'ENO': '103', 'ENAME': 'bindra', 'ESAL': '900000000', 'EADDR': 'shimla'}\n",
      "{'ENO': '104', 'ENAME': 'kumar', 'ESAL': '20202020', 'EADDR': 'Himachal'}\n",
      "{'ENO': '105', 'ENAME': 'sreshti', 'ESAL': '1000000000000000', 'EADDR': 'GOA'}\n"
     ]
    }
   ],
   "source": [
    "import csv \n",
    "\n",
    "with open(\"emp.csv\",'r') as f:\n",
    "    csv_reader=csv.DictReader(f) #returns csv reader object \n",
    "    for row in csv_reader:\n",
    "        print(row)"
   ]
  },
  {
   "cell_type": "code",
   "execution_count": 178,
   "id": "43845b5f",
   "metadata": {},
   "outputs": [
    {
     "name": "stdout",
     "output_type": "stream",
     "text": [
      "files.zip file created successfully\n"
     ]
    }
   ],
   "source": [
    "from zipfile import * \n",
    "\n",
    "f=ZipFile(\"files.zip\",'w',ZIP_DEFLATED) \n",
    "\n",
    "f.write(\"abc.txt\") \n",
    "f.write(\"abcd.txt\") \n",
    "f.write(\"note.txt\") \n",
    "\n",
    "f.close() \n",
    "print(\"files.zip file created successfully\")"
   ]
  },
  {
   "cell_type": "code",
   "execution_count": 179,
   "id": "5da02eb4",
   "metadata": {},
   "outputs": [
    {
     "name": "stdout",
     "output_type": "stream",
     "text": [
      "File Name:  abc.txt\n",
      "File Name:  abcd.txt\n",
      "File Name:  note.txt\n"
     ]
    }
   ],
   "source": [
    "from zipfile import *\n",
    "\n",
    "f=ZipFile(\"files.zip\",'r',ZIP_STORED) \n",
    "names=f.namelist() \n",
    "\n",
    "for name in names: \n",
    "    print( \"File Name: \",name)"
   ]
  },
  {
   "cell_type": "code",
   "execution_count": 8,
   "id": "2a0ddf1f",
   "metadata": {},
   "outputs": [],
   "source": [
    "file_name =  \"note.txt\"\n"
   ]
  },
  {
   "cell_type": "code",
   "execution_count": 23,
   "id": "965536f1",
   "metadata": {},
   "outputs": [],
   "source": [
    "def read_file(path: str) -> str:\n",
    "    with open(path, 'r') as file:\n",
    "        text: str = file.readlines()\n",
    "        print(text)\n",
    "    return text"
   ]
  },
  {
   "cell_type": "code",
   "execution_count": 186,
   "id": "7bc35986",
   "metadata": {},
   "outputs": [],
   "source": [
    "def read_file(path: str) -> str:\n",
    "    with open(path, 'r') as file:\n",
    "        text: str = file.read()\n",
    "    return text"
   ]
  },
  {
   "cell_type": "code",
   "execution_count": 24,
   "id": "6b5191af",
   "metadata": {},
   "outputs": [
    {
     "name": "stdout",
     "output_type": "stream",
     "text": [
      "['The red fox jumped over the blue river.\\n', '\\n', '1. The green bird flew across the yellow sky.\\n', '2. The brown cat strolled through the tall grass.\\n', '3. The white horse galloped along the dusty trail.\\n', '4. The black crow soared over the golden field.\\n', '5. The gray wolf ran past the frozen lake.\\n', '6. The blue whale swam beneath the calm sea.\\n', '7. The orange tiger prowled around the dense jungle.\\n', '8. The pink flamingo stood by the shallow pond.\\n', '9. The silver fish darted through the clear water.\\n', '10. The purple butterfly fluttered above the blooming flowers.']\n"
     ]
    },
    {
     "data": {
      "text/plain": [
       "['The red fox jumped over the blue river.\\n',\n",
       " '\\n',\n",
       " '1. The green bird flew across the yellow sky.\\n',\n",
       " '2. The brown cat strolled through the tall grass.\\n',\n",
       " '3. The white horse galloped along the dusty trail.\\n',\n",
       " '4. The black crow soared over the golden field.\\n',\n",
       " '5. The gray wolf ran past the frozen lake.\\n',\n",
       " '6. The blue whale swam beneath the calm sea.\\n',\n",
       " '7. The orange tiger prowled around the dense jungle.\\n',\n",
       " '8. The pink flamingo stood by the shallow pond.\\n',\n",
       " '9. The silver fish darted through the clear water.\\n',\n",
       " '10. The purple butterfly fluttered above the blooming flowers.']"
      ]
     },
     "execution_count": 24,
     "metadata": {},
     "output_type": "execute_result"
    }
   ],
   "source": [
    "read_file(file_name)"
   ]
  },
  {
   "cell_type": "markdown",
   "id": "8d7d7184",
   "metadata": {},
   "source": [
    "\n",
    "\n",
    "\n",
    "**Homework:**\n",
    "---\n",
    "1. Add the top 5 most common words to the analysis message.\n",
    "2. Find the total number of spaces in the file.\n",
    "3. Find the total number of characters in the file (including spaces).\n",
    "4. Find the total number of characters in the file (excluding spaces).\n",
    "5. Find the total number of words in the file.\n",
    "6. Find the total number of lines in the file.\n",
    "7. Display the file name and list of directories containing the file.\n",
    "8. Calculate the average word length in the file.\n",
    "9. Find the number of unique words in the file.\n",
    "10. Count the frequency of a specific word provided by the user.\n",
    "11. Identify and display all unique punctuation marks in the file.\n",
    "12. Check if the file contains any numerical digits and count them.\n",
    "13. Find the longest word in the file.\n",
    "14. Find the shortest word in the file.\n",
    "15. Sort all the words alphabetically and display them.\n",
    "\n"
   ]
  },
  {
   "cell_type": "code",
   "execution_count": 187,
   "id": "09445590",
   "metadata": {},
   "outputs": [],
   "source": [
    "def analyse(text: str) -> dict[str, int]:\n",
    "    result: dict[str, int] = {\n",
    "        'total_chars_incl_spaces': len(text),\n",
    "        'total_characters_excl_space': len(text.replace(' ','')),\n",
    "        'total_spaces': text.count(' '),\n",
    "        'total_words': len(text.split())\n",
    "    }\n",
    "    return result\n"
   ]
  },
  {
   "cell_type": "code",
   "execution_count": 188,
   "id": "804fc368",
   "metadata": {},
   "outputs": [],
   "source": [
    "def main() -> None:\n",
    "    text: str = read_file(file_name)\n",
    "    analysis:dict[str, int] = analyse(text)\n",
    "    \n",
    "    for key, value in analysis.items():\n",
    "        print(f\"{key}: {value}\")\n"
   ]
  },
  {
   "cell_type": "code",
   "execution_count": 189,
   "id": "de66ddde",
   "metadata": {
    "scrolled": true
   },
   "outputs": [
    {
     "name": "stdout",
     "output_type": "stream",
     "text": [
      "__main__\n",
      "total_chars_incl_spaces: 538\n",
      "total_characters_excl_space: 451\n",
      "total_spaces: 87\n",
      "total_words: 98\n"
     ]
    }
   ],
   "source": [
    "if __name__ == \"__main__\":\n",
    "    print(__name__)\n",
    "    main()"
   ]
  },
  {
   "cell_type": "markdown",
   "id": "0d31bcc7",
   "metadata": {},
   "source": [
    "#### Morse code converter\n",
    "1. Create a function that converts the text and returns it as morse code.\n",
    "2. Create a function that can convert the morse code back into regular text.\n",
    "\n",
    "morse_code_dict: dict[str, str] = {\n",
    "    'A': '.-', 'B': '-...', 'C': '-.-.', 'D': '-..', 'E': '.', 'F': '..-.',\n",
    "    'G': '--.', 'H': '....', 'I': '..', 'J': '.---', 'K': '-.-', 'L': '.-..',\n",
    "    'M': '--', 'N': '-.', 'O': '---', 'P': '.--.', 'Q': '--.-', 'R': '.-.',\n",
    "    'S': '...', 'T': '-', 'U': '..-', 'V': '...-', 'W': '.--', 'X': '-..-',\n",
    "    'Y': '-.--', 'Z': '--..',\n",
    "    '1': '.----', '2': '..---', '3': '...--', '4': '....-', '5': '.....',\n",
    "    '6': '-....', '7': '--...', '8': '---..', '9': '----.', '0': '-----',\n",
    "    ' ': '/'\n",
    "}"
   ]
  },
  {
   "cell_type": "code",
   "execution_count": 196,
   "id": "fae018e0",
   "metadata": {},
   "outputs": [],
   "source": [
    "morse_code_dict: dict[str, str] = {\n",
    "    'A': '.-', 'B': '-...', 'C': '-.-.', 'D': '-..', 'E': '.', 'F': '..-.',\n",
    "    'G': '--.', 'H': '....', 'I': '..', 'J': '.---', 'K': '-.-', 'L': '.-..',\n",
    "    'M': '--', 'N': '-.', 'O': '---', 'P': '.--.', 'Q': '--.-', 'R': '.-.',\n",
    "    'S': '...', 'T': '-', 'U': '..-', 'V': '...-', 'W': '.--', 'X': '-..-',\n",
    "    'Y': '-.--', 'Z': '--..',\n",
    "    '1': '.----', '2': '..---', '3': '...--', '4': '....-', '5': '.....',\n",
    "    '6': '-....', '7': '--...', '8': '---..', '9': '----.', '0': '-----',\n",
    "    ' ': '/', '&': '.-...', \"'\": '.----.', '@': '.--.-.', \")\": '-.--.-',\n",
    "    \"(\": \"-.--.\", \":\": \"---...\", \",\": \"--..--\", \"=\": \"-...-\",\n",
    "    \"!\": \"-.-.--\", \".\": \".-.-.-\", \"-\": \"-....-\", \"×\": \"-..-\",\n",
    "    \"%\": \"------..-.-----\", \"+\": \".-.-.\", '\"':\".-..-.\", \"?\": \"..--..\",\n",
    "    \"/\": \"-..-.\"\n",
    "}"
   ]
  },
  {
   "cell_type": "code",
   "execution_count": null,
   "id": "4a1e3549",
   "metadata": {},
   "outputs": [],
   "source": [
    "https://morsedecoder.com/"
   ]
  },
  {
   "cell_type": "code",
   "execution_count": 197,
   "id": "77e7cb01",
   "metadata": {
    "scrolled": true
   },
   "outputs": [
    {
     "data": {
      "text/plain": [
       "'.- ... .... .. ... .... .--.-. --. -- .- .. .-.. .-.-.- -.-. --- --'"
      ]
     },
     "execution_count": 197,
     "metadata": {},
     "output_type": "execute_result"
    }
   ],
   "source": [
    "def convert_to_morse(text: str) -> str:\n",
    "    mors = []\n",
    "    \n",
    "    for ch in text:\n",
    "        mors.append(morse_code_dict[ch.upper()])\n",
    "        \n",
    "    return \" \".join(mors)\n",
    "convert_to_morse(\"ashish@gmail.com\")\n"
   ]
  },
  {
   "cell_type": "code",
   "execution_count": null,
   "id": "f78badba",
   "metadata": {},
   "outputs": [],
   "source": []
  },
  {
   "cell_type": "code",
   "execution_count": 199,
   "id": "a0e8e678",
   "metadata": {
    "scrolled": true
   },
   "outputs": [],
   "source": [
    "from collections import Counter\n",
    "c = Counter()                           # a new, empty counter\n"
   ]
  },
  {
   "cell_type": "code",
   "execution_count": 202,
   "id": "b975cd82",
   "metadata": {},
   "outputs": [
    {
     "data": {
      "text/plain": [
       "Counter({'a': 3, 'l': 2, 'g': 1, 'h': 1, 'd': 1})"
      ]
     },
     "execution_count": 202,
     "metadata": {},
     "output_type": "execute_result"
    }
   ],
   "source": [
    "c = Counter('gallahad')                 # a new counter from an iterable\n",
    "c"
   ]
  },
  {
   "cell_type": "code",
   "execution_count": 203,
   "id": "ef3463c7",
   "metadata": {},
   "outputs": [
    {
     "data": {
      "text/plain": [
       "Counter({'red': 4, 'blue': 2})"
      ]
     },
     "execution_count": 203,
     "metadata": {},
     "output_type": "execute_result"
    }
   ],
   "source": [
    "c = Counter({'red': 4, 'blue': 2})      # a new counter from a mapping\n",
    "c"
   ]
  },
  {
   "cell_type": "code",
   "execution_count": 204,
   "id": "42e1d5b9",
   "metadata": {
    "scrolled": true
   },
   "outputs": [
    {
     "data": {
      "text/plain": [
       "Counter({'dogs': 8, 'cats': 4})"
      ]
     },
     "execution_count": 204,
     "metadata": {},
     "output_type": "execute_result"
    }
   ],
   "source": [
    "c = Counter(cats=4, dogs=8)   \n",
    "c # a new counter from keyword args"
   ]
  },
  {
   "cell_type": "code",
   "execution_count": 205,
   "id": "0a50dff4",
   "metadata": {
    "scrolled": true
   },
   "outputs": [
    {
     "data": {
      "text/plain": [
       "0"
      ]
     },
     "execution_count": 205,
     "metadata": {},
     "output_type": "execute_result"
    }
   ],
   "source": [
    "c = Counter(['eggs', 'ham'])\n",
    "c['bacon']                              # count of a missing element is zero\n"
   ]
  },
  {
   "cell_type": "code",
   "execution_count": 206,
   "id": "39a706c1",
   "metadata": {},
   "outputs": [],
   "source": [
    "c['sausage'] = 0                        # counter entry with a zero count\n",
    "del c['sausage']                        # del actually removes the entry"
   ]
  },
  {
   "cell_type": "code",
   "execution_count": 207,
   "id": "a1cf2fa6",
   "metadata": {},
   "outputs": [
    {
     "data": {
      "text/plain": [
       "['a', 'a', 'a', 'a', 'b', 'b']"
      ]
     },
     "execution_count": 207,
     "metadata": {},
     "output_type": "execute_result"
    }
   ],
   "source": [
    "c = Counter(a=4, b=2, c=0, d=-2)\n",
    "sorted(c.elements())"
   ]
  },
  {
   "cell_type": "markdown",
   "id": "3b4057a8",
   "metadata": {},
   "source": [
    "#### Return a list of the n most common elements and their counts from the most common to the least. I"
   ]
  },
  {
   "cell_type": "code",
   "execution_count": 210,
   "id": "24a688b0",
   "metadata": {
    "scrolled": true
   },
   "outputs": [
    {
     "data": {
      "text/plain": [
       "[('a', 5), ('b', 2), ('r', 2)]"
      ]
     },
     "execution_count": 210,
     "metadata": {},
     "output_type": "execute_result"
    }
   ],
   "source": [
    "Counter('abracadabra').most_common(3)\n",
    "[('a', 5), ('b', 2), ('r', 2)]"
   ]
  },
  {
   "cell_type": "code",
   "execution_count": 211,
   "id": "c9e22cf9",
   "metadata": {
    "scrolled": true
   },
   "outputs": [
    {
     "data": {
      "text/plain": [
       "15"
      ]
     },
     "execution_count": 211,
     "metadata": {},
     "output_type": "execute_result"
    }
   ],
   "source": [
    "c = Counter(a=10, b=5, c=0)\n",
    "c.total()"
   ]
  },
  {
   "cell_type": "code",
   "execution_count": 212,
   "id": "9fbf62d0",
   "metadata": {
    "scrolled": true
   },
   "outputs": [
    {
     "ename": "TypeError",
     "evalue": "'list' object is not callable",
     "output_type": "error",
     "traceback": [
      "\u001b[1;31m---------------------------------------------------------------------------\u001b[0m",
      "\u001b[1;31mTypeError\u001b[0m                                 Traceback (most recent call last)",
      "Cell \u001b[1;32mIn[212], line 3\u001b[0m\n\u001b[0;32m      1\u001b[0m c\u001b[38;5;241m.\u001b[39mtotal()                       \u001b[38;5;66;03m# total of all counts\u001b[39;00m\n\u001b[0;32m      2\u001b[0m c\u001b[38;5;241m.\u001b[39mclear()                       \u001b[38;5;66;03m# reset all counts\u001b[39;00m\n\u001b[1;32m----> 3\u001b[0m \u001b[38;5;28mlist\u001b[39m(c)                         \u001b[38;5;66;03m# list unique elements\u001b[39;00m\n\u001b[0;32m      4\u001b[0m \u001b[38;5;28mset\u001b[39m(c)                          \u001b[38;5;66;03m# convert to a set\u001b[39;00m\n\u001b[0;32m      5\u001b[0m \u001b[38;5;28mdict\u001b[39m(c)                         \u001b[38;5;66;03m# convert to a regular dictionary\u001b[39;00m\n",
      "\u001b[1;31mTypeError\u001b[0m: 'list' object is not callable"
     ]
    }
   ],
   "source": [
    "c.total()                       # total of all counts\n",
    "c.clear()                       # reset all counts\n",
    "list(c)                         # list unique elements\n",
    "set(c)                          # convert to a set\n",
    "dict(c)                         # convert to a regular dictionary\n",
    "c.items()                       # convert to a list of (elem, cnt) pairs\n",
    "Counter(dict(list_of_pairs))    # convert from a list of (elem, cnt) pairs\n",
    "c.most_common()[:-n-1:-1]       # n least common elements\n",
    "+c                              # remove zero and negative counts"
   ]
  },
  {
   "cell_type": "markdown",
   "id": "3f7f8ed2",
   "metadata": {},
   "source": [
    "#### Create a word frequncy counter and gice us most common words\n",
    "- Create a function that allows the user to read a file directly(such as a text) so the user does not have to copy and paste text"
   ]
  },
  {
   "cell_type": "code",
   "execution_count": 215,
   "id": "7e1848e6",
   "metadata": {
    "scrolled": true
   },
   "outputs": [
    {
     "data": {
      "text/plain": [
       "[('a', 3), ('is', 3)]"
      ]
     },
     "execution_count": 215,
     "metadata": {},
     "output_type": "execute_result"
    }
   ],
   "source": [
    "from collections import Counter\n",
    "import re\n",
    "\n",
    "text = \"ashish ashish a a a is is is good good man.\"\n",
    "words = Counter(text.split())\n",
    "\n",
    "words.most_common(2)"
   ]
  },
  {
   "cell_type": "code",
   "execution_count": 247,
   "id": "faa0562c",
   "metadata": {},
   "outputs": [
    {
     "data": {
      "text/plain": [
       "['ashish', 'ashish', 'a', 'a', 'a', 'is', 'is', 'is', 'good', 'good', 'man']"
      ]
     },
     "execution_count": 247,
     "metadata": {},
     "output_type": "execute_result"
    }
   ],
   "source": [
    "v = re.findall(r'\\w+',text)\n",
    "v"
   ]
  },
  {
   "cell_type": "code",
   "execution_count": 1,
   "id": "6e8916c2",
   "metadata": {},
   "outputs": [
    {
     "name": "stdout",
     "output_type": "stream",
     "text": [
      "['a', 'a', 'a']\n"
     ]
    }
   ],
   "source": [
    "var = 3 * ['a']\n",
    "print(var)"
   ]
  },
  {
   "cell_type": "markdown",
   "id": "6f039e89",
   "metadata": {},
   "source": [
    "#### Website status checker\n",
    "- status_code\n",
    "- content_type\n",
    "- server\n",
    "- response_time"
   ]
  },
  {
   "cell_type": "code",
   "execution_count": 14,
   "id": "61e82346",
   "metadata": {},
   "outputs": [
    {
     "name": "stdout",
     "output_type": "stream",
     "text": [
      "url = https://ashishbindra2.github.io/workshop/os/\n",
      "status_code = 200\n",
      "content_type = text/html; charset=utf-8\n",
      "server = GitHub.com\n",
      "response_time = 0.37\n"
     ]
    }
   ],
   "source": [
    "import requests\n",
    "from requests import Response, RequestException\n",
    "from requests.structures import CaseInsensitiveDict\n",
    "\n",
    "def check_status(url: str) -> None:\n",
    "    try:\n",
    "        response: Response = requests.get(url)\n",
    "        # print(response) # <Response [200]>\n",
    "\n",
    "        # Information\n",
    "        status_code: int = response.status_code\n",
    "\n",
    "        headers: CaseInsensitiveDict[str] = response.headers\n",
    "\n",
    "        content_type:str = headers.get(\"Content-Type\",\"Unknown\")\n",
    "        server: str = headers.get(\"Server\",\"Unknown\")\n",
    "        url: str = response.url\n",
    "        response_time: float = response.elapsed.total_seconds()\n",
    "\n",
    "        print(f\"{url = :}\")\n",
    "        print(f\"{status_code = :}\")\n",
    "        print(f\"{content_type = :}\")\n",
    "        print(f\"{server = :}\")\n",
    "        print(f\"{response_time = :.2f}\")\n",
    "    except RequestException as e:\n",
    "        print(f\"Error: {e}\")\n",
    "        \n",
    "check_status(\"https://ashishbindra2.github.io/workshop/os/\")"
   ]
  }
 ],
 "metadata": {
  "kernelspec": {
   "display_name": "Python 3 (ipykernel)",
   "language": "python",
   "name": "python3"
  },
  "language_info": {
   "codemirror_mode": {
    "name": "ipython",
    "version": 3
   },
   "file_extension": ".py",
   "mimetype": "text/x-python",
   "name": "python",
   "nbconvert_exporter": "python",
   "pygments_lexer": "ipython3",
   "version": "3.11.5"
  }
 },
 "nbformat": 4,
 "nbformat_minor": 5
}
