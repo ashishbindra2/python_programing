{
 "cells": [
  {
   "cell_type": "code",
   "execution_count": 4,
   "id": "988d7e5d",
   "metadata": {},
   "outputs": [
    {
     "data": {
      "text/plain": [
       "['async.py', 'daemon.py', 'test_async.py']"
      ]
     },
     "execution_count": 4,
     "metadata": {},
     "output_type": "execute_result"
    }
   ],
   "source": [
    "from glob import glob\n",
    "\n",
    "glob('*.py')\n"
   ]
  },
  {
   "cell_type": "code",
   "execution_count": 6,
   "id": "20142ed5",
   "metadata": {
    "scrolled": true
   },
   "outputs": [
    {
     "data": {
      "text/plain": [
       "['abc.log',\n",
       " 'abc.txt',\n",
       " 'async.py',\n",
       " 'async.py.bak',\n",
       " 'AsyncIO.ipynb',\n",
       " 'Comprehensions.ipynb',\n",
       " 'daemon.py',\n",
       " 'exception_zero.log',\n",
       " 'file1.log',\n",
       " 'Genrator.ipynb',\n",
       " 'genric_log.log',\n",
       " 'glob.ipynb',\n",
       " 'helpful_module.ipynb',\n",
       " 'if.txt',\n",
       " 'Inhertance.ipynb',\n",
       " 'input.txt',\n",
       " 'interview.ipynb',\n",
       " 'logging.ipynb',\n",
       " 'mobile_number.txt',\n",
       " 'multiprocessing.ipynb',\n",
       " 'Multithreading.ipynb',\n",
       " 'mylog.txt',\n",
       " 'os module.ipynb',\n",
       " 'pillow.ipynb',\n",
       " 'Pydoc (Python Documentaion Tool).ipynb',\n",
       " 'python_3.8.ipynb',\n",
       " 'python_interview_1.ipynb',\n",
       " 'python_string_intervirew_1.ipynb',\n",
       " 'Random.ipynb',\n",
       " 'Regular Expression (re).ipynb',\n",
       " 'schedular.ipynb',\n",
       " 'String.ipynb',\n",
       " 'student.log',\n",
       " 'Task.ipynb',\n",
       " 'test.log',\n",
       " 'test_1.todo.txt',\n",
       " 'test_async.py',\n",
       " 'threading_concurrently.ipynb',\n",
       " 'time.ipynb',\n",
       " 'zip vs enumerate.ipynb']"
      ]
     },
     "execution_count": 6,
     "metadata": {},
     "output_type": "execute_result"
    }
   ],
   "source": [
    "glob('*.*')\n"
   ]
  },
  {
   "cell_type": "code",
   "execution_count": 7,
   "id": "633a1e62",
   "metadata": {
    "scrolled": true
   },
   "outputs": [
    {
     "data": {
      "text/plain": [
       "['abc.txt',\n",
       " 'if.txt',\n",
       " 'input.txt',\n",
       " 'mobile_number.txt',\n",
       " 'mylog.txt',\n",
       " 'test_1.todo.txt',\n",
       " 'dir2\\\\abc.txt',\n",
       " 'dir2\\\\if.txt',\n",
       " 'logging\\\\log.txt',\n",
       " 'test\\\\f1\\\\file_1.txt']"
      ]
     },
     "execution_count": 7,
     "metadata": {},
     "output_type": "execute_result"
    }
   ],
   "source": [
    "glob('**/*.txt', recursive=True)"
   ]
  },
  {
   "cell_type": "code",
   "execution_count": 8,
   "id": "b53e648b",
   "metadata": {
    "scrolled": true
   },
   "outputs": [
    {
     "data": {
      "text/plain": [
       "['.\\\\',\n",
       " '.\\\\dir2\\\\',\n",
       " '.\\\\dir2\\\\d1\\\\',\n",
       " '.\\\\logging\\\\',\n",
       " '.\\\\logging\\\\__pycache__\\\\',\n",
       " '.\\\\p\\\\',\n",
       " '.\\\\serialization\\\\',\n",
       " '.\\\\test\\\\',\n",
       " '.\\\\test\\\\f1\\\\',\n",
       " '.\\\\test\\\\f2\\\\',\n",
       " '.\\\\test\\\\img\\\\',\n",
       " '.\\\\test\\\\img\\\\Pillow\\\\',\n",
       " '.\\\\test\\\\img\\\\Pillow\\\\300\\\\',\n",
       " '.\\\\test\\\\img\\\\Pillow\\\\700\\\\',\n",
       " '.\\\\test\\\\img\\\\Pillow\\\\pngs\\\\',\n",
       " '.\\\\test\\\\img\\\\processed\\\\',\n",
       " '.\\\\test_quiz\\\\']"
      ]
     },
     "execution_count": 8,
     "metadata": {},
     "output_type": "execute_result"
    }
   ],
   "source": [
    "glob('./**/', recursive=True)"
   ]
  },
  {
   "cell_type": "code",
   "execution_count": 12,
   "id": "6b117237",
   "metadata": {},
   "outputs": [
    {
     "data": {
      "text/plain": [
       "['async.py', 'async.py.bak', 'daemon.py', 'test_async.py']"
      ]
     },
     "execution_count": 12,
     "metadata": {},
     "output_type": "execute_result"
    }
   ],
   "source": [
    "glob('*.p*')"
   ]
  },
  {
   "cell_type": "code",
   "execution_count": 26,
   "id": "1fddfa5f",
   "metadata": {},
   "outputs": [
    {
     "data": {
      "text/plain": [
       "['.ipynb_checkpoints']"
      ]
     },
     "execution_count": 26,
     "metadata": {},
     "output_type": "execute_result"
    }
   ],
   "source": [
    "glob('.i*')"
   ]
  }
 ],
 "metadata": {
  "kernelspec": {
   "display_name": "Python 3 (ipykernel)",
   "language": "python",
   "name": "python3"
  },
  "language_info": {
   "codemirror_mode": {
    "name": "ipython",
    "version": 3
   },
   "file_extension": ".py",
   "mimetype": "text/x-python",
   "name": "python",
   "nbconvert_exporter": "python",
   "pygments_lexer": "ipython3",
   "version": "3.11.5"
  }
 },
 "nbformat": 4,
 "nbformat_minor": 5
}
