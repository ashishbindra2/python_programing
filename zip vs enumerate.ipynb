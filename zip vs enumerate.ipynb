{
 "cells": [
  {
   "cell_type": "markdown",
   "id": "f41d232e",
   "metadata": {},
   "source": [
    "Q1) zip vs enumerate\n",
    "\n",
    "zip and enumerate are both built-in functions in Python that serve different purposes.\n",
    "\n",
    "zip function:\n",
    "---\n",
    "\n",
    "    zip takes two or more iterables as input and returns an iterator that generates tuples containing elements from the input iterables, paired together."
   ]
  },
  {
   "cell_type": "code",
   "execution_count": 2,
   "id": "fd417054",
   "metadata": {},
   "outputs": [
    {
     "name": "stdout",
     "output_type": "stream",
     "text": [
      "[(1, 'a'), (2, 'b'), (3, 'c')]\n"
     ]
    }
   ],
   "source": [
    "# Example: python Copy code\n",
    "    \n",
    "list1 = [1, 2, 3]\n",
    "list2 = ['a', 'b', 'c']\n",
    "\n",
    "zipped = zip(list1, list2)\n",
    "result = list(zipped)\n",
    "\n",
    "print(result)  # Output: [(1, 'a'), (2, 'b'), (3, 'c')]"
   ]
  },
  {
   "cell_type": "markdown",
   "id": "778bb467",
   "metadata": {},
   "source": [
    "zip stops creating tuples when the shortest input iterable is exhausted."
   ]
  },
  {
   "cell_type": "markdown",
   "id": "9695f051",
   "metadata": {},
   "source": [
    "enumerate function:\n",
    "---\n",
    "\n",
    "    enumerate is used to iterate over a sequence (such as a list) while keeping track of the index of the current item."
   ]
  },
  {
   "cell_type": "code",
   "execution_count": 3,
   "id": "82f5d507",
   "metadata": {},
   "outputs": [
    {
     "name": "stdout",
     "output_type": "stream",
     "text": [
      "0 apple\n",
      "1 banana\n",
      "2 orange\n"
     ]
    }
   ],
   "source": [
    "# Example: python Copy code\n",
    "my_list = ['apple', 'banana', 'orange']\n",
    "\n",
    "for index, value in enumerate(my_list):\n",
    "    print(index, value)"
   ]
  },
  {
   "cell_type": "code",
   "execution_count": 4,
   "id": "7f4a5277",
   "metadata": {},
   "outputs": [
    {
     "name": "stdout",
     "output_type": "stream",
     "text": [
      "1 apple\n",
      "2 banana\n",
      "3 orange\n"
     ]
    }
   ],
   "source": [
    "# You can also specify a start value for the index using the start parameter of enumerate.\n",
    "\n",
    "my_list = ['apple', 'banana', 'orange']\n",
    "\n",
    "for index, value in enumerate(my_list,start=1):\n",
    "    print(index, value)"
   ]
  },
  {
   "cell_type": "markdown",
   "id": "fca9dac8",
   "metadata": {},
   "source": [
    "In summary:\n",
    "---\n",
    "\n",
    "- Use zip when you want to combine elements from two or more iterables into tuples.\n",
    "- Use enumerate when you want to iterate over elements of a sequence while keeping track of their indices."
   ]
  },
  {
   "cell_type": "code",
   "execution_count": 5,
   "id": "08ebbda6",
   "metadata": {},
   "outputs": [
    {
     "name": "stdout",
     "output_type": "stream",
     "text": [
      "0 sravan java 78\n",
      "1 bobby python 100\n",
      "2 ojaswi R 97\n",
      "3 rohith cpp 89\n",
      "4 gnanesh bigdata 80\n"
     ]
    }
   ],
   "source": [
    "\n",
    "# create a list of names \n",
    "names = ['sravan', 'bobby', 'ojaswi', 'rohith', 'gnanesh'] \n",
    "  \n",
    "# create a list of subjects \n",
    "subjects = ['java', 'python', 'R', 'cpp', 'bigdata'] \n",
    "  \n",
    "# create a list of marks \n",
    "marks = [78, 100, 97, 89, 80] \n",
    "  \n",
    "# use enumerate() and zip() function \n",
    "# to iterate the lists \n",
    "for i, (names, subjects, marks) in enumerate(zip(names, subjects, marks)): \n",
    "    print(i, names, subjects, marks) \n"
   ]
  },
  {
   "cell_type": "code",
   "execution_count": null,
   "id": "5e9a086c",
   "metadata": {},
   "outputs": [],
   "source": []
  },
  {
   "cell_type": "code",
   "execution_count": null,
   "id": "61a94dea",
   "metadata": {},
   "outputs": [],
   "source": []
  }
 ],
 "metadata": {
  "kernelspec": {
   "display_name": "Python 3 (ipykernel)",
   "language": "python",
   "name": "python3"
  },
  "language_info": {
   "codemirror_mode": {
    "name": "ipython",
    "version": 3
   },
   "file_extension": ".py",
   "mimetype": "text/x-python",
   "name": "python",
   "nbconvert_exporter": "python",
   "pygments_lexer": "ipython3",
   "version": "3.11.5"
  }
 },
 "nbformat": 4,
 "nbformat_minor": 5
}
