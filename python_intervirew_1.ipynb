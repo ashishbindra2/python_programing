{
 "cells": [
  {
   "cell_type": "markdown",
   "id": "d421bfd4",
   "metadata": {},
   "source": [
    "Q1. Write a Program To REVERSE content of the given String by using slice operator?\n",
    "- input: ashish\n",
    "- output: hsihsa"
   ]
  },
  {
   "cell_type": "code",
   "execution_count": 1,
   "id": "ce5076cc",
   "metadata": {},
   "outputs": [
    {
     "name": "stdout",
     "output_type": "stream",
     "text": [
      "Enter Some String to Reverse:ashish\n",
      "hsihsa\n"
     ]
    }
   ],
   "source": [
    "s = input('Enter Some String to Reverse:')\n",
    "output = s[::-1]\n",
    "print(output)"
   ]
  },
  {
   "cell_type": "code",
   "execution_count": 43,
   "id": "1b2cc611",
   "metadata": {},
   "outputs": [
    {
     "name": "stdout",
     "output_type": "stream",
     "text": [
      "hsih\n"
     ]
    }
   ],
   "source": [
    "s =\"ashish\" #read -ve indexing then do\n",
    "# print(s[:-7:-1])\n",
    "print(s[5:1:-1])"
   ]
  },
  {
   "cell_type": "markdown",
   "id": "86863006",
   "metadata": {},
   "source": [
    "if step value is zero are you moving forword or backword"
   ]
  },
  {
   "cell_type": "markdown",
   "id": "1b55e8d6",
   "metadata": {},
   "source": [
    "Q2. Write a Program To REVERSE content of the given String by using reversed() function?"
   ]
  },
  {
   "cell_type": "code",
   "execution_count": 46,
   "id": "4a5616f0",
   "metadata": {},
   "outputs": [
    {
     "name": "stdout",
     "output_type": "stream",
     "text": [
      "asd\n",
      "<reversed object at 0x0000025A01FFD870>\n"
     ]
    }
   ],
   "source": [
    "s = input(\"Enter Some String to Reverse:\")\n",
    "r = reversed(s)\n",
    "print(r)"
   ]
  },
  {
   "cell_type": "code",
   "execution_count": 47,
   "id": "db44a837",
   "metadata": {},
   "outputs": [
    {
     "name": "stdout",
     "output_type": "stream",
     "text": [
      "Enter Some String to Reverse:asd\n",
      "<reversed object at 0x0000025A01F83400>\n",
      "dsa\n"
     ]
    }
   ],
   "source": [
    "s = input(\"Enter Some String to Reverse:\")\n",
    "r = reversed(s)\n",
    "print(r) # we are getting reversed object \n",
    "output= ''.join(r)\n",
    "print(output)"
   ]
  },
  {
   "cell_type": "code",
   "execution_count": 48,
   "id": "5911cae7",
   "metadata": {},
   "outputs": [
    {
     "name": "stdout",
     "output_type": "stream",
     "text": [
      "Enter Some String to Reverse:asdg hg\n",
      "gh gdsa"
     ]
    }
   ],
   "source": [
    "s = input(\"Enter Some String to Reverse:\")\n",
    "r = reversed(s)\n",
    "for v in r:\n",
    "    print(v,end='')"
   ]
  },
  {
   "cell_type": "markdown",
   "id": "b7e72be8",
   "metadata": {},
   "source": [
    "***Q3. Write a Program to REVERSE content of given String By uing while loop?***"
   ]
  },
  {
   "cell_type": "code",
   "execution_count": 52,
   "id": "af2346ba",
   "metadata": {},
   "outputs": [
    {
     "name": "stdout",
     "output_type": "stream",
     "text": [
      "Enter Some String to Reverse:asdfg\n",
      "gfdsa\n"
     ]
    }
   ],
   "source": [
    "s = input(\"Enter Some String to Reverse:\")\n",
    "output=''\n",
    "n = len(s)-1\n",
    "while(n>-1):\n",
    "    output = output+s[n]\n",
    "    n-=1\n",
    "print(output)"
   ]
  },
  {
   "cell_type": "markdown",
   "id": "94b13c82",
   "metadata": {},
   "source": [
    "***Q4. Write a Program to REVERSE order of words present in the given String?***"
   ]
  },
  {
   "cell_type": "code",
   "execution_count": 53,
   "id": "aa474c1d",
   "metadata": {},
   "outputs": [
    {
     "name": "stdout",
     "output_type": "stream",
     "text": [
      "Enter Some String to Reverse:asdfghj asdfgh hh \n",
      "hh asdfgh asdfghj\n"
     ]
    }
   ],
   "source": [
    "s = input(\"Enter Some String to Reverse:\")\n",
    "l = s.split()\n",
    "l1=l[::-1]\n",
    "output = ' '.join(l1)\n",
    "print(output)"
   ]
  },
  {
   "cell_type": "markdown",
   "id": "b78bf1db",
   "metadata": {},
   "source": [
    "***Q5. Write a Program to REVERSE internal contentvof each word?***"
   ]
  },
  {
   "cell_type": "code",
   "execution_count": 55,
   "id": "61629d3d",
   "metadata": {},
   "outputs": [
    {
     "name": "stdout",
     "output_type": "stream",
     "text": [
      "Enter Some String to Reverse:i am ashish\n",
      "i ma hsihsa\n"
     ]
    }
   ],
   "source": [
    "s = input(\"Enter Some String to Reverse:\")\n",
    "l = s.split()\n",
    "l1 = []\n",
    "for word in l:\n",
    "    l1.append(word[::-1])\n",
    "output = ' '.join(l1)\n",
    "print(output)"
   ]
  },
  {
   "cell_type": "markdown",
   "id": "616e7a21",
   "metadata": {},
   "source": [
    "***Q6. Write a Program to REVERSE internal contentv of every second word present int the given string?***"
   ]
  },
  {
   "cell_type": "code",
   "execution_count": 1,
   "id": "a76ab659",
   "metadata": {},
   "outputs": [
    {
     "name": "stdout",
     "output_type": "stream",
     "text": [
      "Enter Some String to Reverse:ashish bindra\n",
      "ashish ardnib\n"
     ]
    }
   ],
   "source": [
    "s = input(\"Enter Some String to Reverse:\")\n",
    "l = s.split()\n",
    "l1 = []\n",
    "i=0\n",
    "while i<len(l):\n",
    "    if i%2 == 0:\n",
    "        l1.append(l[i])\n",
    "    else:\n",
    "        l1.append(l[i][::-1])\n",
    "    i+=1\n",
    "output = ' '.join(l1)\n",
    "print(output)"
   ]
  },
  {
   "cell_type": "code",
   "execution_count": 5,
   "id": "465bb043",
   "metadata": {},
   "outputs": [
    {
     "name": "stdout",
     "output_type": "stream",
     "text": [
      "['ashish', 'ardnib']\n"
     ]
    }
   ],
   "source": [
    "s = \"ashish bindra\"\n",
    "l = s.split()\n",
    "l1=[]\n",
    "for i,word in enumerate(l):\n",
    "    if i%2==1:\n",
    "        l1.append(l[i][::-1])\n",
    "    else:\n",
    "        l1.append(l[i])\n",
    "print(l1)"
   ]
  },
  {
   "cell_type": "code",
   "execution_count": 8,
   "id": "54a99502",
   "metadata": {},
   "outputs": [
    {
     "data": {
      "text/plain": [
       "['ashish', 'ardnib']"
      ]
     },
     "execution_count": 8,
     "metadata": {},
     "output_type": "execute_result"
    }
   ],
   "source": [
    "s = \"ashish bindra\"\n",
    "l = s.split()\n",
    "l1=[l[i][::-1] if i%2==1 else l[i] for i,word in enumerate(l)]\n",
    "l1\n"
   ]
  },
  {
   "cell_type": "code",
   "execution_count": 9,
   "id": "bc1f6c16",
   "metadata": {},
   "outputs": [
    {
     "ename": "SyntaxError",
     "evalue": "invalid syntax (3624412214.py, line 3)",
     "output_type": "error",
     "traceback": [
      "\u001b[1;36m  Cell \u001b[1;32mIn[9], line 3\u001b[1;36m\u001b[0m\n\u001b[1;33m    l1=[l[i][::-1] for i,word in enumerate(l) if i%2==1 else l[i]  ]\u001b[0m\n\u001b[1;37m                                                        ^\u001b[0m\n\u001b[1;31mSyntaxError\u001b[0m\u001b[1;31m:\u001b[0m invalid syntax\n"
     ]
    }
   ],
   "source": []
  },
  {
   "cell_type": "code",
   "execution_count": null,
   "id": "9cd0fc36",
   "metadata": {},
   "outputs": [],
   "source": []
  }
 ],
 "metadata": {
  "kernelspec": {
   "display_name": "Python 3 (ipykernel)",
   "language": "python",
   "name": "python3"
  },
  "language_info": {
   "codemirror_mode": {
    "name": "ipython",
    "version": 3
   },
   "file_extension": ".py",
   "mimetype": "text/x-python",
   "name": "python",
   "nbconvert_exporter": "python",
   "pygments_lexer": "ipython3",
   "version": "3.11.5"
  }
 },
 "nbformat": 4,
 "nbformat_minor": 5
}
