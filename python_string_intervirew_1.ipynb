{
 "cells": [
  {
   "cell_type": "markdown",
   "id": "d421bfd4",
   "metadata": {},
   "source": [
    "Q1. Write a Program To REVERSE content of the given String by using slice operator?\n",
    "- input: ashish\n",
    "- output: hsihsa"
   ]
  },
  {
   "cell_type": "code",
   "execution_count": 1,
   "id": "ce5076cc",
   "metadata": {},
   "outputs": [
    {
     "name": "stdout",
     "output_type": "stream",
     "text": [
      "Enter Some String to Reverse:ashish\n",
      "hsihsa\n"
     ]
    }
   ],
   "source": [
    "s = input('Enter Some String to Reverse:')\n",
    "output = s[::-1]\n",
    "print(output)"
   ]
  },
  {
   "cell_type": "code",
   "execution_count": 43,
   "id": "1b2cc611",
   "metadata": {},
   "outputs": [
    {
     "name": "stdout",
     "output_type": "stream",
     "text": [
      "hsih\n"
     ]
    }
   ],
   "source": [
    "s =\"ashish\" #read -ve indexing then do\n",
    "# print(s[:-7:-1])\n",
    "print(s[5:1:-1])"
   ]
  },
  {
   "cell_type": "markdown",
   "id": "86863006",
   "metadata": {},
   "source": [
    "if step value is zero are you moving forword or backword"
   ]
  },
  {
   "cell_type": "markdown",
   "id": "1b55e8d6",
   "metadata": {},
   "source": [
    "Q2. Write a Program To REVERSE content of the given String by using reversed() function?"
   ]
  },
  {
   "cell_type": "code",
   "execution_count": 46,
   "id": "4a5616f0",
   "metadata": {},
   "outputs": [
    {
     "name": "stdout",
     "output_type": "stream",
     "text": [
      "asd\n",
      "<reversed object at 0x0000025A01FFD870>\n"
     ]
    }
   ],
   "source": [
    "s = input(\"Enter Some String to Reverse:\")\n",
    "r = reversed(s)\n",
    "print(r)"
   ]
  },
  {
   "cell_type": "code",
   "execution_count": 47,
   "id": "db44a837",
   "metadata": {},
   "outputs": [
    {
     "name": "stdout",
     "output_type": "stream",
     "text": [
      "Enter Some String to Reverse:asd\n",
      "<reversed object at 0x0000025A01F83400>\n",
      "dsa\n"
     ]
    }
   ],
   "source": [
    "s = input(\"Enter Some String to Reverse:\")\n",
    "r = reversed(s)\n",
    "print(r) # we are getting reversed object \n",
    "output= ''.join(r)\n",
    "print(output)"
   ]
  },
  {
   "cell_type": "code",
   "execution_count": 48,
   "id": "5911cae7",
   "metadata": {},
   "outputs": [
    {
     "name": "stdout",
     "output_type": "stream",
     "text": [
      "Enter Some String to Reverse:asdg hg\n",
      "gh gdsa"
     ]
    }
   ],
   "source": [
    "s = input(\"Enter Some String to Reverse:\")\n",
    "r = reversed(s)\n",
    "for v in r:\n",
    "    print(v,end='')"
   ]
  },
  {
   "cell_type": "markdown",
   "id": "b7e72be8",
   "metadata": {},
   "source": [
    "***Q3. Write a Program to REVERSE content of given String By uing while loop?***"
   ]
  },
  {
   "cell_type": "code",
   "execution_count": 52,
   "id": "af2346ba",
   "metadata": {},
   "outputs": [
    {
     "name": "stdout",
     "output_type": "stream",
     "text": [
      "Enter Some String to Reverse:asdfg\n",
      "gfdsa\n"
     ]
    }
   ],
   "source": [
    "s = input(\"Enter Some String to Reverse:\")\n",
    "output=''\n",
    "n = len(s)-1\n",
    "while(n>-1):\n",
    "    output = output+s[n]\n",
    "    n-=1\n",
    "print(output)"
   ]
  },
  {
   "cell_type": "markdown",
   "id": "94b13c82",
   "metadata": {},
   "source": [
    "***Q4. Write a Program to REVERSE order of words present in the given String?***"
   ]
  },
  {
   "cell_type": "code",
   "execution_count": 53,
   "id": "aa474c1d",
   "metadata": {},
   "outputs": [
    {
     "name": "stdout",
     "output_type": "stream",
     "text": [
      "Enter Some String to Reverse:asdfghj asdfgh hh \n",
      "hh asdfgh asdfghj\n"
     ]
    }
   ],
   "source": [
    "s = input(\"Enter Some String to Reverse:\")\n",
    "l = s.split()\n",
    "l1=l[::-1]\n",
    "output = ' '.join(l1)\n",
    "print(output)"
   ]
  },
  {
   "cell_type": "markdown",
   "id": "b78bf1db",
   "metadata": {},
   "source": [
    "***Q5. Write a Program to REVERSE internal contentvof each word?***"
   ]
  },
  {
   "cell_type": "code",
   "execution_count": 55,
   "id": "61629d3d",
   "metadata": {},
   "outputs": [
    {
     "name": "stdout",
     "output_type": "stream",
     "text": [
      "Enter Some String to Reverse:i am ashish\n",
      "i ma hsihsa\n"
     ]
    }
   ],
   "source": [
    "s = input(\"Enter Some String to Reverse:\")\n",
    "l = s.split()\n",
    "l1 = []\n",
    "for word in l:\n",
    "    l1.append(word[::-1])\n",
    "output = ' '.join(l1)\n",
    "print(output)"
   ]
  },
  {
   "cell_type": "markdown",
   "id": "c32b0316",
   "metadata": {},
   "source": [
    "***Q6. Write a Program to REVERSE internal contentv of every second word present int the given string?***"
   ]
  },
  {
   "cell_type": "code",
   "execution_count": 1,
   "id": "a76ab659",
   "metadata": {},
   "outputs": [
    {
     "name": "stdout",
     "output_type": "stream",
     "text": [
      "Enter Some String to Reverse:ashish bindra\n",
      "ashish ardnib\n"
     ]
    }
   ],
   "source": [
    "s = input(\"Enter Some String to Reverse:\")\n",
    "l = s.split()\n",
    "l1 = []\n",
    "i=0\n",
    "while i<len(l):\n",
    "    if i%2 == 0:\n",
    "        l1.append(l[i])\n",
    "    else:\n",
    "        l1.append(l[i][::-1])\n",
    "    i+=1\n",
    "output = ' '.join(l1)\n",
    "print(output)"
   ]
  },
  {
   "cell_type": "code",
   "execution_count": 5,
   "id": "465bb043",
   "metadata": {},
   "outputs": [
    {
     "name": "stdout",
     "output_type": "stream",
     "text": [
      "['ashish', 'ardnib']\n"
     ]
    }
   ],
   "source": [
    "s = \"ashish bindra\"\n",
    "l = s.split()\n",
    "l1=[]\n",
    "for i,word in enumerate(l):\n",
    "    if i%2==1:\n",
    "        l1.append(l[i][::-1])\n",
    "    else:\n",
    "        l1.append(l[i])\n",
    "print(l1)"
   ]
  },
  {
   "cell_type": "code",
   "execution_count": 8,
   "id": "54a99502",
   "metadata": {},
   "outputs": [
    {
     "data": {
      "text/plain": [
       "['ashish', 'ardnib']"
      ]
     },
     "execution_count": 8,
     "metadata": {},
     "output_type": "execute_result"
    }
   ],
   "source": [
    "s = \"ashish bindra\"\n",
    "l = s.split()\n",
    "l1=[l[i][::-1] if i%2==1 else l[i] for i,word in enumerate(l)]\n",
    "l1\n"
   ]
  },
  {
   "cell_type": "markdown",
   "id": "dbfa165d",
   "metadata": {},
   "source": [
    "***Q7. Write a Program to print the character present at even and odd index seperatly for givern string ?***"
   ]
  },
  {
   "cell_type": "code",
   "execution_count": 2,
   "id": "8fcfa41a",
   "metadata": {},
   "outputs": [
    {
     "name": "stdout",
     "output_type": "stream",
     "text": [
      "Enter Some String to Reverse:ashish\n",
      "Character present at even index:\n",
      "a\n",
      "h\n",
      "s\n",
      "Charater present at Odd Index:\n",
      "s\n",
      "i\n",
      "h\n"
     ]
    }
   ],
   "source": [
    "# 1 st way\n",
    "s = input(\"Enter Some String to Reverse:\")\n",
    "print('Character present at even index:')\n",
    "i=0\n",
    "while i<len(s):\n",
    "    print(s[i])\n",
    "    i+=2\n",
    "print('Charater present at Odd Index:')\n",
    "i=1\n",
    "while i<len(s):\n",
    "    print(s[i])\n",
    "    i+=2\n"
   ]
  },
  {
   "cell_type": "code",
   "execution_count": 4,
   "id": "9cd0fc36",
   "metadata": {},
   "outputs": [
    {
     "name": "stdout",
     "output_type": "stream",
     "text": [
      "Enter Some String to Reverse:ashish\n",
      "Character present at Even Index: ahs\n",
      "Character present at Even Index: ahs\n",
      "Character present at odd Index: sih\n"
     ]
    }
   ],
   "source": [
    "# 2nd way\n",
    "s = input(\"Enter Some String to Reverse:\")\n",
    "print('Character present at Even Index:',s[0::2])\n",
    "print('Character present at Even Index:',s[::2])\n",
    "print('Character present at odd Index:',s[1::2])\n",
    "\n"
   ]
  },
  {
   "cell_type": "markdown",
   "id": "d828f363",
   "metadata": {},
   "source": [
    "***Q8. Write a Program to merge charaters of 2 strings inti a single string by taking charater alternatively ?***"
   ]
  },
  {
   "cell_type": "code",
   "execution_count": 7,
   "id": "86990ca6",
   "metadata": {},
   "outputs": [
    {
     "name": "stdout",
     "output_type": "stream",
     "text": [
      "RTAEVJIA\n"
     ]
    }
   ],
   "source": [
    "# if strings are having same length:\n",
    "# -----------------------------------\n",
    "\n",
    "s1 = \"RAVI\"\n",
    "s2 = \"TEJA\"\n",
    "output=''\n",
    "i,j=0,0\n",
    "while i<len(s1) or j<len(s2):\n",
    "    output = output + s1[i]+s2[j]\n",
    "    i+=1\n",
    "    j+=1\n",
    "print(output)"
   ]
  },
  {
   "cell_type": "markdown",
   "id": "fce1e2cb",
   "metadata": {},
   "source": [
    "Note : The above program can work if the lengths of 2 strings are same."
   ]
  },
  {
   "cell_type": "code",
   "execution_count": 8,
   "id": "63731e07",
   "metadata": {},
   "outputs": [
    {
     "name": "stdout",
     "output_type": "stream",
     "text": [
      "Enter First Stringahs\n",
      "Enter Second Stringsih\n",
      "ashish\n"
     ]
    }
   ],
   "source": [
    "# if strings are having different length:\n",
    "# -----------------------------------\n",
    "\n",
    "s1 = input('Enter First String: ')\n",
    "s2 = input('Enter Second String: ')\n",
    "output=''\n",
    "i,j=0,0\n",
    "while i<len(s1) or j<len(s2):\n",
    "    if i<len(s1):\n",
    "        output = output + s1[i]\n",
    "        i+=1\n",
    "    if j<len(s2):\n",
    "        output = output + s2[j]\n",
    "        j+=1\n",
    "print(output)"
   ]
  },
  {
   "cell_type": "markdown",
   "id": "4a4514a5",
   "metadata": {},
   "source": [
    "***Q9. Write a Program to sort charaters of the strings, first alphabet symbols followed by digits?***\n",
    "- input: B4A1D3\n",
    "- output: ABD134"
   ]
  },
  {
   "cell_type": "code",
   "execution_count": 10,
   "id": "d3e9f6eb",
   "metadata": {},
   "outputs": [
    {
     "name": "stdout",
     "output_type": "stream",
     "text": [
      "ABD134\n"
     ]
    }
   ],
   "source": [
    "s = 'B4A1D3'\n",
    "alphabets = []\n",
    "digits = []\n",
    "for ch in s:\n",
    "    if ch.isalpha():\n",
    "        alphabets.append(ch)\n",
    "    else:\n",
    "        digits.append(ch)\n",
    "output = ''.join(sorted(alphabets) + sorted(digits))\n",
    "print(output)"
   ]
  },
  {
   "cell_type": "code",
   "execution_count": 12,
   "id": "afa9b6a7",
   "metadata": {},
   "outputs": [
    {
     "name": "stdout",
     "output_type": "stream",
     "text": [
      "ABD134\n"
     ]
    }
   ],
   "source": [
    "# alternative way\n",
    "# ---------------\n",
    "s = 'B4A1D3'\n",
    "alphabets = ''\n",
    "digits = ''\n",
    "for ch in s:\n",
    "    if ch.isalpha():\n",
    "        alphabets+=ch\n",
    "    else:\n",
    "        digits+=ch\n",
    "output = ''\n",
    "for ch in sorted(alphabets):\n",
    "    output=output+ch\n",
    "for ch in sorted(digits):\n",
    "    output=output + ch\n",
    "print(output)"
   ]
  },
  {
   "cell_type": "markdown",
   "id": "93d759db",
   "metadata": {},
   "source": [
    "***Q10. Write a Program for the following requirment?***\n",
    "- input: a4b3c2\n",
    "- output: aaaabbbcc"
   ]
  },
  {
   "cell_type": "code",
   "execution_count": 16,
   "id": "30116cb1",
   "metadata": {},
   "outputs": [
    {
     "name": "stdout",
     "output_type": "stream",
     "text": [
      "Enter some string where alphabet symbol should be followed by digit: a23b07\n",
      "aaaaabbbbbbb\n"
     ]
    }
   ],
   "source": [
    "s = input('Enter some string where alphabet symbol should be followed by digit: ')\n",
    "output = ''\n",
    "for ch in s:\n",
    "    if ch.isalpha():\n",
    "        x = ch\n",
    "    else:\n",
    "        d = int(ch)\n",
    "        output = output + x*d\n",
    "print(output)"
   ]
  },
  {
   "cell_type": "markdown",
   "id": "d080fe77",
   "metadata": {},
   "source": [
    "***Q11. WAP for the following requirment***\n",
    "- input: aaaabbbccz\n",
    "- output: 4a3b2c1z"
   ]
  },
  {
   "cell_type": "code",
   "execution_count": 20,
   "id": "115f2267",
   "metadata": {},
   "outputs": [
    {
     "name": "stdout",
     "output_type": "stream",
     "text": [
      "4a3b2c1z\n"
     ]
    }
   ],
   "source": [
    "s = 'aaaabbbccz'\n",
    "output = ''\n",
    "previous = s[0]\n",
    "c=1\n",
    "i=1\n",
    "while i<len(s):\n",
    "    if s[i] == previous:\n",
    "        c=c+1\n",
    "    else:\n",
    "        output = output+str(c)+previous\n",
    "        previous = s[i]\n",
    "        c = 1\n",
    "    if i == len(s) - 1:\n",
    "        output = output+str(c) + previous\n",
    "    i = i+1\n",
    "print(output)"
   ]
  },
  {
   "cell_type": "code",
   "execution_count": 21,
   "id": "b31199fb",
   "metadata": {},
   "outputs": [
    {
     "name": "stdout",
     "output_type": "stream",
     "text": [
      "a\n",
      "a\n",
      "a\n",
      "a\n",
      "b\n",
      "b\n",
      "b\n",
      "c\n",
      "c\n",
      "z\n"
     ]
    }
   ],
   "source": [
    "# s = 'aaaabbbccz'\n",
    "# output = ''\n",
    "# global p\n",
    "# p =''\n",
    "# c = 1\n",
    "# for i in s:\n",
    "#     if p == i:\n",
    "#         c+=1\n",
    "#     else:\n",
    "#         output = output + c \n",
    "#         p = i\n",
    "#         c = 1"
   ]
  },
  {
   "cell_type": "markdown",
   "id": "97c19858",
   "metadata": {},
   "source": [
    "***Q12. Write a Program for the following requirment?***\n",
    "- input: a4k3b2\n",
    "- output: aekndb"
   ]
  },
  {
   "cell_type": "markdown",
   "id": "d84f18eb",
   "metadata": {},
   "source": [
    "In this example the following two functions are required to use\n",
    "1. ord(): To find unicode value for the given character\n",
    "    eg: \n",
    "    - ord('a') --> 97\n",
    "2. chr(): To find corresponding character for the given unicode value\n",
    "    - chr(98) --> b"
   ]
  },
  {
   "cell_type": "code",
   "execution_count": 23,
   "id": "01fa44e1",
   "metadata": {},
   "outputs": [
    {
     "name": "stdout",
     "output_type": "stream",
     "text": [
      "aeknbd\n"
     ]
    }
   ],
   "source": [
    "s = 'a4k3b2'\n",
    "output = ''\n",
    "for ch in s:\n",
    "    if ch.isalpha():\n",
    "        x= ch\n",
    "        output = output + ch\n",
    "    else:\n",
    "        d = int(ch)\n",
    "        newc = chr(ord(x) + d)\n",
    "        output = output + newc\n",
    "print(output)"
   ]
  },
  {
   "cell_type": "markdown",
   "id": "924e7a99",
   "metadata": {},
   "source": [
    "***Q13. Write a program to remove duplicate characters from the given input string?***\n",
    "    \n",
    "    - input: aaaavvvhhhjjj\n",
    "    - output: avhj\n",
    "    "
   ]
  },
  {
   "cell_type": "code",
   "execution_count": 25,
   "id": "0c3ef4c4",
   "metadata": {},
   "outputs": [
    {
     "name": "stdout",
     "output_type": "stream",
     "text": [
      "AZBCHGJFSV\n"
     ]
    }
   ],
   "source": [
    "# 1st way\n",
    "# --------\n",
    "s='AAAAZZZZZBCHGGJBBCCBHGFFCSSSFVA'\n",
    "output=''\n",
    "\n",
    "for ch in s:\n",
    "    if ch not in output:\n",
    "        output = output + ch\n",
    "print(output)"
   ]
  },
  {
   "cell_type": "code",
   "execution_count": 27,
   "id": "aa6f999b",
   "metadata": {},
   "outputs": [
    {
     "name": "stdout",
     "output_type": "stream",
     "text": [
      "AZBCHGJFSV\n"
     ]
    }
   ],
   "source": [
    "# 2nd way\n",
    "# --------\n",
    "s='AAAAZZZZZBCHGGJBBCCBHGFFCSSSFVA'\n",
    "l=[]\n",
    "for ch in s:\n",
    "    if ch not in l:\n",
    "        l.append(ch)\n",
    "output = ''.join(l)\n",
    "print(output)"
   ]
  },
  {
   "cell_type": "code",
   "execution_count": 29,
   "id": "0b07cdb9",
   "metadata": {},
   "outputs": [
    {
     "name": "stdout",
     "output_type": "stream",
     "text": [
      "GACZFHJSVB\n"
     ]
    }
   ],
   "source": [
    "# 3ed way by using set (but no gurantee for the order):\n",
    "s='AAAAZZZZZBCHGGJBBCCBHGFFCSSSFVA'\n",
    "s1 = set(s)\n",
    "output =''.join(s1)\n",
    "print(output)"
   ]
  },
  {
   "cell_type": "markdown",
   "id": "d165e8cc",
   "metadata": {},
   "source": [
    "***Q14. Program to find the number of occurrences of each character present in the given string with count() method***"
   ]
  },
  {
   "cell_type": "code",
   "execution_count": null,
   "id": "24d8e4dc",
   "metadata": {},
   "outputs": [],
   "source": [
    "# By using cout() method and list\n"
   ]
  },
  {
   "cell_type": "code",
   "execution_count": 30,
   "id": "f29fcdb3",
   "metadata": {},
   "outputs": [
    {
     "name": "stdout",
     "output_type": "stream",
     "text": [
      "A occurrs 5 times\n",
      "B occurrs 4 times\n",
      "C occurrs 4 times\n",
      "F occurrs 3 times\n",
      "G occurrs 3 times\n",
      "H occurrs 2 times\n",
      "J occurrs 1 times\n",
      "S occurrs 3 times\n",
      "V occurrs 1 times\n",
      "Z occurrs 5 times\n"
     ]
    }
   ],
   "source": [
    "s='AAAAZZZZZBCHGGJBBCCBHGFFCSSSFVA'\n",
    "\n",
    "l = []\n",
    "for ch in s:\n",
    "    if ch not in l:\n",
    "        l.append(ch)\n",
    "for ch in sorted(l):\n",
    "    print(f'{ch} occurrs {s.count(ch)} times')"
   ]
  },
  {
   "cell_type": "code",
   "execution_count": 31,
   "id": "8292eff7",
   "metadata": {},
   "outputs": [
    {
     "name": "stdout",
     "output_type": "stream",
     "text": [
      "enter any string ashish\n",
      "a occurrs 1 times\n",
      "h occurrs 2 times\n",
      "i occurrs 1 times\n",
      "s occurrs 2 times\n"
     ]
    }
   ],
   "source": [
    "s = input(\"enter any string \")\n",
    "s1 = set(s)\n",
    "for ch in sorted(s1):\n",
    "    print(f'{ch} occurrs {s.count(ch)} times')"
   ]
  },
  {
   "cell_type": "markdown",
   "id": "4edd52b9",
   "metadata": {},
   "source": [
    "***Q15. Program to find the number of occurrences of each character present in the given string without sing count() method***"
   ]
  },
  {
   "cell_type": "code",
   "execution_count": 33,
   "id": "f4087400",
   "metadata": {},
   "outputs": [
    {
     "name": "stdout",
     "output_type": "stream",
     "text": [
      "A occurrs 5 times\n",
      "Z occurrs 5 times\n",
      "B occurrs 4 times\n",
      "C occurrs 4 times\n",
      "H occurrs 2 times\n",
      "G occurrs 3 times\n",
      "J occurrs 1 times\n",
      "F occurrs 3 times\n",
      "S occurrs 3 times\n",
      "V occurrs 1 times\n",
      "\n",
      "A occurrs 5 times\n",
      "B occurrs 4 times\n",
      "C occurrs 4 times\n",
      "F occurrs 3 times\n",
      "G occurrs 3 times\n",
      "H occurrs 2 times\n",
      "J occurrs 1 times\n",
      "S occurrs 3 times\n",
      "V occurrs 1 times\n",
      "Z occurrs 5 times\n"
     ]
    }
   ],
   "source": [
    "s='AAAAZZZZZBCHGGJBBCCBHGFFCSSSFVA'\n",
    "d ={}\n",
    "\n",
    "for ch in s:\n",
    "    d[ch] = d.get(ch,0) + 1\n",
    "for k,v in d.items():\n",
    "    print(f'{k} occurrs {v} times')\n",
    "print()\n",
    "#     for sorting propose:\n",
    "for k,v in sorted(d.items()):\n",
    "    print(f'{k} occurrs {v} times')"
   ]
  },
  {
   "cell_type": "markdown",
   "id": "0994a6c5",
   "metadata": {},
   "source": [
    "***Q16.Write a Program to find the number of occurrences of each vowel present in the given string?***"
   ]
  },
  {
   "cell_type": "code",
   "execution_count": 1,
   "id": "7a30fd9b",
   "metadata": {},
   "outputs": [
    {
     "name": "stdout",
     "output_type": "stream",
     "text": [
      "Enter some string to search for vowels:ashish\n",
      "a occures 1 times\n",
      "i occures 1 times\n"
     ]
    }
   ],
   "source": [
    "s = input('Enter some string to search for vowels:')\n",
    "v = ['a','e','i','o','u','A','E','I','O','U']\n",
    "d = {}\n",
    "\n",
    "for ch in s:\n",
    "    if ch in v:\n",
    "        d[ch] = d.get(ch,0) + 1\n",
    "for k,v in sorted(d.items()):\n",
    "    print(f'{k} occures {v} times')"
   ]
  },
  {
   "cell_type": "markdown",
   "id": "22d43813",
   "metadata": {},
   "source": [
    "***Q17.Write a Program to check whether the given two strings are anagrams or not?***"
   ]
  },
  {
   "cell_type": "markdown",
   "id": "8959eec1",
   "metadata": {},
   "source": [
    "Two strings are said to be anagrams iff both are having same content irrespective of characters position.\n",
    "\n",
    "e.g\n",
    "- lazy and zaly\n",
    "- SILENT and LISTEN\n",
    "- TRIANGLE and INTEGRAL\n"
   ]
  },
  {
   "cell_type": "code",
   "execution_count": 3,
   "id": "024452c8",
   "metadata": {},
   "outputs": [
    {
     "name": "stdout",
     "output_type": "stream",
     "text": [
      "Enter first string: lazy\n",
      "Enter second string: zaly\n",
      "The string are anagrams.\n"
     ]
    }
   ],
   "source": [
    "s1 = input(\"Enter first string: \")\n",
    "s2 = input(\"Enter second string: \")\n",
    "if(sorted(s1) == sorted(s2)):\n",
    "    print(\"The string are anagrams.\")\n",
    "else:\n",
    "    print(\"The strings are't anagrams.\")"
   ]
  },
  {
   "cell_type": "markdown",
   "id": "1c85dc1f",
   "metadata": {},
   "source": [
    "***Q18.Write a Program to check whether the strings is palindrome or not?***\n",
    "    \n",
    "    eg. level, malayalam, eye,.."
   ]
  },
  {
   "cell_type": "markdown",
   "id": "95db5b20",
   "metadata": {},
   "source": [
    "A string is said to be palindrome iff original string and its reversed strings are equal."
   ]
  },
  {
   "cell_type": "code",
   "execution_count": 4,
   "id": "4e76fa12",
   "metadata": {},
   "outputs": [
    {
     "name": "stdout",
     "output_type": "stream",
     "text": [
      "Enter Some string:level\n",
      "The given string is palindrome\n"
     ]
    }
   ],
   "source": [
    "s = input(\"Enter Some string:\")\n",
    "if s == s[::-1]:\n",
    "    print('The given string is palindrome')\n",
    "else:\n",
    "    print('The given string is not palindrome')"
   ]
  },
  {
   "cell_type": "markdown",
   "id": "13794dd4",
   "metadata": {},
   "source": [
    "***Q19. Program to generate words from the given input strings ny taking characters alternatively?***\n",
    "\n",
    "    inputs: s1 = 'abcdefg'\n",
    "            s2 = 'xyz'\n",
    "            s3 = '12345'\n",
    "    output: ax1, by2, cz3, d4 ,es, f, g"
   ]
  },
  {
   "cell_type": "code",
   "execution_count": 7,
   "id": "d9e1f1c0",
   "metadata": {},
   "outputs": [
    {
     "name": "stdout",
     "output_type": "stream",
     "text": [
      "ax1\n",
      "by2\n",
      "cz3\n",
      "d4\n",
      "e5\n",
      "f\n",
      "g\n"
     ]
    }
   ],
   "source": [
    "s1 = 'abcdefg'\n",
    "s2 = 'xyz'\n",
    "s3 = '12345'\n",
    "\n",
    "i=j=k=0\n",
    "while i< len(s1) or j<len(s2) or k<len(s3):\n",
    "    output = ''\n",
    "    if i< len(s1):\n",
    "        output = output + s1[i]\n",
    "        i+=1\n",
    "    if j< len(s2):\n",
    "        output = output + s2[j]\n",
    "        j+=1\n",
    "    if k< len(s3):\n",
    "        output = output + s3[k]\n",
    "        k+=1\n",
    "    print(output)"
   ]
  },
  {
   "cell_type": "markdown",
   "id": "11526ae0",
   "metadata": {},
   "source": [
    "\n",
    "1.    First convert the given string to “a11” i.e. write, character along with its frequency.\n",
    "2.    Then, change “a11” to “ab” because 11 is b in hexadecimal.\n",
    "3.    Then, finally reverse the string i.e “ba”.\n",
    "\n",
    "    `Input: S = “abc”\n",
    "    Output: 1c1b1a`"
   ]
  },
  {
   "cell_type": "code",
   "execution_count": 3,
   "id": "a2ab23ed",
   "metadata": {},
   "outputs": [
    {
     "name": "stdout",
     "output_type": "stream",
     "text": [
      "c\n",
      "b\n",
      "a\n"
     ]
    }
   ],
   "source": [
    "input_string = \"aabbcc\"\n",
    "frequecy = {}\n",
    "for i in input_string:\n",
    "    frequecy[i] = frequecy.get(i,0) + 1\n",
    "for k,v in reversed(frequecy.items()):\n",
    "    print(k)"
   ]
  },
  {
   "cell_type": "code",
   "execution_count": 1,
   "id": "226c4eca",
   "metadata": {
    "scrolled": true
   },
   "outputs": [
    {
     "name": "stdout",
     "output_type": "stream",
     "text": [
      "{'c': 2, 'b': 2, 'a': 2}\n"
     ]
    }
   ],
   "source": [
    "input_string = \"aabbcc\"\n",
    "frequecy = {}\n",
    "for i in reversed(input_string):\n",
    "    frequecy[i] = frequecy.get(i,0) + 1\n",
    "print(frequecy)"
   ]
  },
  {
   "cell_type": "code",
   "execution_count": 28,
   "id": "99ff7ce4",
   "metadata": {},
   "outputs": [
    {
     "name": "stdout",
     "output_type": "stream",
     "text": [
      "{\"c\": 2, \"b\": 2, \"a\": 2}\n"
     ]
    }
   ],
   "source": [
    "import json\n",
    "input_string = \"aabbcc\"\n",
    "frequecy = {}\n",
    "for i in reversed(input_string):\n",
    "    frequecy[i] = frequecy.get(i,0) + 1\n",
    "a = json.dumps(frequecy)\n",
    "print(a)"
   ]
  },
  {
   "cell_type": "markdown",
   "id": "bb4c9d47",
   "metadata": {},
   "source": [
    "`Input: str = “geEks” `\n",
    "`Output: 1 `\n",
    "- Either the first 2 characters can be converted to uppercase characters i.e. “GEEks” with 2 operations. \n",
    "- Or the third character can be converted to a lowercase character i.e. “geeks” with a single operation.\n",
    "\n",
    "    `Input: str = “geek” `\n",
    "    `Output: 0 `\n",
    "    \n",
    "- The string is already in the specified forma"
   ]
  }
 ],
 "metadata": {
  "kernelspec": {
   "display_name": "Python 3 (ipykernel)",
   "language": "python",
   "name": "python3"
  },
  "language_info": {
   "codemirror_mode": {
    "name": "ipython",
    "version": 3
   },
   "file_extension": ".py",
   "mimetype": "text/x-python",
   "name": "python",
   "nbconvert_exporter": "python",
   "pygments_lexer": "ipython3",
   "version": "3.11.5"
  }
 },
 "nbformat": 4,
 "nbformat_minor": 5
}
