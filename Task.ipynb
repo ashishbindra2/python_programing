{
 "cells": [
  {
   "cell_type": "markdown",
   "id": "8404eaa4",
   "metadata": {},
   "source": [
    "#### Q1. Gow to use ROT13 Encryption in python"
   ]
  },
  {
   "cell_type": "code",
   "execution_count": 25,
   "id": "4a9df7aa",
   "metadata": {
    "scrolled": true
   },
   "outputs": [
    {
     "name": "stdout",
     "output_type": "stream",
     "text": [
      "{1: 'a', 2: 'b', 3: 'c', 4: 'd', 5: 'e', 6: 'f', 7: 'g', 8: 'h', 9: 'i', 10: 'j', 11: 'k', 12: 'l', 13: 'm', 14: 'n', 15: 'o', 16: 'p', 17: 'q', 18: 'r', 19: 's', 20: 't', 21: 'u', 22: 'v', 23: 'w', 24: 'x', 25: 'y', 26: 'z', 27: 'A', 28: 'B', 29: 'C', 30: 'D', 31: 'E', 32: 'F', 33: 'G', 34: 'H', 35: 'I', 36: 'J', 37: 'K', 38: 'L', 39: 'M', 40: 'N', 41: 'O', 42: 'P', 43: 'Q', 44: 'R', 45: 'S', 46: 'T', 47: 'U', 48: 'V', 49: 'W', 50: 'X', 51: 'Y', 52: 'Z'}\n",
      "nuvu\n"
     ]
    }
   ],
   "source": [
    "s = 'ashish'\n",
    "\n",
    "lower_case = 'abcdefghijklmnopqrstuvwxyz'\n",
    "upper_case = 'ABCDEFGHIJKLMNOPQRSTUVWXYZ'\n",
    "\n",
    "\n",
    "encryption = ''\n",
    "for i in s:\n",
    "    encryption  = encryption +  aaski[i]+13\n",
    "print(encryption)"
   ]
  },
  {
   "cell_type": "code",
   "execution_count": 24,
   "id": "f9e13331",
   "metadata": {
    "scrolled": true
   },
   "outputs": [
    {
     "name": "stdout",
     "output_type": "stream",
     "text": [
      "Your message: asd\n",
      "abcdefghijklmnopqrstuvwxyz\n",
      "ABCDEFGHIJKLMNOPQRSTUVWXYZ\n",
      "Encrypted Message: nfq\n",
      "abcdefghijklmnopqrstuvwxyz\n",
      "ABCDEFGHIJKLMNOPQRSTUVWXYZ\n",
      "Decrypted_message Message: asd\n"
     ]
    }
   ],
   "source": [
    "import string\n",
    "\n",
    "def rot13_translator() -> dict:\n",
    "    lowercase: str = string.ascii_lowercase\n",
    "    uppercase: str = string.ascii_uppercase\n",
    "    \n",
    "    shift: int = 13\n",
    "    \n",
    "    shift_lowercase: str = lowercase[shift:] + lowercase[:shift]\n",
    "    shift_uppercase: str = uppercase[shift:] + uppercase[:shift]\n",
    "    #     print(str.maketrans(lowercase,uppercase))\n",
    "    \n",
    "    translator: dict = str.maketrans(lowercase + uppercase, shift_lowercase +shift_uppercase)\n",
    "    return translator\n",
    "\n",
    "def rot13(message: str) -> str:\n",
    "    table: dict = rot13_translator()\n",
    "    return message.translate(table)\n",
    "\n",
    "def main() -> None:\n",
    "    user_input: str = input('Your message: ')\n",
    "    \n",
    "    encrypted_message: str = rot13(user_input)\n",
    "    print(f'Encrypted Message: {encrypted_message}')\n",
    "          \n",
    "    decrypted_message: str = rot13(encrypted_message)\n",
    "    print(f'Decrypted_message Message: {decrypted_message}')\n",
    "main()"
   ]
  },
  {
   "cell_type": "code",
   "execution_count": 23,
   "id": "a018917e",
   "metadata": {},
   "outputs": [
    {
     "name": "stdout",
     "output_type": "stream",
     "text": [
      "Your message: Ashish\n",
      "Nfuvfu\n",
      "Ashish\n"
     ]
    }
   ],
   "source": [
    "import codecs\n",
    "\n",
    "def main() -> None:\n",
    "    user_input: str = input('Your message: ')\n",
    "    \n",
    "    encoded: str = codecs.encode(user_input,'rot13')\n",
    "    print(encoded)\n",
    "    \n",
    "    decoded: str = codecs.decode(encoded,'rot13')\n",
    "    print(decoded)\n",
    "main()"
   ]
  },
  {
   "cell_type": "markdown",
   "id": "50a0b163",
   "metadata": {},
   "source": [
    "#### \n",
    "Syntax: maketrans(str1, str2, str3) \n",
    "\n",
    "Parameters: \n",
    "\n",
    "str1: Specifies the list of characters that need to be replaced. \n",
    "str2: Specifies the list of characters with which the characters need to be replaced. \n",
    "str3: Specifies the list of characters that need to be deleted.\n",
    "Returns: Returns the translation table which specifies the conversions that can be used by translate()"
   ]
  },
  {
   "cell_type": "markdown",
   "id": "6147905e",
   "metadata": {},
   "source": [
    "#### using the Maketrans() and translate()  to remove the punctuation mark in the string#### "
   ]
  },
  {
   "cell_type": "code",
   "execution_count": 26,
   "id": "421f3f6b",
   "metadata": {},
   "outputs": [
    {
     "name": "stdout",
     "output_type": "stream",
     "text": [
      "Hello world This is a test\n"
     ]
    }
   ],
   "source": [
    "\n",
    "import string\n",
    " \n",
    "text = \"Hello, world! This is a test.\"\n",
    "table = str.maketrans(\"\", \"\", string.punctuation)\n",
    "translated_text = text.translate(table)\n",
    " \n",
    "print(translated_text) # Output: \"Hello world This is a test\""
   ]
  },
  {
   "cell_type": "markdown",
   "id": "af551e17",
   "metadata": {},
   "source": [
    "#### using the Maketrans() and translate()  to remove the vowels in the string"
   ]
  },
  {
   "cell_type": "code",
   "execution_count": null,
   "id": "c8016752",
   "metadata": {},
   "outputs": [],
   "source": [
    "\n",
    "text = \"Hello, world!\"\n",
    "vowels = \"aeiouAEIOU\"\n",
    "table = str.maketrans(\"\", \"\", vowels)\n",
    "translated_text = text.translate(table)\n",
    " \n",
    "print(translated_text) # Output: \"Hll, wrld!\""
   ]
  },
  {
   "cell_type": "markdown",
   "id": "d6adf5d6",
   "metadata": {},
   "source": [
    "#### Syntax: str.zfill(length)\n",
    "\n",
    "Parameters:  length: length is the length of the returned string from zfill() with ‘0’ digits filled to the leftside. "
   ]
  },
  {
   "cell_type": "markdown",
   "id": "fc41cebb",
   "metadata": {},
   "source": [
    "#### Syntax: string.splitlines([keepends])\n",
    "\n",
    "Parameters:\n",
    "\n",
    "keepends (optional): When set to True line breaks are included in the resulting list. This can be a number, specifying the position of line break or, can be any Unicode characters, like “\\n”, “\\r”, “\\r\\n”, etc as boundaries for strings.\n",
    "\n",
    "Return Value: \n",
    "\n",
    "Returns a list of the lines in the string, breaking at line boundaries."
   ]
  },
  {
   "cell_type": "code",
   "execution_count": null,
   "id": "80aa8b95",
   "metadata": {},
   "outputs": [],
   "source": []
  },
  {
   "cell_type": "code",
   "execution_count": null,
   "id": "06c8de54",
   "metadata": {},
   "outputs": [],
   "source": []
  }
 ],
 "metadata": {
  "kernelspec": {
   "display_name": "Python 3 (ipykernel)",
   "language": "python",
   "name": "python3"
  },
  "language_info": {
   "codemirror_mode": {
    "name": "ipython",
    "version": 3
   },
   "file_extension": ".py",
   "mimetype": "text/x-python",
   "name": "python",
   "nbconvert_exporter": "python",
   "pygments_lexer": "ipython3",
   "version": "3.11.5"
  }
 },
 "nbformat": 4,
 "nbformat_minor": 5
}
