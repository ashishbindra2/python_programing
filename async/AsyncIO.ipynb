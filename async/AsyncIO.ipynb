{
 "cells": [
  {
   "cell_type": "markdown",
   "id": "efa6af2c",
   "metadata": {},
   "source": [
    "### Async\n",
    "    Async IO stands for asynchronous in and out and is used primarily in IO bound tasks, such as for fetching data from APIs \n",
    "    - asynchronous means not at the same time \n",
    "    - opposite to synchornous which means at the same time\n",
    "    - asynchronous programing doesnot speed the execution of our code\n",
    "        0 it only allow to continous with other code while wait for result from an external source such as server or webpage.\n",
    "    -"
   ]
  },
  {
   "cell_type": "markdown",
   "id": "fea1c4d5",
   "metadata": {},
   "source": [
    "\n",
    "### \n",
    "- asyncio is built in package in python\n",
    "- using the keyword async infornt of any function to define it to be asynchronous"
   ]
  },
  {
   "cell_type": "code",
   "execution_count": 11,
   "id": "feb63f3b",
   "metadata": {},
   "outputs": [
    {
     "name": "stdout",
     "output_type": "stream",
     "text": [
      "{'a': 23, 'sd': 3453}\n",
      "nothing\n",
      "{'a': 23, 'sd': 3453}\n",
      "nothing\n",
      "{'a': 23, 'sd': 3453}\n",
      "nothing\n"
     ]
    },
    {
     "ename": "KeyboardInterrupt",
     "evalue": "",
     "output_type": "error",
     "traceback": [
      "\u001b[1;31m---------------------------------------------------------------------------\u001b[0m",
      "\u001b[1;31mKeyboardInterrupt\u001b[0m                         Traceback (most recent call last)",
      "Cell \u001b[1;32mIn[11], line 14\u001b[0m\n\u001b[0;32m     12\u001b[0m         \u001b[38;5;28mprint\u001b[39m(\u001b[38;5;124m\"\u001b[39m\u001b[38;5;124mnothing\u001b[39m\u001b[38;5;124m\"\u001b[39m)\n\u001b[0;32m     13\u001b[0m data_generator \u001b[38;5;241m=\u001b[39m scrape_data()\n\u001b[1;32m---> 14\u001b[0m \u001b[38;5;28;01mfor\u001b[39;00m i \u001b[38;5;129;01min\u001b[39;00m data_generator:\n\u001b[0;32m     15\u001b[0m     \u001b[38;5;28mprint\u001b[39m(i)\n\u001b[0;32m     16\u001b[0m \u001b[38;5;28mprint\u001b[39m(\u001b[38;5;124m\"\u001b[39m\u001b[38;5;124merror\u001b[39m\u001b[38;5;124m\"\u001b[39m)\n",
      "Cell \u001b[1;32mIn[11], line 5\u001b[0m, in \u001b[0;36mscrape_data\u001b[1;34m()\u001b[0m\n\u001b[0;32m      2\u001b[0m \u001b[38;5;28;01mdef\u001b[39;00m \u001b[38;5;21mscrape_data\u001b[39m():\n\u001b[0;32m      3\u001b[0m     \u001b[38;5;66;03m# Your scraping logic here\u001b[39;00m\n\u001b[0;32m      4\u001b[0m     \u001b[38;5;28;01mwhile\u001b[39;00m \u001b[38;5;28;01mTrue\u001b[39;00m:\n\u001b[1;32m----> 5\u001b[0m         time\u001b[38;5;241m.\u001b[39msleep(\u001b[38;5;241m1\u001b[39m)\n\u001b[0;32m      6\u001b[0m         \u001b[38;5;28;01myield\u001b[39;00m {\n\u001b[0;32m      7\u001b[0m         \u001b[38;5;124m\"\u001b[39m\u001b[38;5;124ma\u001b[39m\u001b[38;5;124m\"\u001b[39m:\u001b[38;5;241m23\u001b[39m,\n\u001b[0;32m      8\u001b[0m             \u001b[38;5;124m\"\u001b[39m\u001b[38;5;124msd\u001b[39m\u001b[38;5;124m\"\u001b[39m:\u001b[38;5;241m3453\u001b[39m\n\u001b[0;32m      9\u001b[0m         }\n\u001b[0;32m     10\u001b[0m         time\u001b[38;5;241m.\u001b[39msleep(\u001b[38;5;241m1\u001b[39m)\n",
      "\u001b[1;31mKeyboardInterrupt\u001b[0m: "
     ]
    }
   ],
   "source": [
    "import time\n",
    "def scrape_data():\n",
    "    # Your scraping logic here\n",
    "    while True:\n",
    "        time.sleep(1)\n",
    "        yield {\n",
    "        \"a\":23,\n",
    "            \"sd\":3453\n",
    "        }\n",
    "        time.sleep(1)\n",
    "        \n",
    "        print(\"nothing\")\n",
    "data_generator = scrape_data()\n",
    "for i in data_generator:\n",
    "    print(i)\n",
    "print(\"error\")"
   ]
  },
  {
   "cell_type": "code",
   "execution_count": 12,
   "id": "42c75be1",
   "metadata": {},
   "outputs": [],
   "source": [
    "from asyncio import Task\n",
    "from datetime import datetime"
   ]
  },
  {
   "cell_type": "code",
   "execution_count": 20,
   "id": "35558f2d",
   "metadata": {},
   "outputs": [
    {
     "name": "stdout",
     "output_type": "stream",
     "text": [
      "Fetching data...\n",
      "Data retrieved!\n",
      "Fetching data...\n",
      "Data retrieved!\n",
      "data1={'input': 1, 'start_time': '15:46:56', 'end_time': '15:46:59'}\n",
      "data2={'input': 2, 'start_time': '15:46:59', 'end_time': '15:47:02'}\n"
     ]
    }
   ],
   "source": [
    "import asyncio\n",
    "async def fetch_data(input_data: int) -> dict:\n",
    "    print('Fetching data...')\n",
    "    \n",
    "    start_time: datetime = datetime.now()\n",
    "    await asyncio.sleep(3)\n",
    "    end_time: datetime = datetime.now()\n",
    "    print(\"Data retrieved!\")\n",
    "    \n",
    "    return {\n",
    "        \"input\": input_data,\n",
    "        \"start_time\": f\"{start_time:%H:%M:%S}\",\n",
    "        \"end_time\": f\"{end_time:%H:%M:%S}\"\n",
    "    }\n",
    "        \n",
    "        \n",
    "async def main() -> None:\n",
    "    data1:dict = await fetch_data(1)\n",
    "    data2:dict = await fetch_data(2)\n",
    "    print(f'{data1=}')   \n",
    "    print(f'{data2=}')   \n",
    "\n",
    "# if __name__ == '__main__':\n",
    "# asyncio.run(main=main() )\n",
    "await main()"
   ]
  },
  {
   "cell_type": "code",
   "execution_count": null,
   "id": "28bede98",
   "metadata": {},
   "outputs": [],
   "source": [
    "# belo code mostly for requesting many api request at time it will not affact the speed of script"
   ]
  },
  {
   "cell_type": "code",
   "execution_count": 21,
   "id": "20a29240",
   "metadata": {
    "scrolled": true
   },
   "outputs": [
    {
     "name": "stdout",
     "output_type": "stream",
     "text": [
      "Fetching data...\n",
      "Fetching data...\n",
      "Data retrieved!\n",
      "Data retrieved!\n",
      "data1={'input': 1, 'start_time': '16:00:42', 'end_time': '16:00:45'}\n",
      "data2={'input': 2, 'start_time': '16:00:42', 'end_time': '16:00:45'}\n"
     ]
    }
   ],
   "source": [
    "import asyncio\n",
    "async def fetch_data(input_data: int) -> dict:\n",
    "    print('Fetching data...')\n",
    "    \n",
    "    start_time: datetime = datetime.now()\n",
    "    await asyncio.sleep(3)\n",
    "    end_time: datetime = datetime.now()\n",
    "    print(\"Data retrieved!\")\n",
    "    \n",
    "    return {\n",
    "        \"input\": input_data,\n",
    "        \"start_time\": f\"{start_time:%H:%M:%S}\",\n",
    "        \"end_time\": f\"{end_time:%H:%M:%S}\"\n",
    "    }\n",
    "        \n",
    "        \n",
    "async def main() -> None:\n",
    "    task1: Task[dict] = asyncio.create_task(fetch_data(1))\n",
    "    task2: Task[dict] = asyncio.create_task(fetch_data(2))\n",
    "    \n",
    "    data1:dict = await task1\n",
    "    data2:dict = await task2\n",
    "    print(f'{data1=}')   \n",
    "    print(f'{data2=}')   \n",
    "\n",
    "# if __name__ == '__main__':\n",
    "# asyncio.run(main=main() )\n",
    "await main()"
   ]
  },
  {
   "cell_type": "code",
   "execution_count": 25,
   "id": "7aae7828",
   "metadata": {
    "scrolled": true
   },
   "outputs": [
    {
     "name": "stdout",
     "output_type": "stream",
     "text": [
      "Fetching data...\n",
      "Running other code...\n",
      "Data retrieved!\n",
      "data={'input': 1, 'start_time': '16:38:54', 'end_time': '16:38:57'}\n"
     ]
    }
   ],
   "source": [
    "import asyncio\n",
    "async def fetch_data(input_data: int, *, delay:int) -> dict:\n",
    "    print('Fetching data...')\n",
    "    \n",
    "    start_time: datetime = datetime.now()\n",
    "    await asyncio.sleep(delay)\n",
    "    end_time: datetime = datetime.now()\n",
    "    print(\"Data retrieved!\")\n",
    "    \n",
    "    return {\n",
    "        \"input\": input_data,\n",
    "        \"start_time\": f\"{start_time:%H:%M:%S}\",\n",
    "        \"end_time\": f\"{end_time:%H:%M:%S}\"\n",
    "    }\n",
    "        \n",
    "        \n",
    "async def main() -> None:\n",
    "    task1: Task[dict] = asyncio.create_task(fetch_data(1, delay = 3))\n",
    "    await asyncio.sleep(1)\n",
    "    \n",
    "    print(\"Running other code...\")\n",
    "    \n",
    "    data:dict = await task1\n",
    "    print(f'{data=}')   \n",
    "\n",
    "# if __name__ == '__main__':\n",
    "# asyncio.run(main=main() )\n",
    "await main()"
   ]
  },
  {
   "cell_type": "code",
   "execution_count": 27,
   "id": "1fd3e3d8",
   "metadata": {
    "scrolled": true
   },
   "outputs": [
    {
     "name": "stdout",
     "output_type": "stream",
     "text": [
      "Fetching data...\n",
      "Task was cancelled...\n",
      "Took too long...\n",
      "True\n",
      "True\n"
     ]
    }
   ],
   "source": [
    "import asyncio\n",
    "async def fetch_data(input_data: int, *, delay:int) -> dict:\n",
    "    print('Fetching data...')\n",
    "    \n",
    "    start_time: datetime = datetime.now()\n",
    "    await asyncio.sleep(delay)\n",
    "    end_time: datetime = datetime.now()\n",
    "    print(\"Data retrieved!\")\n",
    "    \n",
    "    return {\n",
    "        \"input\": input_data,\n",
    "        \"start_time\": f\"{start_time:%H:%M:%S}\",\n",
    "        \"end_time\": f\"{end_time:%H:%M:%S}\"\n",
    "    }\n",
    "        \n",
    "        \n",
    "async def main() -> None:\n",
    "    task: Task[dict] = asyncio.create_task(fetch_data(1, delay = 3))\n",
    "    await asyncio.sleep(1)\n",
    "    task.cancel(msg=\"Took too long...\") \n",
    "    \n",
    "    try:\n",
    "        data: dict = await task\n",
    "        print(data)\n",
    "    except asyncio.CancelledError as e:\n",
    "        print('Task was cancelled...')\n",
    "        print(e)\n",
    "        print(task.cancelled())\n",
    "    print(task.cancelled())# it might return falsk beasuse it got no time\n",
    "\n",
    "# if __name__ == '__main__':\n",
    "# asyncio.run(main=main() )\n",
    "await main()"
   ]
  },
  {
   "cell_type": "markdown",
   "id": "51307228",
   "metadata": {},
   "source": [
    "short answer: Concurrency is two lines of customers ordering from a single cashier (lines take turns ordering);\n",
    "- Parallelism is two lines of customers ordering from two cashiers (each line ets its own cashier)"
   ]
  },
  {
   "cell_type": "code",
   "execution_count": null,
   "id": "e20e7e43",
   "metadata": {},
   "outputs": [],
   "source": [
    "asyncio "
   ]
  },
  {
   "cell_type": "code",
   "execution_count": null,
   "id": "c6150586",
   "metadata": {},
   "outputs": [],
   "source": [
    "gil (Global Interpreter Lock)\n",
    "whenever we run a python code its need to acquire a python interpreter lock"
   ]
  },
  {
   "cell_type": "code",
   "execution_count": 24,
   "id": "08a0199e",
   "metadata": {},
   "outputs": [],
   "source": [
    "import asyncio\n",
    "\n",
    "import requests\n",
    "\n",
    "# A few handy JSON types\n",
    "JSON = int | str | float | bool | None | dict[str, \"JSON\"] | list[\"JSON\"]\n",
    "JSONObject = dict[str, JSON]\n",
    "JSONList = list[JSON]\n",
    "\n",
    "\n",
    "def http_get_sync(url: str) -> JSONObject:\n",
    "    response = requests.get(url)\n",
    "    return response.json()\n",
    "\n",
    "\n",
    "async def http_get(url: str) -> JSONObject:\n",
    "    return await asyncio.to_thread(http_get_sync, url)"
   ]
  },
  {
   "cell_type": "code",
   "execution_count": 30,
   "id": "b96268d9",
   "metadata": {
    "scrolled": true
   },
   "outputs": [],
   "source": [
    "from random import randint\n",
    "# from req_http import http_get, http_get_sync\n",
    "\n",
    "MAX_POKEMON = 898\n",
    "\n",
    "def get_random_pokemon_name_sync() -> str:\n",
    "    pokemon_id = randint(2,MAX_POKEMON)\n",
    "    pokemon_url = f\"https://pokeapi.co/api/v2/pokemon/{pokemon_id}\"\n",
    "    pokemon = http_get_sync(pokemon_url)\n",
    "    print(pokemon.get(\"name\"))\n",
    "    return str(pokemon.get(\"name\"))\n",
    "\n",
    "async def get_random_pokemon_name() -> str:\n",
    "    pokemon_id = randint(2,MAX_POKEMON)\n",
    "    pokemon_url = f\"https://pokeapi.co/api/v2/pokemon/{pokemon_id}\"\n",
    "    pokemon = http_get(pokemon_url)\n",
    "    return str(pokemon[\"name\"])\n",
    "    \n"
   ]
  },
  {
   "cell_type": "code",
   "execution_count": 31,
   "id": "e5bdf967",
   "metadata": {},
   "outputs": [
    {
     "name": "stdout",
     "output_type": "stream",
     "text": [
      "bagon\n",
      "bagon\n"
     ]
    }
   ],
   "source": [
    "def main() -> None:\n",
    "    pokemon_name = get_random_pokemon_name_sync()\n",
    "    print(pokemon_name)\n",
    "main()"
   ]
  },
  {
   "cell_type": "code",
   "execution_count": 40,
   "id": "55f4f3ae",
   "metadata": {},
   "outputs": [
    {
     "name": "stderr",
     "output_type": "stream",
     "text": [
      "C:\\Users\\Bindra\\anaconda3\\Lib\\traceback.py:632: RuntimeWarning: coroutine 'main' was never awaited\n",
      "  yield textwrap.indent(text_gen, indent_str, lambda line: True)\n",
      "RuntimeWarning: Enable tracemalloc to get the object allocation traceback\n",
      "Task exception was never retrieved\n",
      "future: <Task finished name='Task-6' coro=<main() done, defined at C:\\Users\\Bindra\\AppData\\Local\\Temp\\ipykernel_10152\\2374295936.py:4> exception=TypeError(\"'coroutine' object is not subscriptable\")>\n",
      "Traceback (most recent call last):\n",
      "  File \"C:\\Users\\Bindra\\AppData\\Local\\Temp\\ipykernel_10152\\2374295936.py\", line 5, in main\n",
      "    pokemon_name = await get_random_pokemon_name()\n",
      "                   ^^^^^^^^^^^^^^^^^^^^^^^^^^^^^^^\n",
      "  File \"C:\\Users\\Bindra\\AppData\\Local\\Temp\\ipykernel_10152\\1042540093.py\", line 17, in get_random_pokemon_name\n",
      "    return str(pokemon[\"name\"])\n",
      "               ~~~~~~~^^^^^^^^\n",
      "TypeError: 'coroutine' object is not subscriptable\n",
      "C:\\Users\\Bindra\\AppData\\Local\\Temp\\ipykernel_10152\\2374295936.py:15: RuntimeWarning: coroutine 'http_get' was never awaited\n",
      "  task = loop.create_task(main())\n",
      "RuntimeWarning: Enable tracemalloc to get the object allocation traceback\n"
     ]
    }
   ],
   "source": [
    "import asyncio\n",
    "\n",
    "\n",
    "async def main() -> None:\n",
    "    pokemon_name = await get_random_pokemon_name()\n",
    "    print(pokemon_name)\n",
    "# asyncio.run(main())\n",
    "try:\n",
    "    loop = asyncio.get_running_loop()\n",
    "except RuntimeError:\n",
    "    loop = None\n",
    "\n",
    "if loop and loop.is_running():\n",
    "    # If the loop is already running, we create a new task for our async function\n",
    "    task = loop.create_task(main())\n",
    "else:\n",
    "    # If no loop is running, we run the event loop\n",
    "    asyncio.run(main())"
   ]
  }
 ],
 "metadata": {
  "kernelspec": {
   "display_name": "Python 3 (ipykernel)",
   "language": "python",
   "name": "python3"
  },
  "language_info": {
   "codemirror_mode": {
    "name": "ipython",
    "version": 3
   },
   "file_extension": ".py",
   "mimetype": "text/x-python",
   "name": "python",
   "nbconvert_exporter": "python",
   "pygments_lexer": "ipython3",
   "version": "3.11.5"
  }
 },
 "nbformat": 4,
 "nbformat_minor": 5
}
