{
 "cells": [
  {
   "cell_type": "code",
   "execution_count": null,
   "id": "933662ec",
   "metadata": {},
   "outputs": [],
   "source": [
    "!pip install flask_apscheduler"
   ]
  },
  {
   "cell_type": "code",
   "execution_count": 1,
   "id": "c1b6109b",
   "metadata": {},
   "outputs": [
    {
     "name": "stdout",
     "output_type": "stream",
     "text": [
      "Collecting apscheduler\n",
      "  Obtaining dependency information for apscheduler from https://files.pythonhosted.org/packages/13/b5/7af0cb920a476dccd612fbc9a21a3745fb29b1fcd74636078db8f7ba294c/APScheduler-3.10.4-py3-none-any.whl.metadata\n",
      "  Using cached APScheduler-3.10.4-py3-none-any.whl.metadata (5.7 kB)\n",
      "Requirement already satisfied: six>=1.4.0 in c:\\users\\bindra\\anaconda3\\lib\\site-packages (from apscheduler) (1.16.0)\n",
      "Requirement already satisfied: pytz in c:\\users\\bindra\\anaconda3\\lib\\site-packages (from apscheduler) (2023.3.post1)\n",
      "Collecting tzlocal!=3.*,>=2.0 (from apscheduler)\n",
      "  Obtaining dependency information for tzlocal!=3.*,>=2.0 from https://files.pythonhosted.org/packages/97/3f/c4c51c55ff8487f2e6d0e618dba917e3c3ee2caae6cf0fbb59c9b1876f2e/tzlocal-5.2-py3-none-any.whl.metadata\n",
      "  Using cached tzlocal-5.2-py3-none-any.whl.metadata (7.8 kB)\n",
      "Requirement already satisfied: tzdata in c:\\users\\bindra\\anaconda3\\lib\\site-packages (from tzlocal!=3.*,>=2.0->apscheduler) (2023.3)\n",
      "Using cached APScheduler-3.10.4-py3-none-any.whl (59 kB)\n",
      "Using cached tzlocal-5.2-py3-none-any.whl (17 kB)\n",
      "Installing collected packages: tzlocal, apscheduler\n",
      "Successfully installed apscheduler-3.10.4 tzlocal-5.2\n"
     ]
    }
   ],
   "source": [
    "!pip install apscheduler"
   ]
  },
  {
   "cell_type": "markdown",
   "id": "5840792f",
   "metadata": {},
   "source": [
    "APScheduler has four kinds of components:\n",
    "- triggers\n",
    "- job stores\n",
    "- executors\n",
    "- schedulers\n"
   ]
  },
  {
   "cell_type": "markdown",
   "id": "f50fbd13",
   "metadata": {},
   "source": [
    "1. Triggers\n",
    "\n",
    "    Triggers contain the scheduling logic. Each job has its own trigger which determines when the job should be run next. Beyond their initial configuration, triggers are completely stateless."
   ]
  },
  {
   "cell_type": "markdown",
   "id": "e432a45c",
   "metadata": {},
   "source": [
    "When you schedule a job, you need to choose a trigger for it. The trigger determines the logic by which the dates/times are calculated when the job will be run. APScheduler comes with three built-in trigger types:\n",
    "\n",
    "- date: use when you want to run the job just once at a certain point of time\n",
    "- interval: use when you want to run the job at fixed intervals of time\n",
    "- cron: use when you want to run the job periodically at certain time(s) of day\n"
   ]
  },
  {
   "cell_type": "markdown",
   "id": "519b0d90",
   "metadata": {},
   "source": [
    "Configuring the scheduler\n",
    "\n",
    "APScheduler provides many different ways to configure the scheduler. You can use a configuration dictionary or you can pass in the options as keyword arguments. You can also instantiate the scheduler first, add jobs and configure the scheduler afterwards. This way you get maximum flexibility for any environment."
   ]
  },
  {
   "cell_type": "code",
   "execution_count": 1,
   "id": "ba978c70",
   "metadata": {},
   "outputs": [],
   "source": [
    "from apscheduler.schedulers.background import BackgroundScheduler\n",
    "\n",
    "\n",
    "scheduler = BackgroundScheduler()\n",
    "\n",
    "# Initialize the rest of the application here, or before the scheduler initialization"
   ]
  },
  {
   "cell_type": "markdown",
   "id": "3543411a",
   "metadata": {},
   "source": [
    "After the scheduler has been started, you can no longer alter its settings."
   ]
  },
  {
   "cell_type": "markdown",
   "id": "a77cbcba",
   "metadata": {},
   "source": [
    "#### Adding jobs\n",
    "\n",
    "There are two ways to add jobs to a scheduler:\n",
    "- by calling add_job()\n",
    "- by decorating a function with scheduled_job()\n"
   ]
  },
  {
   "cell_type": "markdown",
   "id": "4d3a8e67",
   "metadata": {},
   "source": [
    "It is important to note that if you use an executor or job store that serializes the job, it will add a couple requirements on your job:\n",
    "\n",
    "- The target callable must be globally accessible\n",
    "- Any arguments to the callable must be serializable\n"
   ]
  },
  {
   "cell_type": "markdown",
   "id": "7e3f8477",
   "metadata": {},
   "source": [
    "If you schedule jobs in a persistent job store during your application’s initialization, you MUST define an explicit ID for the job and use replace_existing=True or you will get a new copy of the job every time your application restarts!"
   ]
  },
  {
   "cell_type": "markdown",
   "id": "86b10b7b",
   "metadata": {},
   "source": [
    "#### Removing jobs\n",
    "When you remove a job from the scheduler, it is removed from its associated job store and will not be executed anymore. There are two ways to make this happen:\n",
    "- by calling remove_job() with the job’s ID and job store alias\n",
    "- by calling remove() on the Job instance you got from add_job()\n"
   ]
  },
  {
   "cell_type": "markdown",
   "id": "9bb0e645",
   "metadata": {},
   "source": [
    "If the job’s schedule ends (i.e. its trigger doesn’t produce any further run times), it is automatically removed.\n"
   ]
  },
  {
   "cell_type": "code",
   "execution_count": null,
   "id": "d942ab28",
   "metadata": {},
   "outputs": [],
   "source": [
    "Example:\n",
    "\n",
    "job = scheduler.add_job(myfunc, 'interval', minutes=2)\n",
    "job.remove()"
   ]
  },
  {
   "cell_type": "markdown",
   "id": "8495f0bf",
   "metadata": {},
   "source": [
    "Same, using an explicit job ID:\n"
   ]
  },
  {
   "cell_type": "code",
   "execution_count": null,
   "id": "1a25a53e",
   "metadata": {},
   "outputs": [],
   "source": [
    "scheduler.add_job(myfunc, 'interval', minutes=2, id='my_job_id')\n",
    "scheduler.remove_job('my_job_id')"
   ]
  },
  {
   "cell_type": "code",
   "execution_count": null,
   "id": "88f1705f",
   "metadata": {},
   "outputs": [],
   "source": []
  }
 ],
 "metadata": {
  "kernelspec": {
   "display_name": "Python 3 (ipykernel)",
   "language": "python",
   "name": "python3"
  },
  "language_info": {
   "codemirror_mode": {
    "name": "ipython",
    "version": 3
   },
   "file_extension": ".py",
   "mimetype": "text/x-python",
   "name": "python",
   "nbconvert_exporter": "python",
   "pygments_lexer": "ipython3",
   "version": "3.11.5"
  }
 },
 "nbformat": 4,
 "nbformat_minor": 5
}
